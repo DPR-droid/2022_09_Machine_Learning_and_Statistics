{
 "cells": [
  {
   "cell_type": "markdown",
   "metadata": {},
   "source": [
    "# Machine Learning\n",
    "\n",
    "## Learning Exercise\n",
    "\n",
    "## Single Neuron\n",
    "\n",
    "***\n",
    "\n",
    "![Single_Neuron](https://raw.githubusercontent.com/DPR-droid/2022_09_Machine_Learning_and_Statistics/main/data/Single_Neuron.svg?raw=true)\n",
    "\n",
    "\n",
    "## Single Input\n",
    "\n",
    "***\n",
    "\n",
    "![Single_Input](https://raw.githubusercontent.com/DPR-droid/2022_09_Machine_Learning_and_Statistics/main/data/single_input.svg?raw=true)\n",
    "\n",
    "\n",
    "$$y = mx + c$$\n",
    "\n",
    "$$ \\phi (x) = x $$\n",
    "\n",
    "$$ \\phi (w_1 x_1 + w_0 (1)) = w_1  x_1 + w_0 $$\n"
   ]
  },
  {
   "cell_type": "code",
   "execution_count": 108,
   "metadata": {},
   "outputs": [],
   "source": [
    "# Numerical arrays.\n",
    "import numpy as np\n",
    "\n",
    "# Plotting.\n",
    "import matplotlib.pyplot as plt\n",
    "\n",
    "# Neural networks.\n",
    "import tensorflow.keras as keras"
   ]
  },
  {
   "cell_type": "code",
   "execution_count": 109,
   "metadata": {},
   "outputs": [],
   "source": [
    "# Identity activation function.\n",
    "def identity(x):\n",
    "    return x"
   ]
  },
  {
   "cell_type": "code",
   "execution_count": 110,
   "metadata": {},
   "outputs": [],
   "source": [
    "# Firing a neuron.\n",
    "def fire_neuron(x, w, phi):\n",
    "    return phi(np.sum(x * w))"
   ]
  },
  {
   "cell_type": "code",
   "execution_count": 111,
   "metadata": {},
   "outputs": [
    {
     "data": {
      "text/plain": [
       "(array([1., 4.]), array([2., 3.]))"
      ]
     },
     "execution_count": 111,
     "metadata": {},
     "output_type": "execute_result"
    }
   ],
   "source": [
    "# Our x values - always has to have 1.0 at index 0.\n",
    "x = np.array([1.0, 4.0])\n",
    "\n",
    "# Our weights.\n",
    "w = np.array([2.0, 3.0])\n",
    "\n",
    "x, w"
   ]
  },
  {
   "cell_type": "code",
   "execution_count": 112,
   "metadata": {},
   "outputs": [
    {
     "data": {
      "text/plain": [
       "14.0"
      ]
     },
     "execution_count": 112,
     "metadata": {},
     "output_type": "execute_result"
    }
   ],
   "source": [
    "fire_neuron(x, w, identity)"
   ]
  },
  {
   "cell_type": "markdown",
   "metadata": {},
   "source": [
    "## Data\n",
    "\n",
    "***"
   ]
  },
  {
   "cell_type": "code",
   "execution_count": 113,
   "metadata": {},
   "outputs": [
    {
     "data": {
      "text/plain": [
       "array([ 1.,  2.,  3.,  4.,  5.,  6.,  7.,  8.,  9., 10., 11., 12.])"
      ]
     },
     "execution_count": 113,
     "metadata": {},
     "output_type": "execute_result"
    }
   ],
   "source": [
    "# Real-world input values.\n",
    "data_in = np.arange(1.0, 13.0, 1.0)\n",
    "data_in"
   ]
  },
  {
   "cell_type": "code",
   "execution_count": 114,
   "metadata": {},
   "outputs": [
    {
     "data": {
      "text/plain": [
       "array([ 3.67792898,  7.2570694 , 11.092158  , 17.60780247, 20.02823056,\n",
       "       24.2539163 , 28.98223809, 30.87155674, 35.26206105, 40.92509503,\n",
       "       44.58657819, 46.57807929])"
      ]
     },
     "execution_count": 114,
     "metadata": {},
     "output_type": "execute_result"
    }
   ],
   "source": [
    "# Real-world output values.\n",
    "# We have set the out data as 4 times the input with some noise\n",
    "# The number we should be aiming for is 4\n",
    "data_out = 4.0 * data_in + np.random.normal(0.0, 1.0, len(data_in))\n",
    "data_out"
   ]
  },
  {
   "cell_type": "code",
   "execution_count": 115,
   "metadata": {},
   "outputs": [
    {
     "data": {
      "text/plain": [
       "[<matplotlib.lines.Line2D at 0x247303f1550>]"
      ]
     },
     "execution_count": 115,
     "metadata": {},
     "output_type": "execute_result"
    },
    {
     "data": {
      "image/png": "[encoded data removed]",
      "text/plain": [
       "<Figure size 640x480 with 1 Axes>"
      ]
     },
     "metadata": {},
     "output_type": "display_data"
    }
   ],
   "source": [
    "plt.plot(data_in, data_out, 'k.')"
   ]
  },
  {
   "cell_type": "markdown",
   "metadata": {},
   "source": [
    "## Training"
   ]
  },
  {
   "cell_type": "code",
   "execution_count": 116,
   "metadata": {},
   "outputs": [],
   "source": [
    "# An index in the data set.\n",
    "i = 5"
   ]
  },
  {
   "cell_type": "code",
   "execution_count": 117,
   "metadata": {},
   "outputs": [
    {
     "data": {
      "text/plain": [
       "(6.0, 24.253916297797122)"
      ]
     },
     "execution_count": 117,
     "metadata": {},
     "output_type": "execute_result"
    }
   ],
   "source": [
    "# Actual input/output pair from the real world.\n",
    "data_in[i], data_out[i]"
   ]
  },
  {
   "cell_type": "code",
   "execution_count": 118,
   "metadata": {},
   "outputs": [
    {
     "data": {
      "text/plain": [
       "6.0"
      ]
     },
     "execution_count": 118,
     "metadata": {},
     "output_type": "execute_result"
    }
   ],
   "source": [
    "# Initial weights.\n",
    "# the intial weight will be set to 1 \n",
    "w =  np.array([0.0, 1.0])\n",
    "\n",
    "# What the neuron currently outputs for the real-world input, based on current weights.\n",
    "fire_neuron(np.array([1.0, data_in[i]]), w, identity)"
   ]
  },
  {
   "cell_type": "code",
   "execution_count": 119,
   "metadata": {},
   "outputs": [
    {
     "data": {
      "text/plain": [
       "24.0"
      ]
     },
     "execution_count": 119,
     "metadata": {},
     "output_type": "execute_result"
    }
   ],
   "source": [
    "# The goal is to create an algorithm that updates w to move the output towards the real output.\n",
    "# The wieght should increase to find what was set above to as 4 \n",
    "w =  np.array([0.0, 4.0])\n",
    "\n",
    "# What the neuron could output for the real-world input, based on better weights.\n",
    "fire_neuron(np.array([1.0, data_in[i]]), w, identity)"
   ]
  },
  {
   "cell_type": "markdown",
   "metadata": {},
   "source": [
    "## Cost\n",
    "\n",
    "Improve the vector of W\n",
    "\n",
    "Predicted values of w"
   ]
  },
  {
   "cell_type": "code",
   "execution_count": 120,
   "metadata": {},
   "outputs": [],
   "source": [
    "# Usually use sum of squares.\n",
    "def cost(w, x, phi, y):\n",
    "    pred = fire_neuron(x, w, phi)\n",
    "    return (y - pred)**2"
   ]
  },
  {
   "cell_type": "code",
   "execution_count": 121,
   "metadata": {},
   "outputs": [],
   "source": [
    "# An index in the data set.\n",
    "i = 5"
   ]
  },
  {
   "cell_type": "code",
   "execution_count": 122,
   "metadata": {},
   "outputs": [
    {
     "data": {
      "text/plain": [
       "333.2054602069834"
      ]
     },
     "execution_count": 122,
     "metadata": {},
     "output_type": "execute_result"
    }
   ],
   "source": [
    "# Cost of initial w.\n",
    "w = np.array([0.0, 1.0])\n",
    "\n",
    "cost(w, data_in[i], identity, data_out[i])"
   ]
  },
  {
   "cell_type": "code",
   "execution_count": 123,
   "metadata": {},
   "outputs": [
    {
     "data": {
      "text/plain": [
       "0.06447348628699691"
      ]
     },
     "execution_count": 123,
     "metadata": {},
     "output_type": "execute_result"
    }
   ],
   "source": [
    "# Cost of a \"better\" w.\n",
    "w = np.array([0.0, 4.0])\n",
    "\n",
    "cost(w, data_in[i], identity, data_out[i])"
   ]
  },
  {
   "cell_type": "markdown",
   "metadata": {},
   "source": [
    "## Training\n",
    "\n",
    "To improve the weights of w1 not w0\n",
    "\n",
    "Cost function reduce a w improves"
   ]
  },
  {
   "cell_type": "code",
   "execution_count": 124,
   "metadata": {},
   "outputs": [],
   "source": [
    "# Hyperparameter.\n",
    "# In machine learning, a hyperparameter is a parameter whose value is used to control the learning process. By contrast, the values of other parameters (typically node weights) are derived via training. \n",
    "# https://en.wikipedia.org/wiki/Hyperparameter_(machine_learning)\n",
    "# adding the learning_rate to w (weights) \n",
    "\n",
    "learning_rate = 0.001"
   ]
  },
  {
   "cell_type": "code",
   "execution_count": 125,
   "metadata": {},
   "outputs": [],
   "source": [
    "def train_neuron(x, y, w, phi):\n",
    "    # The possible adjustment to the weights.\n",
    "    adjust = np.array([0.0, learning_rate])\n",
    "    # Calculate the current cost.\n",
    "    current = cost(w, x, phi, y)\n",
    "    # Calculate the cost with slight adjustment to the weights.\n",
    "    adding = cost(w + adjust, x, phi, y)\n",
    "    # If the adjusted weights lower the cost, update the weights.\n",
    "    if adding < current:\n",
    "        w = w + adjust\n",
    "    # Otherwise move in the other direction.\n",
    "    else:\n",
    "        w = w - adjust\n",
    "    return w"
   ]
  },
  {
   "cell_type": "code",
   "execution_count": 126,
   "metadata": {},
   "outputs": [
    {
     "data": {
      "text/plain": [
       "array([0., 1.])"
      ]
     },
     "execution_count": 126,
     "metadata": {},
     "output_type": "execute_result"
    }
   ],
   "source": [
    "# Set some initial weights.\n",
    "w = np.array([0.0, 1.0])\n",
    "w"
   ]
  },
  {
   "cell_type": "code",
   "execution_count": 127,
   "metadata": {},
   "outputs": [
    {
     "data": {
      "text/plain": [
       "(6.0, 24.253916297797122)"
      ]
     },
     "execution_count": 127,
     "metadata": {},
     "output_type": "execute_result"
    }
   ],
   "source": [
    "# The training values.\n",
    "# We have an input of our real world value 6 \n",
    "# Then the output of our real world value of 24.263911860025733\n",
    "data_in[i], data_out[i]"
   ]
  },
  {
   "cell_type": "code",
   "execution_count": 128,
   "metadata": {},
   "outputs": [
    {
     "data": {
      "text/plain": [
       "6.0"
      ]
     },
     "execution_count": 128,
     "metadata": {},
     "output_type": "execute_result"
    }
   ],
   "source": [
    "# Current neuron output for data_in[i].\n",
    "fire_neuron(np.array([1.0, data_in[i]]), w, identity)"
   ]
  },
  {
   "cell_type": "code",
   "execution_count": 129,
   "metadata": {},
   "outputs": [
    {
     "data": {
      "text/plain": [
       "array([0.   , 1.001])"
      ]
     },
     "execution_count": 129,
     "metadata": {},
     "output_type": "execute_result"
    }
   ],
   "source": [
    "# Nudge the weights towards better values.\n",
    "# If the nueron is improved the learning_rate is added\n",
    "#  w = array([0., 1.])\n",
    "# this makes w now = array([0.   , 1.001])\n",
    "w_improved = train_neuron(data_in[i], data_out[i], w, identity)\n",
    "w_improved"
   ]
  },
  {
   "cell_type": "code",
   "execution_count": 130,
   "metadata": {},
   "outputs": [
    {
     "data": {
      "text/plain": [
       "6.005999999999999"
      ]
     },
     "execution_count": 130,
     "metadata": {},
     "output_type": "execute_result"
    }
   ],
   "source": [
    "# Current neuron output for data_in[i].\n",
    "fire_neuron(np.array([1.0, data_in[i]]), w_improved, identity)"
   ]
  },
  {
   "cell_type": "markdown",
   "metadata": {},
   "source": [
    "Now create a loop through each of the data points, \n",
    "\n",
    "As the loop w increases and ends up close to the number 4\n",
    "\n",
    "Test:\n",
    "\n",
    " - array([0.   , 4.094])\n",
    " - array([0.   , 3.982])\n",
    " - array([0.   , 3.996])"
   ]
  },
  {
   "cell_type": "code",
   "execution_count": 131,
   "metadata": {},
   "outputs": [
    {
     "data": {
      "text/plain": [
       "array([0.   , 3.918])"
      ]
     },
     "execution_count": 131,
     "metadata": {},
     "output_type": "execute_result"
    }
   ],
   "source": [
    "# Set some initial weights.\n",
    "w = np.array([0.0, 1.0])\n",
    "\n",
    "# Loop several times.\n",
    "for epoch in range(10000):\n",
    "    for i in range(len(data_in)):\n",
    "        w = train_neuron(data_in[i], data_out[i], w, identity)\n",
    "\n",
    "# Show w.\n",
    "w"
   ]
  },
  {
   "cell_type": "code",
   "execution_count": 132,
   "metadata": {},
   "outputs": [
    {
     "data": {
      "text/plain": [
       "array([ 3.99380205, -0.03282045])"
      ]
     },
     "execution_count": 132,
     "metadata": {},
     "output_type": "execute_result"
    }
   ],
   "source": [
    "# Check with polyfit this provises y as well which should be zero.\n",
    "np.polyfit(data_in,data_out, 1)"
   ]
  },
  {
   "cell_type": "markdown",
   "metadata": {},
   "source": [
    "To outsource the process above, This is the reason why we use Keras and tensorflow."
   ]
  },
  {
   "cell_type": "markdown",
   "metadata": {},
   "source": [
    "## Using Keras\n",
    "\n",
    "***\n",
    "\n",
    "To get it time to do something useful is an art.\n",
    "Conversions from statistic to machine learning.\n",
    "\n",
    "Keras has alot more infomration on the readme of thier github page\n",
    "https://github.com/keras-team/keras\n",
    "\n",
    " - Being able to go from idea to result as fast as possible is key to doing good research.\n",
    "\n",
    "TensorFlow 2 is an end-to-end, open-source machine learning platform. You can think of it as an infrastructure layer for differentiable programming. It combines four key abilities:\n",
    "- Efficiently executing low-level tensor operations on CPU, GPU, or TPU\n",
    "- Computing the gradient of arbitrary differentiable expressions.\n",
    "- Scaling computation to many devices, such as clusters of hundreds of GPUs.\n",
    "- Exporting programs (\"graphs\") to external runtimes such as servers, browsers, mobile and embedded devices.\n",
    "\n",
    "TensorFlow is a suite of tools, Keras sits on top.\n",
    "\n",
    "\n",
    "https://keras.io/getting_started/\n",
    "https://keras.io/getting_started/ecosystem/\n",
    "\n",
    "https://keras.io/guides/sequential_model/\n"
   ]
  },
  {
   "cell_type": "markdown",
   "metadata": {},
   "source": [
    "## Using TensorFlow\n",
    "\n",
    "https://www.tensorflow.org/\n",
    "\n",
    "This can be installed by itself \n",
    "\n",
    "https://www.tensorflow.org/install\n",
    "\n",
    "Can install via pip\n",
    "\n",
    "For the course we use conda to install with a simple command.\n",
    "\n",
    "conda install tensorflow\n",
    "\n",
    "\n",
    "What is a tensor?\n",
    "https://en.wikipedia.org/wiki/Tensor\n",
    "Vectors row of number or list of number\n",
    "Metric is several row or list of numbers\n",
    "A tensor may be represented as an array (potentially multidimensional). Just as a vector in an n-dimensional space is represented by a one-dimensional array with n components with respect to a given basis, any tensor with respect to a basis is represented by a multidimensional array. For example, a linear operator is represented in a basis as a two-dimensional square n × n array. The numbers in the multidimensional array are known as the scalar components of the tensor or simply its components. They are denoted by indices giving their position in the array, as subscripts and superscripts, following the symbolic name of the tensor. \n",
    "\n",
    "\n",
    "https://numpy.org/\n",
    "\n",
    "Powerful N-dimensional arrays\n",
    "Fast and versatile, the NumPy vectorization, indexing, and broadcasting concepts are the de-facto standards of array computing today.\n",
    "\n",
    "https://numpy.org/devdocs/user/absolute_beginners.html\n",
    "\n",
    "The NumPy library contains multidimensional array and matrix data structures (you’ll find more information about this in later sections). It provides ndarray, a homogeneous n-dimensional array object, with methods to efficiently operate on it.\n",
    "\n",
    "Numpy is effiient at ndarray \n",
    "\n",
    "\n",
    "https://www.dictionary.com/e/homogeneous-vs-heterogeneous/\n",
    "\n",
    "What is homogenous and example?\n",
    "Image result for homogenous\n",
    "Homogeneous mixtures are uniform in structure or composition\n",
    "\n",
    "\n",
    "https://en.wikipedia.org/wiki/Directed_graph\n",
    "Directed_graph.png\n",
    "\n",
    "\n",
    "https://en.wikipedia.org/wiki/Dataflow_programming\n",
    "\n",
    "\n",
    "https://www.easy-tensorflow.com/tf-tutorials/basics/graph-and-session\n",
    "tensorflowgraph.png\n",
    "\n",
    "Input are the tensors, with the operations applied to them, building up tensors which are multi dimensional arrays.\n",
    "\n",
    "TensorFlows are just building a graph, different operation.\n",
    "\n",
    "Tensors tend to use the GPU.\n",
    "\n",
    "Keras is much higher level, provides a easy way to not think about the tensorflows under the hood.\n",
    "\n",
    "\n",
    "### Using Keras example from the github\n",
    "\n",
    "https://github.com/keras-team/keras\n",
    "\n",
    "First contact with Keras"
   ]
  },
  {
   "cell_type": "markdown",
   "metadata": {},
   "source": [
    "https://github.com/microsoft/vscode-jupyter/wiki/Kernel-crashes\n",
    "\n",
    "Canceled future for execute_request message before replies were done\n",
    "The Kernel crashed while executing code in the the current cell or a previous cell. Please review the code in the cell(s) to identify a possible cause of the failure. Click here for more info. View Jupyter log for further details.\n",
    "\n",
    " https://stackoverflow.com/a/53014308\n",
    "\n",
    "import os\n",
    "os.environ[\"KMP_DUPLICATE_LIB_OK\"]=\"TRUE\""
   ]
  },
  {
   "cell_type": "code",
   "execution_count": 133,
   "metadata": {},
   "outputs": [],
   "source": [
    "# Horrible hack from: https://stackoverflow.com/a/53014308\n",
    "import os\n",
    "os.environ[\"KMP_DUPLICATE_LIB_OK\"]=\"TRUE\"\n"
   ]
  },
  {
   "cell_type": "code",
   "execution_count": 134,
   "metadata": {},
   "outputs": [],
   "source": [
    "# Create a new sequential neural network.\n",
    "model = keras.Sequential()"
   ]
  },
  {
   "cell_type": "code",
   "execution_count": 135,
   "metadata": {},
   "outputs": [],
   "source": [
    "# Add a dense layer with 64 neurons and use the relu activation function.\n",
    "model.add(keras.layers.Dense(units=64, activation='relu'))"
   ]
  },
  {
   "cell_type": "code",
   "execution_count": 136,
   "metadata": {},
   "outputs": [],
   "source": [
    "# Add a dense layer with 10 neurons and the softmax activation function.\n",
    "model.add(keras.layers.Dense(units=10, activation='softmax'))"
   ]
  },
  {
   "cell_type": "code",
   "execution_count": 137,
   "metadata": {},
   "outputs": [],
   "source": [
    "# Compile the neural network.\n",
    "model.compile(loss='categorical_crossentropy', optimizer='sgd', metrics=['accuracy'])"
   ]
  },
  {
   "cell_type": "code",
   "execution_count": 138,
   "metadata": {},
   "outputs": [],
   "source": [
    "# Create a fake training data set.\n",
    "x_train = np.random.normal(0.0, 1.0, (100, 64))\n",
    "y_train = np.random.normal(0.5, 0.1, (100, 10))"
   ]
  },
  {
   "cell_type": "code",
   "execution_count": 139,
   "metadata": {},
   "outputs": [
    {
     "name": "stdout",
     "output_type": "stream",
     "text": [
      "Epoch 1/5\n",
      "4/4 [==============================] - 0s 1ms/step - loss: 13.4321 - accuracy: 0.0600\n",
      "Epoch 2/5\n",
      "4/4 [==============================] - 0s 2ms/step - loss: 13.3462 - accuracy: 0.0600\n",
      "Epoch 3/5\n",
      "4/4 [==============================] - 0s 2ms/step - loss: 13.2849 - accuracy: 0.0500\n",
      "Epoch 4/5\n",
      "4/4 [==============================] - 0s 2ms/step - loss: 13.2250 - accuracy: 0.0500\n",
      "Epoch 5/5\n",
      "4/4 [==============================] - 0s 1ms/step - loss: 13.1766 - accuracy: 0.0500\n"
     ]
    },
    {
     "data": {
      "text/plain": [
       "<keras.callbacks.History at 0x247304a6850>"
      ]
     },
     "execution_count": 139,
     "metadata": {},
     "output_type": "execute_result"
    }
   ],
   "source": [
    "# Train the neural network. \n",
    "# epochs id the number of times go over the training dataset \n",
    "# batch_size go over the taining set 32 time\n",
    "model.fit(x_train, y_train, epochs=5, batch_size=32)"
   ]
  },
  {
   "cell_type": "code",
   "execution_count": 140,
   "metadata": {},
   "outputs": [],
   "source": [
    "# Create a fake training data set.\n",
    "x_test = np.random.normal(0.0, 1.0, (10, 64))\n",
    "y_test = np.random.normal(0.5, 0.1, (10, 10))"
   ]
  },
  {
   "cell_type": "code",
   "execution_count": 141,
   "metadata": {},
   "outputs": [
    {
     "name": "stdout",
     "output_type": "stream",
     "text": [
      "1/1 [==============================] - 0s 132ms/step - loss: 12.7388 - accuracy: 0.3000\n"
     ]
    }
   ],
   "source": [
    "# Evaluate the network.\n",
    "loss_and_metrics = model.evaluate(x_test, y_test, batch_size=128)"
   ]
  },
  {
   "cell_type": "code",
   "execution_count": 142,
   "metadata": {},
   "outputs": [
    {
     "name": "stdout",
     "output_type": "stream",
     "text": [
      "1/1 [==============================] - 0s 48ms/step\n"
     ]
    }
   ],
   "source": [
    "# Make predictions for the test set.\n",
    "classes = model.predict(x_test, batch_size=128)"
   ]
  },
  {
   "cell_type": "code",
   "execution_count": 143,
   "metadata": {},
   "outputs": [
    {
     "data": {
      "text/plain": [
       "array([[0.07866715, 0.07496887, 0.01841225, 0.07431408, 0.13339731,\n",
       "        0.1313711 , 0.18066528, 0.03506715, 0.19717872, 0.07595806],\n",
       "       [0.0497275 , 0.04011749, 0.01023495, 0.07067879, 0.19270399,\n",
       "        0.16821715, 0.28779104, 0.05828061, 0.01174988, 0.11049858],\n",
       "       [0.02242211, 0.0365527 , 0.0070696 , 0.22449261, 0.04551483,\n",
       "        0.07189406, 0.28735945, 0.03107585, 0.20861828, 0.06500045],\n",
       "       [0.01780004, 0.1438425 , 0.02626756, 0.24493916, 0.10450444,\n",
       "        0.11985846, 0.09333497, 0.0397975 , 0.10502688, 0.10462847],\n",
       "       [0.05361564, 0.216642  , 0.03416926, 0.06831813, 0.14233533,\n",
       "        0.10283941, 0.11453288, 0.10329787, 0.05501849, 0.10923101],\n",
       "       [0.03503779, 0.18041621, 0.09066347, 0.06577277, 0.19337404,\n",
       "        0.09379555, 0.06143993, 0.03784299, 0.10893519, 0.13272205],\n",
       "       [0.09200723, 0.0264956 , 0.02594303, 0.19515656, 0.19438043,\n",
       "        0.10664336, 0.212052  , 0.04764522, 0.03378501, 0.06589165],\n",
       "       [0.03905092, 0.07190084, 0.03148449, 0.31664294, 0.05590337,\n",
       "        0.12288975, 0.05939149, 0.04688958, 0.15397027, 0.10187631],\n",
       "       [0.07011221, 0.05791243, 0.07534901, 0.26844323, 0.09898637,\n",
       "        0.06314281, 0.0329995 , 0.01720903, 0.16675523, 0.14909023],\n",
       "       [0.0384337 , 0.08396406, 0.0268541 , 0.14065832, 0.11167371,\n",
       "        0.11162829, 0.09407318, 0.04891525, 0.15291692, 0.19088252]],\n",
       "      dtype=float32)"
      ]
     },
     "execution_count": 143,
     "metadata": {},
     "output_type": "execute_result"
    }
   ],
   "source": [
    "classes"
   ]
  },
  {
   "cell_type": "markdown",
   "metadata": {},
   "source": [
    "## Single Neuron in Keras\n",
    "\n",
    "***\n",
    "\n",
    "https://keras.io/api/layers/activations/\n",
    "\n",
    "\n",
    "https://keras.io/api/losses/\n",
    "\n",
    "https://keras.io/api/losses/regression_losses/#meansquarederror-class"
   ]
  },
  {
   "cell_type": "code",
   "execution_count": 144,
   "metadata": {},
   "outputs": [],
   "source": [
    "# Create a new sequential neural network.\n",
    "model = keras.Sequential()"
   ]
  },
  {
   "cell_type": "code",
   "execution_count": 145,
   "metadata": {},
   "outputs": [],
   "source": [
    "# Add a dense layer with 1 neuron and the identity activation function.\n",
    "model.add(keras.layers.Dense(units=1))"
   ]
  },
  {
   "cell_type": "code",
   "execution_count": 146,
   "metadata": {},
   "outputs": [],
   "source": [
    "# Compile the neural network. \n",
    "# https://keras.io/api/losses/regression_losses/#meansquarederror-class\n",
    "# mean_squared_error is a loss function \"loss = square(y_true - y_pred)\" , we've been calling it a cost function \"(y - pred)**2\". \n",
    "model.compile(loss='mean_squared_error', optimizer='sgd', metrics=['accuracy'])\n"
   ]
  },
  {
   "cell_type": "code",
   "execution_count": 147,
   "metadata": {},
   "outputs": [
    {
     "data": {
      "text/plain": [
       "array([[ 1.],\n",
       "       [ 2.],\n",
       "       [ 3.],\n",
       "       [ 4.],\n",
       "       [ 5.],\n",
       "       [ 6.],\n",
       "       [ 7.],\n",
       "       [ 8.],\n",
       "       [ 9.],\n",
       "       [10.],\n",
       "       [11.],\n",
       "       [12.]])"
      ]
     },
     "execution_count": 147,
     "metadata": {},
     "output_type": "execute_result"
    }
   ],
   "source": [
    "# Real-world input values from data section above \n",
    "data_in = np.arange(1.0, 13.0, 1.0)\n",
    "\n",
    "# https://stackoverflow.com/a/47468541\n",
    "# issue with a Keras thinks as input values as an array, as we have only choosen 1 neuron\n",
    "# This creates an elements asindiviual arrays, think of it as Transposing a dataset means swapping so that the rows become a column\n",
    "data_in = data_in.reshape(-1, 1)\n",
    "\n",
    "data_in"
   ]
  },
  {
   "cell_type": "code",
   "execution_count": 148,
   "metadata": {},
   "outputs": [
    {
     "data": {
      "text/plain": [
       "array([[ 3.84260932],\n",
       "       [ 8.70138099],\n",
       "       [12.34126164],\n",
       "       [16.27595239],\n",
       "       [20.14069787],\n",
       "       [24.08240339],\n",
       "       [29.4584492 ],\n",
       "       [32.0715053 ],\n",
       "       [35.27684111],\n",
       "       [42.14075562],\n",
       "       [42.55811563],\n",
       "       [47.44635269]])"
      ]
     },
     "execution_count": 148,
     "metadata": {},
     "output_type": "execute_result"
    }
   ],
   "source": [
    "# Real-world output values.\n",
    "# We have set the out data as 4 times the input with some noise\n",
    "# The number we should be aiming for is 4\n",
    "data_out = 4.0 * data_in + np.random.normal(0.0, 1.0, data_in.shape)\n",
    "data_out"
   ]
  },
  {
   "cell_type": "code",
   "execution_count": 149,
   "metadata": {},
   "outputs": [
    {
     "name": "stdout",
     "output_type": "stream",
     "text": [
      "Epoch 1/5\n",
      "1/1 [==============================] - 0s 347ms/step - loss: 510.1041 - accuracy: 0.0000e+00\n",
      "Epoch 2/5\n",
      "1/1 [==============================] - 0s 3ms/step - loss: 5.7906 - accuracy: 0.0000e+00\n",
      "Epoch 3/5\n",
      "1/1 [==============================] - 0s 3ms/step - loss: 0.8482 - accuracy: 0.0000e+00\n",
      "Epoch 4/5\n",
      "1/1 [==============================] - 0s 5ms/step - loss: 0.7997 - accuracy: 0.0000e+00\n",
      "Epoch 5/5\n",
      "1/1 [==============================] - 0s 4ms/step - loss: 0.7992 - accuracy: 0.0000e+00\n"
     ]
    },
    {
     "data": {
      "text/plain": [
       "<keras.callbacks.History at 0x247309c7e20>"
      ]
     },
     "execution_count": 149,
     "metadata": {},
     "output_type": "execute_result"
    }
   ],
   "source": [
    "# Train the neural network.\n",
    "model.fit(data_in, data_out, epochs=5, batch_size=32)"
   ]
  },
  {
   "cell_type": "code",
   "execution_count": 150,
   "metadata": {},
   "outputs": [
    {
     "name": "stdout",
     "output_type": "stream",
     "text": [
      "32/32 [==============================] - 0s 683us/step\n"
     ]
    }
   ],
   "source": [
    "# Test input values.\n",
    "data_test = np.linspace(-10.0, 20.0, 1001).reshape(-1, 1)\n",
    "\n",
    "# Feed test values into neural network.\n",
    "preds = model.predict(data_test)"
   ]
  },
  {
   "cell_type": "code",
   "execution_count": 151,
   "metadata": {},
   "outputs": [
    {
     "data": {
      "text/plain": [
       "-10.0"
      ]
     },
     "execution_count": 151,
     "metadata": {},
     "output_type": "execute_result"
    }
   ],
   "source": [
    "data_test.flatten()[0]"
   ]
  },
  {
   "cell_type": "code",
   "execution_count": 157,
   "metadata": {},
   "outputs": [
    {
     "data": {
      "text/plain": [
       "array([ 1.,  2.,  3.,  4.,  5.,  6.,  7.,  8.,  9., 10., 11., 12.])"
      ]
     },
     "execution_count": 157,
     "metadata": {},
     "output_type": "execute_result"
    }
   ],
   "source": [
    "data_in.flatten()"
   ]
  },
  {
   "cell_type": "code",
   "execution_count": 158,
   "metadata": {},
   "outputs": [
    {
     "data": {
      "text/plain": [
       "array([ 3.84260932,  8.70138099, 12.34126164, 16.27595239, 20.14069787,\n",
       "       24.08240339, 29.4584492 , 32.0715053 , 35.27684111, 42.14075562,\n",
       "       42.55811563, 47.44635269])"
      ]
     },
     "execution_count": 158,
     "metadata": {},
     "output_type": "execute_result"
    }
   ],
   "source": [
    "data_out.flatten()\n",
    "\n"
   ]
  },
  {
   "cell_type": "code",
   "execution_count": 159,
   "metadata": {},
   "outputs": [
    {
     "data": {
      "text/plain": [
       "<matplotlib.legend.Legend at 0x24731d06d30>"
      ]
     },
     "execution_count": 159,
     "metadata": {},
     "output_type": "execute_result"
    },
    {
     "data": {
      "image/png": "[encoded data removed]",
      "text/plain": [
       "<Figure size 2000x2000 with 1 Axes>"
      ]
     },
     "metadata": {},
     "output_type": "display_data"
    }
   ],
   "source": [
    "# Plot Fig size\n",
    "plt.rcParams[\"figure.figsize\"] = (20,20)\n",
    "\n",
    "# Plot to illustrate the different degrees so that we can achieve a minimum error or minimum cost function.\n",
    "\n",
    "# https://stackoverflow.com/a/23210293\n",
    "\n",
    "plt.plot(data_in.flatten(), data_out.flatten(), 'rx', label='Training', markersize=20, linewidth=3)\n",
    "plt.plot(data_test.flatten(), preds.flatten(), 'b.', label='Predictions')\n",
    "\n",
    "\n",
    "plt.legend()"
   ]
  },
  {
   "cell_type": "code",
   "execution_count": 156,
   "metadata": {},
   "outputs": [
    {
     "data": {
      "text/plain": [
       "[<matplotlib.lines.Line2D at 0x24731ca0b50>]"
      ]
     },
     "execution_count": 156,
     "metadata": {},
     "output_type": "execute_result"
    },
    {
     "data": {
      "image/png": "[encoded data removed]",
      "text/plain": [
       "<Figure size 1200x600 with 1 Axes>"
      ]
     },
     "metadata": {},
     "output_type": "display_data"
    }
   ],
   "source": [
    "# Plot the values.\n",
    "fig, ax = plt.subplots(figsize=(12, 6))\n",
    "\n",
    "# Plot the original data set.\n",
    "ax.plot(data_in.flatten(), data_out.flatten(), 'rx', label='Training', markersize=20, linewidth=3)\n",
    "\n",
    "# Plot the predicted data set.\n",
    "ax.plot(data_test.flatten(), preds.flatten(), 'b.', label='Predictions')\n",
    "\n"
   ]
  },
  {
   "cell_type": "markdown",
   "metadata": {},
   "source": [
    "<hr style=\"border-top: 1px solid rgb(0, 91, 94);\" />\n",
    "\n",
    "## Conclusion\n",
    "\n",
    "\n"
   ]
  },
  {
   "cell_type": "markdown",
   "metadata": {},
   "source": [
    "<hr style=\"border-top: 1px solid rgb(0, 91, 94);\" />\n",
    "\n",
    "<h3>References</h3>\n",
    "\n",
    "[1]\n",
    "\n",
    "[2]\n",
    "\n",
    "[3]\n",
    "\n",
    "[4]\n",
    "\n",
    "[5]\n",
    "\n",
    "[6]\n",
    "\n",
    "<hr style=\"border-top: 1px solid rgb(0, 91, 94);\" />\n",
    "\n",
    "<h3>END</h3>"
   ]
  }
 ],
 "metadata": {
  "kernelspec": {
   "display_name": "Python 3.9.13 ('base')",
   "language": "python",
   "name": "python3"
  },
  "language_info": {
   "codemirror_mode": {
    "name": "ipython",
    "version": 3
   },
   "file_extension": ".py",
   "mimetype": "text/x-python",
   "name": "python",
   "nbconvert_exporter": "python",
   "pygments_lexer": "ipython3",
   "version": "3.9.13"
  },
  "orig_nbformat": 4,
  "vscode": {
   "interpreter": {
    "hash": "ad2bdc8ecc057115af97d19610ffacc2b4e99fae6737bb82f5d7fb13d2f2c186"
   }
  }
 },
 "nbformat": 4,
 "nbformat_minor": 2
}
