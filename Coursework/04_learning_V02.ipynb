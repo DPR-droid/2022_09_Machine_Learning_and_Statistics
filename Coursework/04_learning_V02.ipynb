{
 "cells": [
  {
   "cell_type": "markdown",
   "metadata": {},
   "source": [
    "# Machine Learning\n",
    "\n",
    "## Learning Exercise\n",
    "\n",
    "## Single Neuron\n",
    "\n",
    "***\n",
    "\n",
    "![Single_Neuron](https://raw.githubusercontent.com/DPR-droid/2022_09_Machine_Learning_and_Statistics/main/data/Single_Neuron.svg?raw=true)\n",
    "\n",
    "\n",
    "## Single Input\n",
    "\n",
    "***\n",
    "\n",
    "![Single_Input](https://raw.githubusercontent.com/DPR-droid/2022_09_Machine_Learning_and_Statistics/main/data/single_input.svg?raw=true)\n",
    "\n",
    "\n",
    "$$y = mx + c$$\n",
    "\n",
    "$$ \\phi (x) = x $$\n",
    "\n",
    "$$ \\phi (w_1 x_1 + w_0 (1)) = w_1  x_1 + w_0 $$\n"
   ]
  },
  {
   "cell_type": "code",
   "execution_count": 4,
   "metadata": {},
   "outputs": [],
   "source": [
    "# Numerical arrays.\n",
    "import numpy as np\n",
    "\n",
    "# Plotting.\n",
    "import matplotlib.pyplot as plt\n",
    "\n",
    "# Neural networks.\n",
    "import tensorflow.keras as keras"
   ]
  },
  {
   "cell_type": "code",
   "execution_count": 5,
   "metadata": {},
   "outputs": [],
   "source": [
    "# Identity activation function.\n",
    "def identity(x):\n",
    "    return x"
   ]
  },
  {
   "cell_type": "code",
   "execution_count": 6,
   "metadata": {},
   "outputs": [],
   "source": [
    "# Firing a neuron.\n",
    "def fire_neuron(x, w, phi):\n",
    "    return phi(np.sum(x * w))"
   ]
  },
  {
   "cell_type": "code",
   "execution_count": 7,
   "metadata": {},
   "outputs": [
    {
     "data": {
      "text/plain": [
       "(array([1., 4.]), array([2., 3.]))"
      ]
     },
     "execution_count": 7,
     "metadata": {},
     "output_type": "execute_result"
    }
   ],
   "source": [
    "# Our x values - always has to have 1.0 at index 0.\n",
    "x = np.array([1.0, 4.0])\n",
    "\n",
    "# Our weights.\n",
    "w = np.array([2.0, 3.0])\n",
    "\n",
    "x, w"
   ]
  },
  {
   "cell_type": "code",
   "execution_count": 8,
   "metadata": {},
   "outputs": [
    {
     "data": {
      "text/plain": [
       "14.0"
      ]
     },
     "execution_count": 8,
     "metadata": {},
     "output_type": "execute_result"
    }
   ],
   "source": [
    "fire_neuron(x, w, identity)"
   ]
  },
  {
   "cell_type": "markdown",
   "metadata": {},
   "source": [
    "## Data\n",
    "\n",
    "***"
   ]
  },
  {
   "cell_type": "code",
   "execution_count": 9,
   "metadata": {},
   "outputs": [
    {
     "data": {
      "text/plain": [
       "array([ 1.,  2.,  3.,  4.,  5.,  6.,  7.,  8.,  9., 10., 11., 12.])"
      ]
     },
     "execution_count": 9,
     "metadata": {},
     "output_type": "execute_result"
    }
   ],
   "source": [
    "# Real-world input values.\n",
    "data_in = np.arange(1.0, 13.0, 1.0)\n",
    "data_in"
   ]
  },
  {
   "cell_type": "code",
   "execution_count": 10,
   "metadata": {},
   "outputs": [
    {
     "data": {
      "text/plain": [
       "array([ 3.18594843,  9.34068711, 12.61602728, 16.63527709, 20.69911327,\n",
       "       24.26391186, 28.59453919, 34.00682238, 35.84679306, 40.4955007 ,\n",
       "       43.60441631, 48.60605274])"
      ]
     },
     "execution_count": 10,
     "metadata": {},
     "output_type": "execute_result"
    }
   ],
   "source": [
    "# Real-world output values.\n",
    "data_out = 4.0 * data_in + np.random.normal(0.0, 1.0, len(data_in))\n",
    "data_out"
   ]
  },
  {
   "cell_type": "code",
   "execution_count": 11,
   "metadata": {},
   "outputs": [
    {
     "data": {
      "text/plain": [
       "[<matplotlib.lines.Line2D at 0x2396d81d760>]"
      ]
     },
     "execution_count": 11,
     "metadata": {},
     "output_type": "execute_result"
    },
    {
     "data": {
      "image/png": "[encoded data removed]",
      "text/plain": [
       "<Figure size 640x480 with 1 Axes>"
      ]
     },
     "metadata": {},
     "output_type": "display_data"
    }
   ],
   "source": [
    "plt.plot(data_in, data_out, 'k.')"
   ]
  },
  {
   "cell_type": "markdown",
   "metadata": {},
   "source": [
    "## Training"
   ]
  },
  {
   "cell_type": "code",
   "execution_count": 12,
   "metadata": {},
   "outputs": [],
   "source": [
    "# An index in the data set.\n",
    "i = 5"
   ]
  },
  {
   "cell_type": "code",
   "execution_count": 13,
   "metadata": {},
   "outputs": [
    {
     "data": {
      "text/plain": [
       "(6.0, 24.263911860025733)"
      ]
     },
     "execution_count": 13,
     "metadata": {},
     "output_type": "execute_result"
    }
   ],
   "source": [
    "# Actual input/output pair from the real world.\n",
    "data_in[i], data_out[i]"
   ]
  },
  {
   "cell_type": "code",
   "execution_count": 14,
   "metadata": {},
   "outputs": [
    {
     "data": {
      "text/plain": [
       "6.0"
      ]
     },
     "execution_count": 14,
     "metadata": {},
     "output_type": "execute_result"
    }
   ],
   "source": [
    "# Initial weights.\n",
    "w =  np.array([0.0, 1.0])\n",
    "\n",
    "# What the neuron currently outputs for the real-world input, based on current weights.\n",
    "fire_neuron(np.array([1.0, data_in[i]]), w, identity)"
   ]
  },
  {
   "cell_type": "code",
   "execution_count": 15,
   "metadata": {},
   "outputs": [
    {
     "data": {
      "text/plain": [
       "24.0"
      ]
     },
     "execution_count": 15,
     "metadata": {},
     "output_type": "execute_result"
    }
   ],
   "source": [
    "# The goal is to create an algorithm that updates w to move the output towards the real output.\n",
    "# Initial weights.\n",
    "w =  np.array([0.0, 4.0])\n",
    "\n",
    "# What the neuron could output for the real-world input, based on better weights.\n",
    "fire_neuron(np.array([1.0, data_in[i]]), w, identity)"
   ]
  },
  {
   "cell_type": "markdown",
   "metadata": {},
   "source": [
    "## Cost\n",
    "\n",
    "Improve the vector of W\n",
    "\n",
    "Predicted values of w"
   ]
  },
  {
   "cell_type": "code",
   "execution_count": 16,
   "metadata": {},
   "outputs": [],
   "source": [
    "# Usually use sum of squares.\n",
    "def cost(w, x, phi, y):\n",
    "    pred = fire_neuron(x, w, phi)\n",
    "    return (y - pred)**2"
   ]
  },
  {
   "cell_type": "code",
   "execution_count": 17,
   "metadata": {},
   "outputs": [],
   "source": [
    "# An index in the data set.\n",
    "i = 5"
   ]
  },
  {
   "cell_type": "code",
   "execution_count": 18,
   "metadata": {},
   "outputs": [
    {
     "data": {
      "text/plain": [
       "333.57047643078863"
      ]
     },
     "execution_count": 18,
     "metadata": {},
     "output_type": "execute_result"
    }
   ],
   "source": [
    "# Cost of initial w.\n",
    "w = np.array([0.0, 1.0])\n",
    "\n",
    "cost(w, data_in[i], identity, data_out[i])"
   ]
  },
  {
   "cell_type": "code",
   "execution_count": 19,
   "metadata": {},
   "outputs": [
    {
     "data": {
      "text/plain": [
       "0.0696494698622419"
      ]
     },
     "execution_count": 19,
     "metadata": {},
     "output_type": "execute_result"
    }
   ],
   "source": [
    "# Cost of a \"better\" w.\n",
    "w = np.array([0.0, 4.0])\n",
    "\n",
    "cost(w, data_in[i], identity, data_out[i])"
   ]
  },
  {
   "cell_type": "markdown",
   "metadata": {},
   "source": [
    "## Training\n",
    "\n",
    "To improve the weights of w1 not w0\n",
    "\n",
    "Cost function reduce a w improves"
   ]
  },
  {
   "cell_type": "code",
   "execution_count": 20,
   "metadata": {},
   "outputs": [],
   "source": [
    "# Hyperparameter.\n",
    "# In machine learning, a hyperparameter is a parameter whose value is used to control the learning process. By contrast, the values of other parameters (typically node weights) are derived via training. \n",
    "# https://en.wikipedia.org/wiki/Hyperparameter_(machine_learning)\n",
    "# adding the learning_rate to w (weights) \n",
    "\n",
    "learning_rate = 0.001"
   ]
  },
  {
   "cell_type": "code",
   "execution_count": 21,
   "metadata": {},
   "outputs": [],
   "source": [
    "def train_neuron(x, y, w, phi):\n",
    "    # The possible adjustment to the weights.\n",
    "    adjust = np.array([0.0, learning_rate])\n",
    "    # Calculate the current cost.\n",
    "    current = cost(w, x, phi, y)\n",
    "    # Calculate the cost with slight adjustment to the weights.\n",
    "    adding = cost(w + adjust, x, phi, y)\n",
    "    # If the adjusted weights lower the cost, update the weights.\n",
    "    if adding < current:\n",
    "        w = w + adjust\n",
    "    # Otherwise move in the other direction.\n",
    "    else:\n",
    "        w = w - adjust\n",
    "    return w"
   ]
  },
  {
   "cell_type": "code",
   "execution_count": 28,
   "metadata": {},
   "outputs": [
    {
     "data": {
      "text/plain": [
       "array([0., 1.])"
      ]
     },
     "execution_count": 28,
     "metadata": {},
     "output_type": "execute_result"
    }
   ],
   "source": [
    "# Set some initial weights.\n",
    "w = np.array([0.0, 1.0])\n",
    "w"
   ]
  },
  {
   "cell_type": "code",
   "execution_count": 23,
   "metadata": {},
   "outputs": [
    {
     "data": {
      "text/plain": [
       "(6.0, 24.263911860025733)"
      ]
     },
     "execution_count": 23,
     "metadata": {},
     "output_type": "execute_result"
    }
   ],
   "source": [
    "# The training values.\n",
    "# We have an input of our real world value 6 \n",
    "# Then the output of our real world value of 24.263911860025733\n",
    "data_in[i], data_out[i]"
   ]
  },
  {
   "cell_type": "code",
   "execution_count": 24,
   "metadata": {},
   "outputs": [
    {
     "data": {
      "text/plain": [
       "6.0"
      ]
     },
     "execution_count": 24,
     "metadata": {},
     "output_type": "execute_result"
    }
   ],
   "source": [
    "# Current neuron output for data_in[i].\n",
    "fire_neuron(np.array([1.0, data_in[i]]), w, identity)"
   ]
  },
  {
   "cell_type": "code",
   "execution_count": 25,
   "metadata": {},
   "outputs": [
    {
     "data": {
      "text/plain": [
       "array([0.   , 1.001])"
      ]
     },
     "execution_count": 25,
     "metadata": {},
     "output_type": "execute_result"
    }
   ],
   "source": [
    "# Nudge the weights towards better values.\n",
    "# If the nueron is improved the learning_rate is added\n",
    "#  w = array([0., 1.])\n",
    "# this makes w now = array([0.   , 1.001])\n",
    "w_improved = train_neuron(data_in[i], data_out[i], w, identity)\n",
    "w_improved"
   ]
  },
  {
   "cell_type": "code",
   "execution_count": 26,
   "metadata": {},
   "outputs": [
    {
     "data": {
      "text/plain": [
       "6.005999999999999"
      ]
     },
     "execution_count": 26,
     "metadata": {},
     "output_type": "execute_result"
    }
   ],
   "source": [
    "# Current neuron output for data_in[i].\n",
    "fire_neuron(np.array([1.0, data_in[i]]), w_improved, identity)"
   ]
  },
  {
   "cell_type": "markdown",
   "metadata": {},
   "source": [
    "Now create a loop through each of the data points, "
   ]
  },
  {
   "cell_type": "code",
   "execution_count": 27,
   "metadata": {},
   "outputs": [
    {
     "data": {
      "text/plain": [
       "array([0.  , 4.05])"
      ]
     },
     "execution_count": 27,
     "metadata": {},
     "output_type": "execute_result"
    }
   ],
   "source": [
    "# Set some initial weights.\n",
    "w = np.array([0.0, 1.0])\n",
    "\n",
    "# Loop several times.\n",
    "for epoch in range(10000):\n",
    "    for i in range(len(data_in)):\n",
    "        w = train_neuron(data_in[i], data_out[i], w, identity)\n",
    "\n",
    "# Show w.\n",
    "w"
   ]
  },
  {
   "cell_type": "code",
   "execution_count": 29,
   "metadata": {},
   "outputs": [
    {
     "data": {
      "text/plain": [
       "array([3.99812014, 0.50347657])"
      ]
     },
     "execution_count": 29,
     "metadata": {},
     "output_type": "execute_result"
    }
   ],
   "source": [
    "# Check with polyfit\n",
    "np.polyfit(data_in,data_out, 1)"
   ]
  },
  {
   "cell_type": "markdown",
   "metadata": {},
   "source": [
    "To outsource the process above, This is the reason why we use Keras and tensorflow."
   ]
  },
  {
   "cell_type": "markdown",
   "metadata": {},
   "source": [
    "## Using Keras\n",
    "\n",
    "***\n",
    "\n",
    "To get it time to do something useful is an art.\n",
    "Conversions from statistic to machine learning.\n",
    "\n",
    "Keras has alot more infomration on the readme of thier github page\n",
    "https://github.com/keras-team/keras\n",
    "\n",
    " - Being able to go from idea to result as fast as possible is key to doing good research.\n",
    "\n",
    "TensorFlow 2 is an end-to-end, open-source machine learning platform. You can think of it as an infrastructure layer for differentiable programming. It combines four key abilities:\n",
    "- Efficiently executing low-level tensor operations on CPU, GPU, or TPU\n",
    "- Computing the gradient of arbitrary differentiable expressions.\n",
    "- Scaling computation to many devices, such as clusters of hundreds of GPUs.\n",
    "- Exporting programs (\"graphs\") to external runtimes such as servers, browsers, mobile and embedded devices.\n",
    "\n",
    "TensorFlow is a suite of tools, Keras sits on top.\n",
    "\n",
    "\n",
    "https://keras.io/getting_started/\n",
    "https://keras.io/getting_started/ecosystem/\n",
    "\n",
    "https://keras.io/guides/sequential_model/\n"
   ]
  },
  {
   "cell_type": "markdown",
   "metadata": {},
   "source": [
    "## Using TensorFlow\n",
    "\n",
    "https://www.tensorflow.org/\n",
    "\n",
    "This can be installed by itself \n",
    "\n",
    "https://www.tensorflow.org/install\n",
    "\n",
    "Can install via pip\n",
    "\n",
    "For the course we use conda to install with a simple command.\n",
    "\n",
    "conda install tensorflow\n",
    "\n",
    "\n",
    "What is a tensor?\n",
    "https://en.wikipedia.org/wiki/Tensor\n",
    "Vectors row of number or list of number\n",
    "Metric is several row or list of numbers\n",
    "A tensor may be represented as an array (potentially multidimensional). Just as a vector in an n-dimensional space is represented by a one-dimensional array with n components with respect to a given basis, any tensor with respect to a basis is represented by a multidimensional array. For example, a linear operator is represented in a basis as a two-dimensional square n × n array. The numbers in the multidimensional array are known as the scalar components of the tensor or simply its components. They are denoted by indices giving their position in the array, as subscripts and superscripts, following the symbolic name of the tensor. \n",
    "\n",
    "\n",
    "https://numpy.org/\n",
    "\n",
    "Powerful N-dimensional arrays\n",
    "Fast and versatile, the NumPy vectorization, indexing, and broadcasting concepts are the de-facto standards of array computing today.\n",
    "\n",
    "https://numpy.org/devdocs/user/absolute_beginners.html\n",
    "\n",
    "The NumPy library contains multidimensional array and matrix data structures (you’ll find more information about this in later sections). It provides ndarray, a homogeneous n-dimensional array object, with methods to efficiently operate on it.\n",
    "\n",
    "Numpy is effiient at ndarray \n",
    "\n",
    "\n",
    "https://www.dictionary.com/e/homogeneous-vs-heterogeneous/\n",
    "\n",
    "What is homogenous and example?\n",
    "Image result for homogenous\n",
    "Homogeneous mixtures are uniform in structure or composition\n",
    "\n",
    "\n",
    "https://en.wikipedia.org/wiki/Directed_graph\n",
    "Directed_graph.png\n",
    "\n",
    "\n",
    "https://en.wikipedia.org/wiki/Dataflow_programming\n",
    "\n",
    "\n",
    "https://www.easy-tensorflow.com/tf-tutorials/basics/graph-and-session\n",
    "tensorflowgraph.png\n",
    "\n",
    "Input are the tensors, with the operations applied to them, building up tensors which are multi dimensional arrays.\n",
    "\n",
    "TensorFlows are just building a graph, different operation.\n",
    "\n",
    "Tensors tend to use the GPU.\n",
    "\n",
    "Keras is much higher level, provides a easy way to not think about the tensorflows under the hood.\n"
   ]
  },
  {
   "cell_type": "code",
   "execution_count": null,
   "metadata": {},
   "outputs": [],
   "source": []
  },
  {
   "cell_type": "code",
   "execution_count": null,
   "metadata": {},
   "outputs": [],
   "source": []
  },
  {
   "cell_type": "code",
   "execution_count": null,
   "metadata": {},
   "outputs": [],
   "source": []
  },
  {
   "cell_type": "code",
   "execution_count": null,
   "metadata": {},
   "outputs": [],
   "source": []
  },
  {
   "cell_type": "code",
   "execution_count": null,
   "metadata": {},
   "outputs": [],
   "source": []
  },
  {
   "cell_type": "code",
   "execution_count": null,
   "metadata": {},
   "outputs": [],
   "source": []
  },
  {
   "cell_type": "code",
   "execution_count": null,
   "metadata": {},
   "outputs": [],
   "source": []
  },
  {
   "cell_type": "code",
   "execution_count": null,
   "metadata": {},
   "outputs": [],
   "source": []
  },
  {
   "cell_type": "markdown",
   "metadata": {},
   "source": [
    "<hr style=\"border-top: 1px solid rgb(0, 91, 94);\" />\n",
    "\n",
    "## Conclusion\n",
    "\n",
    "\n"
   ]
  },
  {
   "cell_type": "markdown",
   "metadata": {},
   "source": [
    "<hr style=\"border-top: 1px solid rgb(0, 91, 94);\" />\n",
    "\n",
    "<h3>References</h3>\n",
    "\n",
    "[1]\n",
    "\n",
    "[2]\n",
    "\n",
    "[3]\n",
    "\n",
    "[4]\n",
    "\n",
    "[5]\n",
    "\n",
    "[6]\n",
    "\n",
    "<hr style=\"border-top: 1px solid rgb(0, 91, 94);\" />\n",
    "\n",
    "<h3>END</h3>"
   ]
  }
 ],
 "metadata": {
  "kernelspec": {
   "display_name": "Python 3.9.13 ('base')",
   "language": "python",
   "name": "python3"
  },
  "language_info": {
   "codemirror_mode": {
    "name": "ipython",
    "version": 3
   },
   "file_extension": ".py",
   "mimetype": "text/x-python",
   "name": "python",
   "nbconvert_exporter": "python",
   "pygments_lexer": "ipython3",
   "version": "3.9.13"
  },
  "orig_nbformat": 4,
  "vscode": {
   "interpreter": {
    "hash": "ad2bdc8ecc057115af97d19610ffacc2b4e99fae6737bb82f5d7fb13d2f2c186"
   }
  }
 },
 "nbformat": 4,
 "nbformat_minor": 2
}
