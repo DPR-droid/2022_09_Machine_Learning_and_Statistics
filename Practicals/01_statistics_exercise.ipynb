{
 "cells": [
  {
   "cell_type": "markdown",
   "metadata": {},
   "source": [
    "<h3>Exercise 1.1</h3>\n",
    "\n",
    "Calculate the minimum number of cups of tea required to ensure the probability of randomly selecting the correct cups is less than or equal to 1%.\n",
    "\n",
    "<hr style=\"border-top: 1px solid;\" />"
   ]
  },
  {
   "cell_type": "code",
   "execution_count": 34,
   "metadata": {},
   "outputs": [
    {
     "name": "stdout",
     "output_type": "stream",
     "text": [
      "The number of ways of selecting four things from eight. Where the order doesn't matter is: 70.0\n",
      "\n",
      "Probability of randomly selecting correct 4 cups from 8 is: 0.014285714285714285\n"
     ]
    }
   ],
   "source": [
    "# The number of ways of selecting four things from eight\n",
    "# Where the order doesn't matter.\n",
    "x1 = (8 * 7 * 6 * 5)/(4 * 3 * 2 *1)\n",
    "\n",
    "# 8 cups:           0 1 x 3 4 5 6 7\n",
    "# 4 cups:                2  _  _  _\n",
    "# Possiblities:         8* \n",
    "\n",
    "# 8 cups:           0 1 x 3 x 5 6 7\n",
    "# 4 cups:                2 4   _  _\n",
    "# Possiblities:         8* 7* \n",
    "\n",
    "# 8 cups:           0 1 x 3 x 5 6 x\n",
    "# 4 cups:                2 4  7  _\n",
    "# Possiblities:         8* 7* 6*\n",
    "\n",
    "# 8 cups:           x 1 x 3 x 5 6 x\n",
    "# 4 cups:                2 4  7  0\n",
    "# Possiblities:         8* 7* 6* 5*\n",
    "\n",
    "# 8 cups:           0 1 2 3 4 5 6 7\n",
    "# 4 cups:               _ _ _ _\n",
    "# Possiblities:         8* 7* 6* 5*\n",
    "# Permutations:         2 4 7 0 (Selection 1)\n",
    "#                       4 2 7 0 (Selection 1)\n",
    "#                       4*3*2*1*\n",
    "\n",
    "print(\"The number of ways of selecting four things from eight. Where the order doesn't matter is: \" + str(x1))\n",
    "\n",
    "# The probability of randomly selecting the four correct cups.\n",
    "y1 = 1.0/70.0\n",
    "\n",
    "print(\"\\nProbability of randomly selecting correct 4 cups from 8 is: \" + str(y1))"
   ]
  },
  {
   "cell_type": "markdown",
   "metadata": {},
   "source": [
    "The above gives about a 1.5% chance of randomly selecting the correct cups. To ensure the probability of randomly selecting the correct cups is less than or equal to 1%. We are going to adapt code from https://stackoverflow.com/a/4941932 and a use the funtion math.comb(). \n",
    "\n",
    "<h3>What is math.comb()</h3>\n",
    "\n",
    "This function will return the number of ways to select r elements from n items without repetition and order.\n",
    "\n",
    "Reference: \n",
    "\n",
    "https://python.plainenglish.io/python-3-math-module-an-incredible-module-b224bf421c6e\n",
    "\n",
    "Lets try repeat by selecting four cups from eight to see if we get the same probability of randomly selecting the four correct cups."
   ]
  },
  {
   "cell_type": "code",
   "execution_count": 39,
   "metadata": {},
   "outputs": [
    {
     "name": "stdout",
     "output_type": "stream",
     "text": [
      "The number of ways of selecting four things from eight. Where the order doesn't matter is: 70\n",
      "\n",
      "Probability of randomly selecting correct 4 cups from 8 is: 0.014285714285714285\n",
      "\n",
      "Is the number of ways output True or False: True\n",
      "\n",
      "Is the probability output True or False:  True\n"
     ]
    }
   ],
   "source": [
    "# math module\n",
    "import math\n",
    "\n",
    "# Number of ways of selecting 4 cups from 8\n",
    "x2 = math.comb(8,4)\n",
    "\n",
    "# Probability of randomly selecting correct 4 cups from 8 is:\n",
    "y2 = 1.0/math.comb(8,4)\n",
    "\n",
    "print(\"The number of ways of selecting four things from eight. Where the order doesn't matter is: \" + str(x))\n",
    "\n",
    "print(\"\\nProbability of randomly selecting correct 4 cups from 8 is: \" + str(y2))\n",
    "\n",
    "# Verify the results  \n",
    "x3 = (x1 == x2)\n",
    "\n",
    "print(\"\\nIs the number of ways output True or False: \" + str(x3))\n",
    "\n",
    "y3 = (y1 == y2)\n",
    "print(\"\\nIs the probability output True or False:  \" + str(y3))\n"
   ]
  },
  {
   "cell_type": "markdown",
   "metadata": {},
   "source": []
  },
  {
   "cell_type": "code",
   "execution_count": 4,
   "metadata": {},
   "outputs": [
    {
     "data": {
      "text/plain": [
       "252"
      ]
     },
     "execution_count": 4,
     "metadata": {},
     "output_type": "execute_result"
    }
   ],
   "source": [
    "# Number of ways of selecting 5 cups from 10\n",
    "math.comb(10,5)"
   ]
  },
  {
   "cell_type": "code",
   "execution_count": 5,
   "metadata": {},
   "outputs": [
    {
     "data": {
      "text/plain": [
       "0.003968253968253968"
      ]
     },
     "execution_count": 5,
     "metadata": {},
     "output_type": "execute_result"
    }
   ],
   "source": [
    "# Probability of randomly selecting correct 5 cups is:\n",
    "1.0/math.comb(10,5)"
   ]
  },
  {
   "cell_type": "markdown",
   "metadata": {},
   "source": [
    "If the experiment was done with 10 cups total, five with milk in first and five with tea first, then the chance of selecting correctly randomly is much less than 1%\n",
    "\n",
    "Now design the experiment to have 9 cups in total, 4 with milk in first and 5 with tea in first or vice versa."
   ]
  },
  {
   "cell_type": "code",
   "execution_count": 6,
   "metadata": {},
   "outputs": [
    {
     "data": {
      "text/plain": [
       "126"
      ]
     },
     "execution_count": 6,
     "metadata": {},
     "output_type": "execute_result"
    }
   ],
   "source": [
    "# Number of ways of selecting 4 cups from 9\n",
    "math.comb(9,4)"
   ]
  },
  {
   "cell_type": "code",
   "execution_count": 7,
   "metadata": {},
   "outputs": [
    {
     "data": {
      "text/plain": [
       "126"
      ]
     },
     "execution_count": 7,
     "metadata": {},
     "output_type": "execute_result"
    }
   ],
   "source": [
    "# Number of ways of selecting 5 cups from 9\n",
    "math.comb(9,5)"
   ]
  },
  {
   "cell_type": "code",
   "execution_count": 8,
   "metadata": {},
   "outputs": [
    {
     "data": {
      "text/plain": [
       "0.007936507936507936"
      ]
     },
     "execution_count": 8,
     "metadata": {},
     "output_type": "execute_result"
    }
   ],
   "source": [
    "# Probability of randomly selecting correct 4 cups from 9 is:\n",
    "1.0/math.comb(9,4)"
   ]
  },
  {
   "cell_type": "markdown",
   "metadata": {},
   "source": [
    "Calculate the minimum number of cups of tea required to ensure the probability of randomly selecting the correct cups is less than or equal to 1%.\n",
    "\n",
    "Answer: Number of ways of selecting 3 cups from 5 is equal to 1%"
   ]
  },
  {
   "cell_type": "code",
   "execution_count": 9,
   "metadata": {},
   "outputs": [
    {
     "data": {
      "text/plain": [
       "10"
      ]
     },
     "execution_count": 9,
     "metadata": {},
     "output_type": "execute_result"
    }
   ],
   "source": [
    "# Number of ways of selecting 3 cups from 5\n",
    "math.comb(5,3)"
   ]
  },
  {
   "cell_type": "code",
   "execution_count": 10,
   "metadata": {},
   "outputs": [
    {
     "data": {
      "text/plain": [
       "0.1"
      ]
     },
     "execution_count": 10,
     "metadata": {},
     "output_type": "execute_result"
    }
   ],
   "source": [
    "# Probability of randomly selecting correct 3 cups from 5 is:\n",
    "1.0/math.comb(5,3)"
   ]
  },
  {
   "cell_type": "markdown",
   "metadata": {},
   "source": [
    "<h3>Exercise 1.2</h3>\n",
    "\n",
    "*Bonus:* How many would be required if you were to let the taster get one cup wrong while maintaining the 1% threshold?"
   ]
  },
  {
   "cell_type": "code",
   "execution_count": 11,
   "metadata": {},
   "outputs": [
    {
     "data": {
      "text/plain": [
       "0.011904761904761904"
      ]
     },
     "execution_count": 11,
     "metadata": {},
     "output_type": "execute_result"
    }
   ],
   "source": [
    "# Probability of randomly selecting correct 3 cups from 9 is:\n",
    "1.0/math.comb(9,3)"
   ]
  },
  {
   "cell_type": "markdown",
   "metadata": {},
   "source": [
    "<h3>Exercise 1.3</h3>\n",
    "\n",
    "<i>Remember to do these exercises in your own notebook in your assessment repository.</i>\n",
    "\n",
    "Use <a href=\"https://docs.scipy.org/doc/scipy/reference/generated/scipy.stats.fisher_exact.html\" >scipy's version of Fisher's exact test</a> to simulate the Lady Tasting Tea problem.\n",
    "\n",
    "The following is adapted from https://towardsdatascience.com/fishers-exact-test-from-scratch-with-python-2b907f29e593\n",
    "\n",
    "To explain we will have to determine all possible contingency tables and their respective probabilities given the fixed margins\n"
   ]
  },
  {
   "cell_type": "code",
   "execution_count": 12,
   "metadata": {},
   "outputs": [
    {
     "data": {
      "text/html": [
       "<div>\n",
       "<style scoped>\n",
       "    .dataframe tbody tr th:only-of-type {\n",
       "        vertical-align: middle;\n",
       "    }\n",
       "\n",
       "    .dataframe tbody tr th {\n",
       "        vertical-align: top;\n",
       "    }\n",
       "\n",
       "    .dataframe thead th {\n",
       "        text-align: right;\n",
       "    }\n",
       "</style>\n",
       "<table border=\"1\" class=\"dataframe\">\n",
       "  <thead>\n",
       "    <tr style=\"text-align: right;\">\n",
       "      <th></th>\n",
       "      <th>Milk</th>\n",
       "      <th>Tea</th>\n",
       "      <th>Row_Total</th>\n",
       "    </tr>\n",
       "  </thead>\n",
       "  <tbody>\n",
       "    <tr>\n",
       "      <th>Milk</th>\n",
       "      <td>4</td>\n",
       "      <td>0</td>\n",
       "      <td>4</td>\n",
       "    </tr>\n",
       "    <tr>\n",
       "      <th>Tea</th>\n",
       "      <td>0</td>\n",
       "      <td>4</td>\n",
       "      <td>4</td>\n",
       "    </tr>\n",
       "    <tr>\n",
       "      <th>Column_Total</th>\n",
       "      <td>4</td>\n",
       "      <td>4</td>\n",
       "      <td>8</td>\n",
       "    </tr>\n",
       "  </tbody>\n",
       "</table>\n",
       "</div>"
      ],
      "text/plain": [
       "              Milk  Tea  Row_Total\n",
       "Milk             4    0          4\n",
       "Tea              0    4          4\n",
       "Column_Total     4    4          8"
      ]
     },
     "execution_count": 12,
     "metadata": {},
     "output_type": "execute_result"
    }
   ],
   "source": [
    "import numpy as np\n",
    "import pandas as pd\n",
    "\n",
    "ar=np.array([[4, 0],[0, 4]])    \n",
    "df=pd.DataFrame(ar, columns=[\"Milk\", \"Tea\"])\n",
    "df.index=[\"Milk\", \"Tea\"] \n",
    "df \n",
    "\n",
    "df2=df.copy()\n",
    "df2.loc['Column_Total']= df2.sum(numeric_only=True, axis=0)\n",
    "df2.loc[:,'Row_Total'] = df2.sum(numeric_only=True, axis=1)\n",
    "df2\n",
    "\n"
   ]
  },
  {
   "cell_type": "markdown",
   "metadata": {},
   "source": [
    "4 Milk Guessed correctly we get the following probability: \n",
    "\n",
    "![Fisher_Tea_P02](https://raw.githubusercontent.com/DPR-droid/2022_09_Machine_Learning_and_Statistics/main/Practicals/Fisher_Tea_P02.PNG?raw=true)\n",
    "\n",
    "This would also be true in reverse 4 Tea guessed correctly"
   ]
  },
  {
   "cell_type": "code",
   "execution_count": 13,
   "metadata": {},
   "outputs": [
    {
     "data": {
      "text/html": [
       "<div>\n",
       "<style scoped>\n",
       "    .dataframe tbody tr th:only-of-type {\n",
       "        vertical-align: middle;\n",
       "    }\n",
       "\n",
       "    .dataframe tbody tr th {\n",
       "        vertical-align: top;\n",
       "    }\n",
       "\n",
       "    .dataframe thead th {\n",
       "        text-align: right;\n",
       "    }\n",
       "</style>\n",
       "<table border=\"1\" class=\"dataframe\">\n",
       "  <thead>\n",
       "    <tr style=\"text-align: right;\">\n",
       "      <th></th>\n",
       "      <th>Milk</th>\n",
       "      <th>Tea</th>\n",
       "      <th>Row_Total</th>\n",
       "    </tr>\n",
       "  </thead>\n",
       "  <tbody>\n",
       "    <tr>\n",
       "      <th>Milk</th>\n",
       "      <td>3</td>\n",
       "      <td>1</td>\n",
       "      <td>4</td>\n",
       "    </tr>\n",
       "    <tr>\n",
       "      <th>Tea</th>\n",
       "      <td>1</td>\n",
       "      <td>3</td>\n",
       "      <td>4</td>\n",
       "    </tr>\n",
       "    <tr>\n",
       "      <th>Column_Total</th>\n",
       "      <td>4</td>\n",
       "      <td>4</td>\n",
       "      <td>8</td>\n",
       "    </tr>\n",
       "  </tbody>\n",
       "</table>\n",
       "</div>"
      ],
      "text/plain": [
       "              Milk  Tea  Row_Total\n",
       "Milk             3    1          4\n",
       "Tea              1    3          4\n",
       "Column_Total     4    4          8"
      ]
     },
     "execution_count": 13,
     "metadata": {},
     "output_type": "execute_result"
    }
   ],
   "source": [
    "ar=np.array([[3, 1],[1, 3]])    \n",
    "df=pd.DataFrame(ar, columns=[\"Milk\", \"Tea\"])\n",
    "df.index=[\"Milk\", \"Tea\"] \n",
    "df \n",
    "\n",
    "df2=df.copy()\n",
    "df2.loc['Column_Total']= df2.sum(numeric_only=True, axis=0)\n",
    "df2.loc[:,'Row_Total'] = df2.sum(numeric_only=True, axis=1)\n",
    "df2"
   ]
  },
  {
   "cell_type": "markdown",
   "metadata": {},
   "source": [
    "3 Milk guessed correctly we get the following probability: \n",
    "\n",
    "![Fisher_Tea_P01](https://raw.githubusercontent.com/DPR-droid/2022_09_Machine_Learning_and_Statistics/main/Practicals/Fisher_Tea_P01.PNG?raw=true)\n",
    "\n",
    "This would also be true in reverse 3 Tea guessed correctly"
   ]
  },
  {
   "cell_type": "code",
   "execution_count": 14,
   "metadata": {},
   "outputs": [
    {
     "data": {
      "text/html": [
       "<div>\n",
       "<style scoped>\n",
       "    .dataframe tbody tr th:only-of-type {\n",
       "        vertical-align: middle;\n",
       "    }\n",
       "\n",
       "    .dataframe tbody tr th {\n",
       "        vertical-align: top;\n",
       "    }\n",
       "\n",
       "    .dataframe thead th {\n",
       "        text-align: right;\n",
       "    }\n",
       "</style>\n",
       "<table border=\"1\" class=\"dataframe\">\n",
       "  <thead>\n",
       "    <tr style=\"text-align: right;\">\n",
       "      <th></th>\n",
       "      <th>Milk</th>\n",
       "      <th>Tea</th>\n",
       "      <th>Row_Total</th>\n",
       "    </tr>\n",
       "  </thead>\n",
       "  <tbody>\n",
       "    <tr>\n",
       "      <th>Milk</th>\n",
       "      <td>2</td>\n",
       "      <td>2</td>\n",
       "      <td>4</td>\n",
       "    </tr>\n",
       "    <tr>\n",
       "      <th>Tea</th>\n",
       "      <td>2</td>\n",
       "      <td>2</td>\n",
       "      <td>4</td>\n",
       "    </tr>\n",
       "    <tr>\n",
       "      <th>Column_Total</th>\n",
       "      <td>4</td>\n",
       "      <td>4</td>\n",
       "      <td>8</td>\n",
       "    </tr>\n",
       "  </tbody>\n",
       "</table>\n",
       "</div>"
      ],
      "text/plain": [
       "              Milk  Tea  Row_Total\n",
       "Milk             2    2          4\n",
       "Tea              2    2          4\n",
       "Column_Total     4    4          8"
      ]
     },
     "execution_count": 14,
     "metadata": {},
     "output_type": "execute_result"
    }
   ],
   "source": [
    "ar=np.array([[2, 2],[2, 2]])    \n",
    "df=pd.DataFrame(ar, columns=[\"Milk\", \"Tea\"])\n",
    "df.index=[\"Milk\", \"Tea\"] \n",
    "df \n",
    "\n",
    "df2=df.copy()\n",
    "df2.loc['Column_Total']= df2.sum(numeric_only=True, axis=0)\n",
    "df2.loc[:,'Row_Total'] = df2.sum(numeric_only=True, axis=1)\n",
    "df2"
   ]
  },
  {
   "cell_type": "markdown",
   "metadata": {},
   "source": [
    "2 Milk Guessed correctly we get the following probability: \n",
    "\n",
    "![Fisher_Tea_P02](https://raw.githubusercontent.com/DPR-droid/2022_09_Machine_Learning_and_Statistics/main/Practicals/Fisher_Tea_P03.PNG?raw=true)"
   ]
  },
  {
   "cell_type": "markdown",
   "metadata": {},
   "source": [
    "To represent these we can adapted from [scipy.stats.fisher_exact](https://docs.scipy.org/doc/scipy/reference/generated/scipy.stats.fisher_exact.html#scipy.stats.fisher_exact) to output an array "
   ]
  },
  {
   "cell_type": "code",
   "execution_count": 15,
   "metadata": {},
   "outputs": [
    {
     "data": {
      "text/plain": [
       "0.028571428571428536"
      ]
     },
     "execution_count": 15,
     "metadata": {},
     "output_type": "execute_result"
    }
   ],
   "source": [
    "import scipy.stats as stats\n",
    "from scipy.stats import hypergeom\n",
    "import numpy as np\n",
    "\n",
    "table = np.array([[4, 0],[0, 4]])\n",
    "\n",
    "oddsratio, pvalue = stats.fisher_exact(table)  \n",
    "pvalue"
   ]
  },
  {
   "cell_type": "markdown",
   "metadata": {},
   "source": [
    "## Explanation of Hypergeometric distribution\n",
    "\n",
    "Ref: https://en.wikipedia.org/wiki/Hypergeometric_distribution\n",
    "\n",
    "The hypergeometric distribution is a discrete probability distribution that describes the probability of k k successes (random draws for which the object drawn has a specified feature) in n n draws, without replacement, from a finite population of size N N that contains exactly K K objects with that feature, wherein each draw is either a success or a failure. \n",
    "\n",
    "The array of the Hypergeometric distribution indicates the different outcomes of selecting\n",
    "\n",
    "** array([0.01428571, 0.22857143, 0.51428571, 0.22857143, 0.01428571])\n",
    "\n",
    "*** Selecting 0 or 4 cups has a probability  0.01428571  (1.4%)\n",
    "\n",
    "*** Selecting 1 or 3 cups has a probability  0.22857143  (22.8%)\n",
    "\n",
    "*** Selecting 2 cups has a probability 0.51428571  (51.4%)"
   ]
  },
  {
   "cell_type": "code",
   "execution_count": 25,
   "metadata": {},
   "outputs": [
    {
     "name": "stdout",
     "output_type": "stream",
     "text": [
      "0.014285714285714268\n",
      "0.22857142857142837\n",
      "0.5142857142857145\n",
      "0.22857142857142837\n",
      "0.014285714285714268\n"
     ]
    }
   ],
   "source": [
    "M = table.sum()\n",
    "n = table[0].sum()\n",
    "N = table[:, 0].sum()\n",
    "start, end = hypergeom.support(M, n, N)\n",
    "output = hypergeom.pmf(np.arange(start, end+1), M, n, N)\n",
    "\n",
    "print(*output, sep=\"\\n\")"
   ]
  },
  {
   "cell_type": "code",
   "execution_count": 26,
   "metadata": {},
   "outputs": [
    {
     "data": {
      "text/plain": [
       "0.19999999999999996"
      ]
     },
     "execution_count": 26,
     "metadata": {},
     "output_type": "execute_result"
    }
   ],
   "source": [
    "from statistics import mean\n",
    "\n",
    "mean(output)\n",
    "\n"
   ]
  },
  {
   "cell_type": "markdown",
   "metadata": {},
   "source": [
    "<h3>Exercise 1.4 </h3> \n",
    "\n",
    "PDF Probability Density Function\n",
    "\n",
    "<hr style=\"border-top: 1px solid;\" />"
   ]
  },
  {
   "cell_type": "code",
   "execution_count": 17,
   "metadata": {},
   "outputs": [
    {
     "name": "stdout",
     "output_type": "stream",
     "text": [
      "t-value: -12.489939594804564\tp-value: 2.7054892317549458e-20\tDeg Free: 78.0\n",
      "P_statsmodels: 0.00\n"
     ]
    }
   ],
   "source": [
    "# Parameters for two different lists of numbers.\n",
    "m_a, s_a, m_b, s_b = 1.0, 0.4, 2.0, 0.4\n",
    "# Sample size.\n",
    "N = 40\n",
    "\n",
    "# Create two lists of numbers based on bell-shaped probability curves.\n",
    "a = np.random.normal(loc=m_a, scale=s_a, size=N)\n",
    "b = np.random.normal(loc=m_b, scale=s_b, size=N)\n",
    "\n",
    "# Stick both samples in one data frame.\n",
    "df = pd.DataFrame({'Category': ['A'] * len(a) + ['B'] * len(b), 'Value': np.hstack([a,b])})\n",
    "\n",
    "# We can look directly at the list of numbers, but it's not very illuminating.\n",
    "df\n",
    "\n",
    "\n",
    "# Alternative statistics package.\n",
    "import statsmodels.stats.weightstats as stat\n",
    "\n",
    "# The statsmodels version.\n",
    "t_sm, p_sm, d_sm = stat.ttest_ind(a, b)\n",
    "print(f\"t-value: {t_sm}\\tp-value: {p_sm}\\tDeg Free: {d_sm}\")\n",
    "print(f\"P_statsmodels: {p_sm:0.2f}\")\n",
    "\n"
   ]
  },
  {
   "cell_type": "code",
   "execution_count": 18,
   "metadata": {},
   "outputs": [],
   "source": [
    "# Get Degreees of Freedom\n",
    "# Degree freedom is calculated as the length of the list of numbers minus 1.\n",
    "# As the Dataframe includes a header this also requires to be removed.\n",
    "\n",
    "degree_freedom = len(df) - 1 -1"
   ]
  },
  {
   "cell_type": "code",
   "execution_count": 19,
   "metadata": {},
   "outputs": [
    {
     "data": {
      "text/plain": [
       "-12.489939594804564"
      ]
     },
     "execution_count": 19,
     "metadata": {},
     "output_type": "execute_result"
    }
   ],
   "source": [
    "# Calculate p-value \"by hand\".\n",
    "# https://en.wikipedia.org/wiki/Student%27s_t-distribution\n",
    "\n",
    "# Length of the arrays.\n",
    "n1 = len(a)\n",
    "n2 = len(b)\n",
    "\n",
    "# Means of the samples.\n",
    "m1 = np.sum(a) / n1\n",
    "m2 = np.sum(b) / n2\n",
    "\n",
    "# Sample standard deviations.\n",
    "s1 = np.sqrt(np.sum((a - m1)**2) / (n1 - 1))\n",
    "s2 = np.sqrt(np.sum((b - m2)**2) / (n1 - 1))\n",
    "\n",
    "df = n1 + n2 - 2\n",
    "sp2 = ((n1 - 1) * s1**2 + (n2 - 1) * s2**2) / df\n",
    "t = (m1 - m2) / (np.sqrt(sp2) * np.sqrt(1.0/n1 + 1.0/n2))\n",
    "\n",
    "t"
   ]
  },
  {
   "cell_type": "code",
   "execution_count": 20,
   "metadata": {},
   "outputs": [],
   "source": [
    "# Calculate p-value \"by hand\".\n",
    "# https://en.wikipedia.org/wiki/Test_statistic"
   ]
  },
  {
   "cell_type": "code",
   "execution_count": null,
   "metadata": {},
   "outputs": [],
   "source": []
  },
  {
   "cell_type": "markdown",
   "metadata": {},
   "source": [
    "https://en.wikipedia.org/wiki/Student%27s_t-distribution"
   ]
  },
  {
   "cell_type": "code",
   "execution_count": 21,
   "metadata": {},
   "outputs": [
    {
     "ename": "NameError",
     "evalue": "name 'axis' is not defined",
     "output_type": "error",
     "traceback": [
      "\u001b[1;31m---------------------------------------------------------------------------\u001b[0m",
      "\u001b[1;31mNameError\u001b[0m                                 Traceback (most recent call last)",
      "\u001b[1;32mc:\\repo\\2022_09_Machine_Learning_and_Statistics\\Practicals\\01_statistics_exercise.ipynb Cell 35\u001b[0m in \u001b[0;36m<cell line: 1>\u001b[1;34m()\u001b[0m\n\u001b[1;32m----> <a href='vscode-notebook-cell:/c%3A/repo/2022_09_Machine_Learning_and_Statistics/Practicals/01_statistics_exercise.ipynb#X46sZmlsZQ%3D%3D?line=0'>1</a>\u001b[0m n2 \u001b[39m=\u001b[39m b\u001b[39m.\u001b[39mshape[axis]\n\u001b[0;32m      <a href='vscode-notebook-cell:/c%3A/repo/2022_09_Machine_Learning_and_Statistics/Practicals/01_statistics_exercise.ipynb#X46sZmlsZQ%3D%3D?line=1'>2</a>\u001b[0m v2 \u001b[39m=\u001b[39m _var(b, axis, ddof\u001b[39m=\u001b[39m\u001b[39m1\u001b[39m)\n\u001b[0;32m      <a href='vscode-notebook-cell:/c%3A/repo/2022_09_Machine_Learning_and_Statistics/Practicals/01_statistics_exercise.ipynb#X46sZmlsZQ%3D%3D?line=2'>3</a>\u001b[0m m2 \u001b[39m=\u001b[39m np\u001b[39m.\u001b[39mmean(b, axis)\n",
      "\u001b[1;31mNameError\u001b[0m: name 'axis' is not defined"
     ]
    }
   ],
   "source": [
    "n2 = b.shape[axis]\n",
    "v2 = _var(b, axis, ddof=1)\n",
    "m2 = np.mean(b, axis)"
   ]
  },
  {
   "cell_type": "code",
   "execution_count": null,
   "metadata": {},
   "outputs": [],
   "source": []
  },
  {
   "cell_type": "markdown",
   "metadata": {},
   "source": [
    "<h3 >Exercise</h3>\n",
    "\n",
    "<hr style=\"border-top: 1px solid #001a79;\" />\n",
    "\n",
    "<i>Remember to do these exercises in your own notebook in your assessment repository.</i>\n",
    "\n",
    "Take the code from the <a href=\"https://docs.scipy.org/doc/scipy/reference/generated/scipy.stats.ttest_ind.html\">Examples section of the scipy stats documentation for independent samples t-tests</a>, add it to your own notebook and add explain how it works using MarkDown cells and code comments. Improve it in any way you think it could be improved."
   ]
  },
  {
   "cell_type": "code",
   "execution_count": null,
   "metadata": {},
   "outputs": [],
   "source": []
  },
  {
   "cell_type": "code",
   "execution_count": null,
   "metadata": {},
   "outputs": [],
   "source": []
  }
 ],
 "metadata": {
  "kernelspec": {
   "display_name": "Python 3.9.13 ('base')",
   "language": "python",
   "name": "python3"
  },
  "language_info": {
   "codemirror_mode": {
    "name": "ipython",
    "version": 3
   },
   "file_extension": ".py",
   "mimetype": "text/x-python",
   "name": "python",
   "nbconvert_exporter": "python",
   "pygments_lexer": "ipython3",
   "version": "3.9.13"
  },
  "orig_nbformat": 4,
  "vscode": {
   "interpreter": {
    "hash": "ad2bdc8ecc057115af97d19610ffacc2b4e99fae6737bb82f5d7fb13d2f2c186"
   }
  }
 },
 "nbformat": 4,
 "nbformat_minor": 2
}
