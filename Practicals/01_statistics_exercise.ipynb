{
 "cells": [
  {
   "cell_type": "markdown",
   "metadata": {},
   "source": [
    "## Exercise 1.1\n",
    "\n",
    "Calculate the minimum number of cups of tea required to ensure the probability of randomly selecting the correct cups is less than or equal to 1%.\n",
    "\n",
    "An overview of number of ways of selecting four cups from eight."
   ]
  },
  {
   "cell_type": "code",
   "execution_count": 89,
   "metadata": {},
   "outputs": [
    {
     "name": "stdout",
     "output_type": "stream",
     "text": [
      "The number of ways of selecting four cups from eight. Where the order doesn't matter is: 70.0\n",
      "\n",
      "Probability of randomly selecting correct four cups from eight is: 0.014285714285714285\n"
     ]
    }
   ],
   "source": [
    "# The number of ways of selecting four things from eight\n",
    "# Where the order doesn't matter.\n",
    "x1 = (8 * 7 * 6 * 5)/(4 * 3 * 2 *1)\n",
    "\n",
    "# 8 cups:           0 1 x 3 4 5 6 7\n",
    "# 4 cups:                2  _  _  _\n",
    "# Possiblities:         8* \n",
    "\n",
    "# 8 cups:           0 1 x 3 x 5 6 7\n",
    "# 4 cups:                2 4   _  _\n",
    "# Possiblities:         8* 7* \n",
    "\n",
    "# 8 cups:           0 1 x 3 x 5 6 x\n",
    "# 4 cups:                2 4  7  _\n",
    "# Possiblities:         8* 7* 6*\n",
    "\n",
    "# 8 cups:           x 1 x 3 x 5 6 x\n",
    "# 4 cups:                2 4  7  0\n",
    "# Possiblities:         8* 7* 6* 5*\n",
    "\n",
    "# 8 cups:           0 1 2 3 4 5 6 7\n",
    "# 4 cups:               _ _ _ _\n",
    "# Possiblities:         8* 7* 6* 5*\n",
    "# Permutations:         2 4 7 0 (Selection 1)\n",
    "#                       4 2 7 0 (Selection 1)\n",
    "#                       4*3*2*1*\n",
    "\n",
    "print(\"The number of ways of selecting four cups from eight. Where the order doesn't matter is: \" + str(x1))\n",
    "\n",
    "# The probability of randomly selecting the four correct cups.\n",
    "y1 = 1.0/70.0\n",
    "\n",
    "print(\"\\nProbability of randomly selecting correct four cups from eight is: \" + str(y1))"
   ]
  },
  {
   "cell_type": "markdown",
   "metadata": {},
   "source": [
    "The above gives about a 1.5% chance of randomly selecting the correct cups. To ensure the probability of randomly selecting the correct cups is less than or equal to 1%. We are going to adapt code from https://stackoverflow.com/a/4941932 and a use the funtion math.comb(). \n",
    "\n",
    "**What is math.comb()?**\n",
    "\n",
    "This function will return the number of ways to select r elements from n items without repetition and order. [https://python.plainenglish.io/python-3-math-module-an-incredible-module-b224bf421c6e]\n",
    "\n",
    "Lets try repeat by selecting four cups from eight to see if we get the same probability of randomly selecting the four correct cups."
   ]
  },
  {
   "cell_type": "code",
   "execution_count": 90,
   "metadata": {},
   "outputs": [
    {
     "name": "stdout",
     "output_type": "stream",
     "text": [
      "The number of ways of selecting four cups from eight. Where the order doesn't matter is: 70\n",
      "\n",
      "Probability of randomly selecting correct four cups from eight is: 0.014285714285714285\n",
      "\n",
      "Verify both methods output are True or False for the number of ways: True\n",
      "\n",
      "Verify both methods output are True or False for the probability:  True\n"
     ]
    }
   ],
   "source": [
    "# math module\n",
    "import math\n",
    "\n",
    "# Number of ways of selecting 4 cups from 8\n",
    "x2 = math.comb(8,4)\n",
    "\n",
    "# Probability of randomly selecting correct 4 cups from 8 is:\n",
    "y2 = 1.0/math.comb(8,4)\n",
    "\n",
    "print(\"The number of ways of selecting four cups from eight. Where the order doesn't matter is: \" + str(x))\n",
    "\n",
    "print(\"\\nProbability of randomly selecting correct four cups from eight is: \" + str(y2))\n",
    "\n",
    "# Verify the results  \n",
    "x3 = (x1 == x2)\n",
    "\n",
    "print(\"\\nVerify both methods output are True or False for the number of ways: \" + str(x3))\n",
    "\n",
    "y3 = (y1 == y2)\n",
    "print(\"\\nVerify both methods output are True or False for the probability:  \" + str(y3))\n"
   ]
  },
  {
   "cell_type": "markdown",
   "metadata": {},
   "source": [
    "To ensure the probability of randomly selecting the correct cups is less than or equal to 1%. If we increase the experitment with 10 cups, five with milk in first and five with tea in first, then the chances of selecting correctly is much less than 1%"
   ]
  },
  {
   "cell_type": "code",
   "execution_count": 91,
   "metadata": {},
   "outputs": [
    {
     "name": "stdout",
     "output_type": "stream",
     "text": [
      "The number of ways of selecting five cups from ten. Where the order doesn't matter is: 252\n",
      "\n",
      "Probability of randomly selecting correct five cups from ten is: 0.003968253968253968\n"
     ]
    }
   ],
   "source": [
    "# Number of ways of selecting 5 cups from 10\n",
    "x4 = math.comb(10,5)\n",
    "\n",
    "# Probability of randomly selecting correct 5 cups is:\n",
    "y4 = 1.0/math.comb(10,5)\n",
    "\n",
    "print(\"The number of ways of selecting five cups from ten. Where the order doesn't matter is: \" + str(x4))\n",
    "\n",
    "print(\"\\nProbability of randomly selecting correct five cups from ten is: \" + str(y4))"
   ]
  },
  {
   "cell_type": "markdown",
   "metadata": {},
   "source": [
    "The chances of selecting correctly with 10 cups, five with milk in first and five with tea in first is 0.4%\n",
    "\n",
    "To illustrate the concept further, the experiment is now going to have 9 cups in total, 4 with milk in first and 5 with tea in first. The probability for this would also work in reverse to allow 5 with milk in first and 4 with tea in first."
   ]
  },
  {
   "cell_type": "code",
   "execution_count": 92,
   "metadata": {},
   "outputs": [
    {
     "name": "stdout",
     "output_type": "stream",
     "text": [
      "The number of ways of selecting four cups from nine. Where the order doesn't matter is: 126\n",
      "\n",
      "The number of ways of selecting five cups from nine. Where the order doesn't matter is: 126\n",
      "\n",
      "Verify both outputs are True or False for the number of ways: True\n",
      "\n",
      "Probability of randomly selecting correct four or five cups from ten is: 0.007936507936507936\n"
     ]
    }
   ],
   "source": [
    "# Number of ways of selecting 4 cups from 9\n",
    "x5 = math.comb(9,4)\n",
    "\n",
    "# Number of ways of selecting 5 cups from 9\n",
    "x6 = math.comb(9,5)\n",
    "\n",
    "# Verify the results  \n",
    "x7 = (x5 == x6)\n",
    "\n",
    "# Probability of randomly selecting correct 4 cups from 9 is:\n",
    "y5 = 1.0/math.comb(9,4)\n",
    "\n",
    "print(\"The number of ways of selecting four cups from nine. Where the order doesn't matter is: \" + str(x5))\n",
    "\n",
    "print(\"\\nThe number of ways of selecting five cups from nine. Where the order doesn't matter is: \" + str(x6))\n",
    "\n",
    "print(\"\\nVerify both outputs are True or False for the number of ways: \" + str(x7))\n",
    "\n",
    "print(\"\\nProbability of randomly selecting correct four or five cups from ten is: \" + str(y5))\n",
    "\n"
   ]
  },
  {
   "cell_type": "markdown",
   "metadata": {},
   "source": [
    "### Bonus\n",
    "\n",
    "Calculate the minimum number of cups of tea required to ensure the probability of randomly selecting the correct cups is less than or equal to 1%."
   ]
  },
  {
   "cell_type": "code",
   "execution_count": 93,
   "metadata": {},
   "outputs": [
    {
     "name": "stdout",
     "output_type": "stream",
     "text": [
      "The number of ways of selecting three cups from ten. Where the order doesn't matter is: 120\n",
      "\n",
      "Answer: Number of ways of selecting three cups from ten is equal to : 0.008333333333333333\n"
     ]
    }
   ],
   "source": [
    "# Number of ways of selecting 3 cups from 10\n",
    "x8 = math.comb(10,3)\n",
    "\n",
    "# Probability of randomly selecting correct 3 cups from 10 is:\n",
    "y6 = 1.0/math.comb(10,3)\n",
    "\n",
    "print(\"The number of ways of selecting three cups from ten. Where the order doesn't matter is: \" + str(x8))\n",
    "\n",
    "print(\"\\nAnswer: Number of ways of selecting three cups from ten is equal to : \" + str(y6))\n",
    "\n"
   ]
  },
  {
   "cell_type": "markdown",
   "metadata": {},
   "source": [
    "## Exercise 1.2\n",
    "\n",
    "Use <a href=\"https://docs.scipy.org/doc/scipy/reference/generated/scipy.stats.fisher_exact.html\" >scipy's version of Fisher's exact test</a> to simulate the Lady Tasting Tea problem.\n",
    "\n",
    "\n",
    "Lets review the terms:\n",
    "\n",
    "**Null hypothesis (often denoted H0)** This hypothesis is assumed to be true until there is evidence to suggest otherwise. [https://online.stat.psu.edu/stat500/lesson/6a/6a.1]\n",
    "\n",
    "**Alternative hypothesis is often denoted as Ha or H1** is an opposing theory to the null hypothesis. [https://www.indeed.com/career-advice/career-development/alternative-hypothesis]\n",
    "\n",
    "**What Is P-Value?** In statistics, the p-value is the probability of obtaining results at least as extreme as the observed results of a statistical hypothesis test, assuming that the null hypothesis is correct [https://www.investopedia.com/terms/p/p-value.asp]\n",
    "\n",
    "**What Is Significance level?** The significance level, also known as alpha or α, is a measure of the strength of the evidence that must be present in your sample before you will reject the null hypothesis and conclude that the effect is statistically significant. [https://statisticsbyjim.com/glossary/significance-level/] Significance level defines how much evidence we require to reject Null hypothesis (H0) in favor of Alternative hypothesis (HA). It serves as the cutoff. The default cutoff commonly used is 0.05. If the p-value is less than 0.05, we reject H0. If the p-value is greater than 0.05, we do not reject H0. [https://www.statisticsteacher.org/2017/01/05/why-0-05-two-examples-that-put-students-in-the-role-of-decision-maker/]\n",
    "\n",
    "### Lady Tasting Tea\n",
    "\n",
    "**Note** The null hypothesis is that the subject has no ability to distinguish the teas. In Fisher's approach, there was no alternative hypothesis [https://en.wikipedia.org/wiki/Lady_tasting_tea]\n",
    "\n",
    "**Null hypothesis (often denoted H0)** the subject cannot tell if the cup had milk in it first or last.\n",
    "\n",
    "**Alternative hypothesis is often denoted as Ha or H1** the subject can tell.\n",
    "\n",
    "The p-value of randomly selecting correct 4 cups from 8 is: **0.014285714285714285**. Should the subject pick the correct four cups with milk in them first, there is only a 1 in 70 (~1.4%) chance of them having done that if they were simply guessing.\n",
    "\n",
    "Therefore Fisher considered that unlikely enough to reject the null hypothesis if they manage it. [https://github.com/ianmcloughlin/2223-S1-machine-learn-stats/blob/main/notebooks/01-statistics.ipynb]\n",
    "\n",
    "To explain we will have to determine the possible contingency tables and calculate the p-value which is the probability of observing this or an even more extreme contingency table under the null hypothesis. [https://towardsdatascience.com/fishers-exact-test-from-scratch-with-python-2b907f29e593]\n"
   ]
  },
  {
   "cell_type": "code",
   "execution_count": 94,
   "metadata": {},
   "outputs": [
    {
     "data": {
      "text/html": [
       "<div>\n",
       "<style scoped>\n",
       "    .dataframe tbody tr th:only-of-type {\n",
       "        vertical-align: middle;\n",
       "    }\n",
       "\n",
       "    .dataframe tbody tr th {\n",
       "        vertical-align: top;\n",
       "    }\n",
       "\n",
       "    .dataframe thead th {\n",
       "        text-align: right;\n",
       "    }\n",
       "</style>\n",
       "<table border=\"1\" class=\"dataframe\">\n",
       "  <thead>\n",
       "    <tr style=\"text-align: right;\">\n",
       "      <th></th>\n",
       "      <th>Milk</th>\n",
       "      <th>Tea</th>\n",
       "      <th>Row_Total</th>\n",
       "    </tr>\n",
       "  </thead>\n",
       "  <tbody>\n",
       "    <tr>\n",
       "      <th>Milk</th>\n",
       "      <td>4</td>\n",
       "      <td>0</td>\n",
       "      <td>4</td>\n",
       "    </tr>\n",
       "    <tr>\n",
       "      <th>Tea</th>\n",
       "      <td>0</td>\n",
       "      <td>4</td>\n",
       "      <td>4</td>\n",
       "    </tr>\n",
       "    <tr>\n",
       "      <th>Column_Total</th>\n",
       "      <td>4</td>\n",
       "      <td>4</td>\n",
       "      <td>8</td>\n",
       "    </tr>\n",
       "  </tbody>\n",
       "</table>\n",
       "</div>"
      ],
      "text/plain": [
       "              Milk  Tea  Row_Total\n",
       "Milk             4    0          4\n",
       "Tea              0    4          4\n",
       "Column_Total     4    4          8"
      ]
     },
     "execution_count": 94,
     "metadata": {},
     "output_type": "execute_result"
    }
   ],
   "source": [
    "# The following is adapted from https://towardsdatascience.com/fishers-exact-test-from-scratch-with-python-2b907f29e593\n",
    "import numpy as np\n",
    "import pandas as pd\n",
    "\n",
    "ar=np.array([[4, 0],[0, 4]])    \n",
    "df=pd.DataFrame(ar, columns=[\"Milk\", \"Tea\"])\n",
    "df.index=[\"Milk\", \"Tea\"] \n",
    "df \n",
    "\n",
    "df2=df.copy()\n",
    "df2.loc['Column_Total']= df2.sum(numeric_only=True, axis=0)\n",
    "df2.loc[:,'Row_Total'] = df2.sum(numeric_only=True, axis=1)\n",
    "df2\n",
    "\n"
   ]
  },
  {
   "cell_type": "markdown",
   "metadata": {},
   "source": [
    "4 Milk Guessed correctly we get the following probability: \n",
    "\n",
    "![Fisher_Tea_P02](https://raw.githubusercontent.com/DPR-droid/2022_09_Machine_Learning_and_Statistics/main/Practicals/Fisher_Tea_P02.PNG?raw=true)\n",
    "\n",
    "This would also be true in reverse 4 Tea guessed correctly\n",
    "\n",
    "![Fisher_Tea_P04](https://raw.githubusercontent.com/DPR-droid/2022_09_Machine_Learning_and_Statistics/main/Practicals/Fisher_Tea_P04.PNG?raw=true)"
   ]
  },
  {
   "cell_type": "code",
   "execution_count": 95,
   "metadata": {},
   "outputs": [
    {
     "data": {
      "text/html": [
       "<div>\n",
       "<style scoped>\n",
       "    .dataframe tbody tr th:only-of-type {\n",
       "        vertical-align: middle;\n",
       "    }\n",
       "\n",
       "    .dataframe tbody tr th {\n",
       "        vertical-align: top;\n",
       "    }\n",
       "\n",
       "    .dataframe thead th {\n",
       "        text-align: right;\n",
       "    }\n",
       "</style>\n",
       "<table border=\"1\" class=\"dataframe\">\n",
       "  <thead>\n",
       "    <tr style=\"text-align: right;\">\n",
       "      <th></th>\n",
       "      <th>Milk</th>\n",
       "      <th>Tea</th>\n",
       "      <th>Row_Total</th>\n",
       "    </tr>\n",
       "  </thead>\n",
       "  <tbody>\n",
       "    <tr>\n",
       "      <th>Milk</th>\n",
       "      <td>3</td>\n",
       "      <td>1</td>\n",
       "      <td>4</td>\n",
       "    </tr>\n",
       "    <tr>\n",
       "      <th>Tea</th>\n",
       "      <td>1</td>\n",
       "      <td>3</td>\n",
       "      <td>4</td>\n",
       "    </tr>\n",
       "    <tr>\n",
       "      <th>Column_Total</th>\n",
       "      <td>4</td>\n",
       "      <td>4</td>\n",
       "      <td>8</td>\n",
       "    </tr>\n",
       "  </tbody>\n",
       "</table>\n",
       "</div>"
      ],
      "text/plain": [
       "              Milk  Tea  Row_Total\n",
       "Milk             3    1          4\n",
       "Tea              1    3          4\n",
       "Column_Total     4    4          8"
      ]
     },
     "execution_count": 95,
     "metadata": {},
     "output_type": "execute_result"
    }
   ],
   "source": [
    "ar=np.array([[3, 1],[1, 3]])    \n",
    "df=pd.DataFrame(ar, columns=[\"Milk\", \"Tea\"])\n",
    "df.index=[\"Milk\", \"Tea\"] \n",
    "df \n",
    "\n",
    "df2=df.copy()\n",
    "df2.loc['Column_Total']= df2.sum(numeric_only=True, axis=0)\n",
    "df2.loc[:,'Row_Total'] = df2.sum(numeric_only=True, axis=1)\n",
    "df2"
   ]
  },
  {
   "cell_type": "markdown",
   "metadata": {},
   "source": [
    "3 Milk guessed correctly we get the following probability: \n",
    "\n",
    "![Fisher_Tea_P01](https://raw.githubusercontent.com/DPR-droid/2022_09_Machine_Learning_and_Statistics/main/Practicals/Fisher_Tea_P01.PNG?raw=true)\n",
    "\n",
    "This would also be true in reverse 3 Tea guessed correctly\n",
    "\n",
    "![Fisher_Tea_P05](https://raw.githubusercontent.com/DPR-droid/2022_09_Machine_Learning_and_Statistics/main/Practicals/Fisher_Tea_P05.PNG?raw=true)"
   ]
  },
  {
   "cell_type": "code",
   "execution_count": 96,
   "metadata": {},
   "outputs": [
    {
     "data": {
      "text/html": [
       "<div>\n",
       "<style scoped>\n",
       "    .dataframe tbody tr th:only-of-type {\n",
       "        vertical-align: middle;\n",
       "    }\n",
       "\n",
       "    .dataframe tbody tr th {\n",
       "        vertical-align: top;\n",
       "    }\n",
       "\n",
       "    .dataframe thead th {\n",
       "        text-align: right;\n",
       "    }\n",
       "</style>\n",
       "<table border=\"1\" class=\"dataframe\">\n",
       "  <thead>\n",
       "    <tr style=\"text-align: right;\">\n",
       "      <th></th>\n",
       "      <th>Milk</th>\n",
       "      <th>Tea</th>\n",
       "      <th>Row_Total</th>\n",
       "    </tr>\n",
       "  </thead>\n",
       "  <tbody>\n",
       "    <tr>\n",
       "      <th>Milk</th>\n",
       "      <td>2</td>\n",
       "      <td>2</td>\n",
       "      <td>4</td>\n",
       "    </tr>\n",
       "    <tr>\n",
       "      <th>Tea</th>\n",
       "      <td>2</td>\n",
       "      <td>2</td>\n",
       "      <td>4</td>\n",
       "    </tr>\n",
       "    <tr>\n",
       "      <th>Column_Total</th>\n",
       "      <td>4</td>\n",
       "      <td>4</td>\n",
       "      <td>8</td>\n",
       "    </tr>\n",
       "  </tbody>\n",
       "</table>\n",
       "</div>"
      ],
      "text/plain": [
       "              Milk  Tea  Row_Total\n",
       "Milk             2    2          4\n",
       "Tea              2    2          4\n",
       "Column_Total     4    4          8"
      ]
     },
     "execution_count": 96,
     "metadata": {},
     "output_type": "execute_result"
    }
   ],
   "source": [
    "ar=np.array([[2, 2],[2, 2]])    \n",
    "df=pd.DataFrame(ar, columns=[\"Milk\", \"Tea\"])\n",
    "df.index=[\"Milk\", \"Tea\"] \n",
    "df \n",
    "\n",
    "df2=df.copy()\n",
    "df2.loc['Column_Total']= df2.sum(numeric_only=True, axis=0)\n",
    "df2.loc[:,'Row_Total'] = df2.sum(numeric_only=True, axis=1)\n",
    "df2"
   ]
  },
  {
   "cell_type": "markdown",
   "metadata": {},
   "source": [
    "2 Milk Guessed correctly we get the following probability: \n",
    "\n",
    "![Fisher_Tea_P02](https://raw.githubusercontent.com/DPR-droid/2022_09_Machine_Learning_and_Statistics/main/Practicals/Fisher_Tea_P03.PNG?raw=true)"
   ]
  },
  {
   "cell_type": "markdown",
   "metadata": {},
   "source": [
    "We can adapted from [scipy.stats.fisher_exact](https://docs.scipy.org/doc/scipy/reference/generated/scipy.stats.fisher_exact.html#scipy.stats.fisher_exact) and selecting the parameter of **alternative='greater'**"
   ]
  },
  {
   "cell_type": "code",
   "execution_count": 97,
   "metadata": {},
   "outputs": [
    {
     "name": "stdout",
     "output_type": "stream",
     "text": [
      "\n",
      "Probability of randomly selecting correct four cups from eight is: 0.014285714285714268\n"
     ]
    }
   ],
   "source": [
    "import scipy.stats as stats\n",
    "from scipy.stats import hypergeom\n",
    "import numpy as np\n",
    "\n",
    "table = np.array([[4, 0],[0, 4]])\n",
    "\n",
    "# The one-sided p-value for alternative='greater' is the probability that a random table has x >= a\n",
    "\n",
    "oddsratio, pvalue = stats.fisher_exact(table, alternative='greater')  \n",
    "y7 = pvalue\n",
    "\n",
    "\n",
    "print(\"\\nProbability of randomly selecting correct four cups from eight is: \" + str(y7))"
   ]
  },
  {
   "cell_type": "markdown",
   "metadata": {},
   "source": [
    "<hr style=\"border-top: 1px solid #001a79;\" />\n",
    "\n",
    "<h3 >Exercise 2.1</h3>\n",
    "\n",
    "Take the code from the <a href=\"https://docs.scipy.org/doc/scipy/reference/generated/scipy.stats.ttest_ind.html\">\n",
    "\n",
    "Examples section of the scipy stats documentation for independent samples t-tests</a>, add it to your own notebook and add explain how it works using MarkDown cells and code comments. Improve it in any way you think it could be improved."
   ]
  },
  {
   "cell_type": "code",
   "execution_count": null,
   "metadata": {},
   "outputs": [],
   "source": []
  },
  {
   "cell_type": "code",
   "execution_count": null,
   "metadata": {},
   "outputs": [],
   "source": []
  },
  {
   "cell_type": "code",
   "execution_count": null,
   "metadata": {},
   "outputs": [],
   "source": []
  },
  {
   "cell_type": "code",
   "execution_count": null,
   "metadata": {},
   "outputs": [],
   "source": []
  },
  {
   "cell_type": "code",
   "execution_count": null,
   "metadata": {},
   "outputs": [],
   "source": []
  },
  {
   "cell_type": "code",
   "execution_count": null,
   "metadata": {},
   "outputs": [],
   "source": []
  },
  {
   "cell_type": "code",
   "execution_count": null,
   "metadata": {},
   "outputs": [],
   "source": []
  }
 ],
 "metadata": {
  "kernelspec": {
   "display_name": "Python 3.9.13 ('base')",
   "language": "python",
   "name": "python3"
  },
  "language_info": {
   "codemirror_mode": {
    "name": "ipython",
    "version": 3
   },
   "file_extension": ".py",
   "mimetype": "text/x-python",
   "name": "python",
   "nbconvert_exporter": "python",
   "pygments_lexer": "ipython3",
   "version": "3.9.13"
  },
  "orig_nbformat": 4,
  "vscode": {
   "interpreter": {
    "hash": "ad2bdc8ecc057115af97d19610ffacc2b4e99fae6737bb82f5d7fb13d2f2c186"
   }
  }
 },
 "nbformat": 4,
 "nbformat_minor": 2
}
