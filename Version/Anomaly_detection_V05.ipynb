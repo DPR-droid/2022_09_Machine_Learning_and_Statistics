{
 "cells": [
  {
   "cell_type": "markdown",
   "metadata": {},
   "source": [
    "# Machine Learning and Statistics 2022 Assessment\n",
    "\n",
    "Anomaly_detection_V04.ipynb Table of Contents\n",
    "\n",
    "1. Introduction\n",
    "    - 1.1 Machine Learning Project Notebook\n",
    "    - 1.2 What Is TensorFlow?\n",
    "    - 1.3 What Is Keras?\n",
    "    - 1.4 Why use Keras?\n",
    "    - 1.5 Single Neuron\n",
    "    - 1.6 What is a Reconstruction Convolutional Autoencoder Model?\n",
    "\n",
    "2. Detect anomalies in a timeseries using an Autoencoder\n",
    "    - 2.1 Introduction\n",
    "    - 2.2 Setup\n",
    "    - 2.3 Load the data\n",
    "    - 2.4 Prepare training data \n",
    "    - 2.5 Create sequences\n",
    "    - 2.6 Create the Keras layers\n",
    "    - 2.7 Train the model\n",
    "    - 2.8 \n",
    "\n",
    "3. Something\n",
    "    - 3.1 \n",
    "    - 3.2 \n",
    "    - 3.3 \n",
    "    - 3.4 \n",
    "4. References \n",
    "\n",
    "<hr style=\"border-top: 1px solid rgb(0, 91, 94);\" />\n",
    "\n",
    "# 1. Introduction\n",
    "\n",
    "## 1.1 Machine Learning Project Notebook\n",
    "\n",
    "- On the keras website, there is an example of time-series anomaly detection. Re-create this example in a notebook of your own, explaining the concepts\n",
    "    - Keras Team. Keras: the python  deep learning api, 2022a. URL https://keras.io/\n",
    "    - Keras Team. Timeseries anomaly detection using an autoencoder, 2022b. URL https://keras.io/examples/timeseries/timeseries_anomaly_detection/\n",
    "- Clearly explain each keras function used, referring to the documentation \n",
    "- Include an introduction to your notebook, setting the context and describing what the reader can expect as they read down through the notebook.\n",
    "- Include a conclusion section where you suggest improvements you could make to the analysis in the notebook.\n",
    "- Pitch all your work at your classmates as the audience. [4]\n",
    "\n",
    "## 1.2 What Is TensorFlow?\n",
    "\n",
    "TensorFlow is an open-source end-to-end machine learning framework that is designed to make it easy to build and deploy machine learning models. It is widely used in the field of artificial intelligence and machine learning, and is known for its ability to perform a variety of tasks including deep neural network training and inference.\n",
    "\n",
    "One of the key features of TensorFlow is its ability to perform symbolic math using dataflow and differentiable programming. This allows users to build machine learning models by constructing computational graphs that represent the relationships between different variables and operations. TensorFlow also provides a range of tools, frameworks, and community resources that can be used to build and deploy machine learning applications.\n",
    "\n",
    "Overall, TensorFlow is a powerful and widely-used tool for building and deploying machine learning models, and is suitable for a wide range of applications and use cases. [2] \n",
    "\n",
    "\n",
    "## 1.3 What Is Keras?\n",
    "\n",
    "Keras is a high-level deep learning API that is designed to make it easy to build, train, and deploy neural networks. It is written in Python and provides a simple, user-friendly interface for building neural networks, allowing even those with little to no experience in deep learning to get started quickly.\n",
    "\n",
    "One of the key features of Keras is its flexibility in terms of the backends it can use for computations. It can use multiple backends such as TensorFlow, Theano, or CNTK, allowing users to choose the backend that best fits their needs.\n",
    "\n",
    "While Keras may not be as fast as some other deep learning frameworks, it is still a powerful tool for building and training neural networks, and is widely used in the field of machine learning and artificial intelligence. \n",
    "\n",
    "TensorFlow has adopted Keras as its official high-level API, and Keras is fully integrated with TensorFlow. This allows users to take advantage of the simplicity and user-friendliness of Keras for building and training neural networks, while also having the option to use the TensorFlow Core API for more advanced customizations and fine-tuning.\n",
    "\n",
    "Using the TensorFlow Core API in conjunction with Keras can provide a powerful combination for building and training neural networks, as it allows users to leverage the high-level abstractions of Keras while also having the flexibility and control of the lower-level TensorFlow Core API.\n",
    "\n",
    "Overall, both Keras and TensorFlow are widely used in the field of machine learning and artificial intelligence, and are powerful tools for building and training neural networks. [3] [9]\n",
    "\n",
    "## 1.4 Why use Keras?\n",
    "\n",
    "1. Keras is an API that was made to be easy to learn for people\n",
    "2. Prototyping time in Keras is less\n",
    "3. Keras runs on top of TensorFlow and is relatively fast\n",
    "4. Documentation and help available are far more extensive than other deep learning frameworks\n",
    "5. Keras is used commercially by many companies\n",
    "6. It runs smoothly on both CPU and GPU\n",
    "7. Supports almost all neural network models.\n",
    "8. It is modular in nature, which makes it expressive, flexible, and apt for innovative research. [3] [9]\n",
    "\n",
    "\n",
    "## 1.5 Single Neuron\n",
    "\n",
    "A single neuron with 3 input connections and 1 output. There is a forward propagate method calculates the output of the neuron, and the back propagate method calculates the error in the output of the neuron and updates the weights.\n",
    "\n",
    "To train the neural network, you can loop through a set of training examples and forward propagate and back propagate for each example. You can then evaluate the accuracy of the neural network by comparing the output of the neuron to the expected output for each training example. [5]\n",
    "\n",
    "![Single_Neuron](https://raw.githubusercontent.com/DPR-droid/2022_09_Machine_Learning_and_Statistics/main/data/Single_Neuron.svg?raw=true)\n",
    "\n",
    "\n",
    "## 1.6 What is a Reconstruction Convolutional Autoencoder Model?\n",
    "A convolutional autoencoder is a type of neural network that is used for unsupervised learning. It is composed of two main parts; an encoder and a decoder. [6] A convolutional autoencoder is a variant of a Convolutional Neural Networks (CNNs) [7] are well-suited for forecasting time-series data because they can take advantage of the temporal relationships between observations in the time-series. [8]"
   ]
  },
  {
   "cell_type": "markdown",
   "metadata": {},
   "source": [
    "# 2. Detect anomalies in a timeseries using an Autoencoder.\n",
    "\n",
    "## 2.1 Introduction\n",
    "This script demonstrates how you can use a reconstruction convolutional autoencoder model to detect anomalies in timeseries data. [1]\n",
    "\n",
    "## 2.2 Setup\n"
   ]
  },
  {
   "cell_type": "code",
   "execution_count": 115,
   "metadata": {},
   "outputs": [],
   "source": [
    "# Excerpt from keras time-series anomaly detection [1]\n",
    "# Imports\n",
    "\n",
    "# Numerical arrays\n",
    "import numpy as np\n",
    "\n",
    "# Spreadsheet-like Data Frames.\n",
    "import pandas as pd\n",
    "\n",
    "# Neural networks refer to 1.3 What Is Keras? and 1.2 What Is TensorFlow? \n",
    "import tensorflow.keras as keras\n",
    "\n",
    "# Python data visualization library\n",
    "from matplotlib import pyplot as plt\n",
    "\n",
    "# Python data visualization library based on matplotlib\n",
    "import seaborn as sns\n"
   ]
  },
  {
   "cell_type": "markdown",
   "metadata": {},
   "source": [
    "## 2.3 Load the data\n",
    "\n",
    "We will use the [Numenta Anomaly Benchmark(NAB)](https://www.kaggle.com/boltzmannbrain/nab) and it's [Numenta Anomaly Benchmark(NAB) github](https://github.com/numenta/NAB) dataset. Numenta Anomaly Benchmark (NAB) is an open-source framework for evaluating the performance of anomaly detection algorithms.[10]  NAB includes a large dataset of real-world time-series data from a variety of sources, such as traffic data, temperature data, and machine performance data. The dataset includes both normal and anomalous data, and the goal of NAB is to provide a standardized way to evaluate the ability of anomaly detection algorithms to identify anomalies in the data. [11]\n",
    "\n",
    "\n",
    "The [art_daily_small_noise.csv](https://raw.githubusercontent.com/numenta/NAB/master/data/artificialNoAnomaly/) and [art_daily_jumpsup.csv](https://raw.githubusercontent.com/numenta/NAB/master/data/artificialWithAnomaly/) datasets are time-series datasets that contain data from artificially generated time-series that are ordered, timestamped, single-valued metrics.\n",
    "\n",
    "The [art_daily_small_noise.csv](https://raw.githubusercontent.com/numenta/NAB/master/data/artificialNoAnomaly/) dataset without anomaly. \n",
    "\n",
    "The [art_daily_jumpsup.csv](https://raw.githubusercontent.com/numenta/NAB/master/data/artificialWithAnomaly/) dataset with anomaly. \n",
    "\n",
    "These datasets are intended to be used to evaluate the ability of anomaly detection algorithms to identify anomalies in the data.\n",
    "\n",
    "Data are ordered, timestamped, single-valued metrics. We will use the `art_daily_small_noise.csv` file for training and the `art_daily_jumpsup.csv` file for testing. The simplicity of this dataset allows us to demonstrate anomaly detection effectively."
   ]
  },
  {
   "cell_type": "code",
   "execution_count": 116,
   "metadata": {},
   "outputs": [],
   "source": [
    "# https://peps.python.org/pep-0008/#maximum-line-length\n",
    "# long blocks of text with fewer structural restrictions \n",
    "# (docstrings or comments), the line length should be limited to 72 characters (78 Charactr long + this part is 116)\n",
    "\n",
    "# Root of URLs.\n",
    "root_url = 'https://raw.githubusercontent.com/numenta/NAB/master/data/'\n",
    "\n",
    "# Data file without anomaly.\n",
    "no_anomaly_url = root_url + 'artificialNoAnomaly/art_daily_small_noise.csv'\n",
    "\n",
    "# Data file with anomaly.\n",
    "with_anomaly_url = root_url + 'artificialWithAnomaly/art_daily_jumpsup.csv'"
   ]
  },
  {
   "cell_type": "code",
   "execution_count": 117,
   "metadata": {},
   "outputs": [
    {
     "data": {
      "text/plain": [
       "'https://raw.githubusercontent.com/numenta/NAB/master/data/artificialNoAnomaly/art_daily_small_noise.csv'"
      ]
     },
     "execution_count": 117,
     "metadata": {},
     "output_type": "execute_result"
    }
   ],
   "source": [
    "# Data Quality and Preprocessing\n",
    "# Click on the full url\n",
    "# Verify data  \n",
    "no_anomaly_url"
   ]
  },
  {
   "cell_type": "code",
   "execution_count": 118,
   "metadata": {},
   "outputs": [
    {
     "data": {
      "text/plain": [
       "'https://raw.githubusercontent.com/numenta/NAB/master/data/artificialWithAnomaly/art_daily_jumpsup.csv'"
      ]
     },
     "execution_count": 118,
     "metadata": {},
     "output_type": "execute_result"
    }
   ],
   "source": [
    "# Data Quality and Preprocessing\n",
    "# Click on the full url\n",
    "# Verify data  \n",
    "with_anomaly_url"
   ]
  },
  {
   "cell_type": "markdown",
   "metadata": {},
   "source": [
    "### Note: Why use Pandas?\n",
    "\n",
    "Training a neural network using Keras on datasets stored in Pandas dataframes can have some advantages compared to using other formats. Some advantages include: \n",
    "- Dataset versioning\n",
    "- Combination of multiple datasets\n",
    "- Multi-task problems [12]\n",
    "\n",
    "### Note: Data Quality and Preprocessing for Machine Learning Models\n",
    "\n",
    "It is important to do some **Data Quality and Preprocessing** on your data before sending it to a model for a number of reasons. Checking your data can help you to identify and fix problems or errors in the data that could affect the performance of your model. [27]\n",
    "\n",
    "Some common issues that you may want to check for include:\n",
    "\n",
    "- Missing values: If your data has missing values, these can cause problems when you try to fit a model to the data. You may want to check for missing values and decide how to handle them, such as by imputing the missing values or dropping the rows with missing data.\n",
    "\n",
    "- Outliers: Outliers in your data can have a large impact on the model's predictions, and can sometimes cause the model to fit poorly to the data. You may want to check for outliers and decide whether to remove them from the data or to transform the data to make the outliers less influential.\n",
    "\n",
    "- Inconsistencies: Inconsistencies in the data, such as incorrect or inconsistent values, can also cause problems when you try to fit a model to the data. You may want to check for inconsistencies and fix them if possible.\n",
    "\n",
    "- Data quality: The quality of the data can also affect the performance of the model. You may want to check the quality of the data to ensure that it is accurate and reliable. \n",
    "\n",
    "### Timeseries data without anomalies"
   ]
  },
  {
   "cell_type": "code",
   "execution_count": 119,
   "metadata": {},
   "outputs": [],
   "source": [
    "# pandas read in art_daily_small_noise.csv file as df_small_noise\n",
    "# options \n",
    "# parse_dates = pandas will attempt to infer the format of the datetime strings in the columns\n",
    "# index_col = Column(s) to use as the row labels of the DataFrame, either given as string name or column index [13]\n",
    "df_small_noise = pd.read_csv(no_anomaly_url, parse_dates=True, index_col=\"timestamp\")"
   ]
  },
  {
   "cell_type": "code",
   "execution_count": 120,
   "metadata": {},
   "outputs": [
    {
     "data": {
      "text/html": [
       "<div>\n",
       "<style scoped>\n",
       "    .dataframe tbody tr th:only-of-type {\n",
       "        vertical-align: middle;\n",
       "    }\n",
       "\n",
       "    .dataframe tbody tr th {\n",
       "        vertical-align: top;\n",
       "    }\n",
       "\n",
       "    .dataframe thead th {\n",
       "        text-align: right;\n",
       "    }\n",
       "</style>\n",
       "<table border=\"1\" class=\"dataframe\">\n",
       "  <thead>\n",
       "    <tr style=\"text-align: right;\">\n",
       "      <th></th>\n",
       "      <th>value</th>\n",
       "    </tr>\n",
       "  </thead>\n",
       "  <tbody>\n",
       "    <tr>\n",
       "      <th>count</th>\n",
       "      <td>4032.000000</td>\n",
       "    </tr>\n",
       "    <tr>\n",
       "      <th>mean</th>\n",
       "      <td>42.438353</td>\n",
       "    </tr>\n",
       "    <tr>\n",
       "      <th>std</th>\n",
       "      <td>28.077122</td>\n",
       "    </tr>\n",
       "    <tr>\n",
       "      <th>min</th>\n",
       "      <td>18.000964</td>\n",
       "    </tr>\n",
       "    <tr>\n",
       "      <th>25%</th>\n",
       "      <td>19.841390</td>\n",
       "    </tr>\n",
       "    <tr>\n",
       "      <th>50%</th>\n",
       "      <td>21.608487</td>\n",
       "    </tr>\n",
       "    <tr>\n",
       "      <th>75%</th>\n",
       "      <td>75.450282</td>\n",
       "    </tr>\n",
       "    <tr>\n",
       "      <th>max</th>\n",
       "      <td>87.976128</td>\n",
       "    </tr>\n",
       "  </tbody>\n",
       "</table>\n",
       "</div>"
      ],
      "text/plain": [
       "             value\n",
       "count  4032.000000\n",
       "mean     42.438353\n",
       "std      28.077122\n",
       "min      18.000964\n",
       "25%      19.841390\n",
       "50%      21.608487\n",
       "75%      75.450282\n",
       "max      87.976128"
      ]
     },
     "execution_count": 120,
     "metadata": {},
     "output_type": "execute_result"
    }
   ],
   "source": [
    "# Data Quality and Preprocessing\n",
    "# Descriptive statistics include those that summarize the central tendency, dispersion and shape of a dataset’s distribution [14]\n",
    "# Check count, min, max, mean and std\n",
    "df_small_noise.describe()"
   ]
  },
  {
   "cell_type": "code",
   "execution_count": 121,
   "metadata": {},
   "outputs": [
    {
     "data": {
      "text/plain": [
       "(4032, 1)"
      ]
     },
     "execution_count": 121,
     "metadata": {},
     "output_type": "execute_result"
    }
   ],
   "source": [
    "# Data Quality and Preprocessing\n",
    "# Check the dimensions\n",
    "df_small_noise.shape"
   ]
  },
  {
   "cell_type": "code",
   "execution_count": 122,
   "metadata": {},
   "outputs": [
    {
     "data": {
      "text/html": [
       "<div>\n",
       "<style scoped>\n",
       "    .dataframe tbody tr th:only-of-type {\n",
       "        vertical-align: middle;\n",
       "    }\n",
       "\n",
       "    .dataframe tbody tr th {\n",
       "        vertical-align: top;\n",
       "    }\n",
       "\n",
       "    .dataframe thead th {\n",
       "        text-align: right;\n",
       "    }\n",
       "</style>\n",
       "<table border=\"1\" class=\"dataframe\">\n",
       "  <thead>\n",
       "    <tr style=\"text-align: right;\">\n",
       "      <th></th>\n",
       "      <th>value</th>\n",
       "    </tr>\n",
       "    <tr>\n",
       "      <th>timestamp</th>\n",
       "      <th></th>\n",
       "    </tr>\n",
       "  </thead>\n",
       "  <tbody>\n",
       "    <tr>\n",
       "      <th>2014-04-01 00:00:00</th>\n",
       "      <td>18.324919</td>\n",
       "    </tr>\n",
       "    <tr>\n",
       "      <th>2014-04-01 00:05:00</th>\n",
       "      <td>21.970327</td>\n",
       "    </tr>\n",
       "    <tr>\n",
       "      <th>2014-04-01 00:10:00</th>\n",
       "      <td>18.624806</td>\n",
       "    </tr>\n",
       "    <tr>\n",
       "      <th>2014-04-01 00:15:00</th>\n",
       "      <td>21.953684</td>\n",
       "    </tr>\n",
       "    <tr>\n",
       "      <th>2014-04-01 00:20:00</th>\n",
       "      <td>21.909120</td>\n",
       "    </tr>\n",
       "  </tbody>\n",
       "</table>\n",
       "</div>"
      ],
      "text/plain": [
       "                         value\n",
       "timestamp                     \n",
       "2014-04-01 00:00:00  18.324919\n",
       "2014-04-01 00:05:00  21.970327\n",
       "2014-04-01 00:10:00  18.624806\n",
       "2014-04-01 00:15:00  21.953684\n",
       "2014-04-01 00:20:00  21.909120"
      ]
     },
     "execution_count": 122,
     "metadata": {},
     "output_type": "execute_result"
    }
   ],
   "source": [
    "# Data Quality and Preprocessing\n",
    "# https://www.w3resource.com/pandas/dataframe/dataframe-head.php \n",
    "# Print the first 5 rows of df_small_noise dataframe.\n",
    "# Compare with full url\n",
    "df_small_noise.head()"
   ]
  },
  {
   "cell_type": "code",
   "execution_count": 123,
   "metadata": {},
   "outputs": [
    {
     "data": {
      "text/plain": [
       "18.3249185392"
      ]
     },
     "execution_count": 123,
     "metadata": {},
     "output_type": "execute_result"
    }
   ],
   "source": [
    "# Data Quality and Preprocessing\n",
    "# Check first value using iloc\n",
    "df_small_noise.iloc[0]['value']"
   ]
  },
  {
   "cell_type": "markdown",
   "metadata": {},
   "source": [
    "### Data Quality and Preprocessing\n",
    "It was noted that the values did not match from github page to pandas dataframe\n",
    "\n",
    "- github:   18.324918539200002\n",
    "- pandas:   18.324919\n",
    "- iloc:     18.3249185392\n",
    "\n",
    "### Noted 5 decimal place removed"
   ]
  },
  {
   "cell_type": "markdown",
   "metadata": {},
   "source": [
    "### Timeseries data with anomalies\n",
    "We will use the following data for testing and see if the sudden jump up in the data is detected as an anomaly."
   ]
  },
  {
   "cell_type": "code",
   "execution_count": 124,
   "metadata": {},
   "outputs": [],
   "source": [
    "# pandas read in art_daily_jumpsup.csv file as df_daily_jumpsup\n",
    "# options \n",
    "## parse_dates = pandas will attempt to infer the format of the datetime strings in the columns\n",
    "## index_col = Column(s) to use as the row labels of the DataFrame, either given as string name or column index [13]\n",
    "df_daily_jumpsup = pd.read_csv(with_anomaly_url, parse_dates=True, index_col=\"timestamp\")"
   ]
  },
  {
   "cell_type": "code",
   "execution_count": 125,
   "metadata": {},
   "outputs": [
    {
     "data": {
      "text/html": [
       "<div>\n",
       "<style scoped>\n",
       "    .dataframe tbody tr th:only-of-type {\n",
       "        vertical-align: middle;\n",
       "    }\n",
       "\n",
       "    .dataframe tbody tr th {\n",
       "        vertical-align: top;\n",
       "    }\n",
       "\n",
       "    .dataframe thead th {\n",
       "        text-align: right;\n",
       "    }\n",
       "</style>\n",
       "<table border=\"1\" class=\"dataframe\">\n",
       "  <thead>\n",
       "    <tr style=\"text-align: right;\">\n",
       "      <th></th>\n",
       "      <th>value</th>\n",
       "    </tr>\n",
       "  </thead>\n",
       "  <tbody>\n",
       "    <tr>\n",
       "      <th>count</th>\n",
       "      <td>4032.000000</td>\n",
       "    </tr>\n",
       "    <tr>\n",
       "      <th>mean</th>\n",
       "      <td>44.494254</td>\n",
       "    </tr>\n",
       "    <tr>\n",
       "      <th>std</th>\n",
       "      <td>32.432473</td>\n",
       "    </tr>\n",
       "    <tr>\n",
       "      <th>min</th>\n",
       "      <td>18.001010</td>\n",
       "    </tr>\n",
       "    <tr>\n",
       "      <th>25%</th>\n",
       "      <td>19.991382</td>\n",
       "    </tr>\n",
       "    <tr>\n",
       "      <th>50%</th>\n",
       "      <td>21.648503</td>\n",
       "    </tr>\n",
       "    <tr>\n",
       "      <th>75%</th>\n",
       "      <td>76.435943</td>\n",
       "    </tr>\n",
       "    <tr>\n",
       "      <th>max</th>\n",
       "      <td>164.947481</td>\n",
       "    </tr>\n",
       "  </tbody>\n",
       "</table>\n",
       "</div>"
      ],
      "text/plain": [
       "             value\n",
       "count  4032.000000\n",
       "mean     44.494254\n",
       "std      32.432473\n",
       "min      18.001010\n",
       "25%      19.991382\n",
       "50%      21.648503\n",
       "75%      76.435943\n",
       "max     164.947481"
      ]
     },
     "execution_count": 125,
     "metadata": {},
     "output_type": "execute_result"
    }
   ],
   "source": [
    "# Data Quality and Preprocessing\n",
    "# Descriptive statistics include those that summarize the central tendency, dispersion and shape of a dataset’s distribution [14]\n",
    "# Check count, min, max, mean and std\n",
    "df_daily_jumpsup.describe()"
   ]
  },
  {
   "cell_type": "code",
   "execution_count": 126,
   "metadata": {},
   "outputs": [
    {
     "data": {
      "text/plain": [
       "(4032, 1)"
      ]
     },
     "execution_count": 126,
     "metadata": {},
     "output_type": "execute_result"
    }
   ],
   "source": [
    "# Data Quality and Preprocessing\n",
    "# Check the dimensions\n",
    "df_daily_jumpsup.shape"
   ]
  },
  {
   "cell_type": "code",
   "execution_count": 127,
   "metadata": {},
   "outputs": [
    {
     "data": {
      "text/html": [
       "<div>\n",
       "<style scoped>\n",
       "    .dataframe tbody tr th:only-of-type {\n",
       "        vertical-align: middle;\n",
       "    }\n",
       "\n",
       "    .dataframe tbody tr th {\n",
       "        vertical-align: top;\n",
       "    }\n",
       "\n",
       "    .dataframe thead th {\n",
       "        text-align: right;\n",
       "    }\n",
       "</style>\n",
       "<table border=\"1\" class=\"dataframe\">\n",
       "  <thead>\n",
       "    <tr style=\"text-align: right;\">\n",
       "      <th></th>\n",
       "      <th>value</th>\n",
       "    </tr>\n",
       "    <tr>\n",
       "      <th>timestamp</th>\n",
       "      <th></th>\n",
       "    </tr>\n",
       "  </thead>\n",
       "  <tbody>\n",
       "    <tr>\n",
       "      <th>2014-04-01 00:00:00</th>\n",
       "      <td>19.761252</td>\n",
       "    </tr>\n",
       "    <tr>\n",
       "      <th>2014-04-01 00:05:00</th>\n",
       "      <td>20.500833</td>\n",
       "    </tr>\n",
       "    <tr>\n",
       "      <th>2014-04-01 00:10:00</th>\n",
       "      <td>19.961641</td>\n",
       "    </tr>\n",
       "    <tr>\n",
       "      <th>2014-04-01 00:15:00</th>\n",
       "      <td>21.490266</td>\n",
       "    </tr>\n",
       "    <tr>\n",
       "      <th>2014-04-01 00:20:00</th>\n",
       "      <td>20.187739</td>\n",
       "    </tr>\n",
       "  </tbody>\n",
       "</table>\n",
       "</div>"
      ],
      "text/plain": [
       "                         value\n",
       "timestamp                     \n",
       "2014-04-01 00:00:00  19.761252\n",
       "2014-04-01 00:05:00  20.500833\n",
       "2014-04-01 00:10:00  19.961641\n",
       "2014-04-01 00:15:00  21.490266\n",
       "2014-04-01 00:20:00  20.187739"
      ]
     },
     "execution_count": 127,
     "metadata": {},
     "output_type": "execute_result"
    }
   ],
   "source": [
    "# Data Quality and Preprocessing\n",
    "# https://www.w3resource.com/pandas/dataframe/dataframe-head.php \n",
    "# Print the first 5 rows of df_small_noise dataframe.\n",
    "# Compare with full url\n",
    "df_daily_jumpsup.head()"
   ]
  },
  {
   "cell_type": "code",
   "execution_count": 128,
   "metadata": {},
   "outputs": [
    {
     "data": {
      "text/plain": [
       "19.761251903"
      ]
     },
     "execution_count": 128,
     "metadata": {},
     "output_type": "execute_result"
    }
   ],
   "source": [
    "# Data Quality and Preprocessing\n",
    "# Check first value using iloc\n",
    "df_daily_jumpsup.iloc[0]['value']"
   ]
  },
  {
   "cell_type": "markdown",
   "metadata": {},
   "source": [
    "### Data Quality and Preprocessing\n",
    "It was noted that the values did not match from github page to pandas dataframe\n",
    "\n",
    "- github:   19.761251902999998\n",
    "- pandas:   19.761252\n",
    "- iloc:     19.761251903\n",
    "\n",
    "### Noted 5 decimal place removed, rounded up to 3\n",
    "\n",
    "### Note: Data Visualization for Machine Learning Models\n",
    "\n",
    "Data visualization is an integral part of any data science project. Understanding insights using excel spreadsheets or files becomes more difficult when the size of the dataset increases. It’s certainly not fun to scroll up/down to do an analysis. Let’s understand visualization and its importance in machine learning modeling [26]\n",
    "\n",
    "- Understanding the data: Data visualization can help you to understand the relationships between different variables in the dataset, which can be useful for deciding which variables to include in the model and how to pre-process the data.\n",
    "- Detecting patterns: Data visualization can help you to detect patterns or trends in the data, which can inform your decisions about which modeling techniques to use.\n",
    "- Identifying outliers: Data visualization can also help you to identify outliers in the data, which can be useful for deciding whether to remove the outliers or to transform the data to make the outliers less influential.\n",
    "- Visualizing relationships.\n",
    "\n",
    "### Plot Timeseries data without anomalies"
   ]
  },
  {
   "cell_type": "code",
   "execution_count": 129,
   "metadata": {},
   "outputs": [
    {
     "data": {
      "image/png": "[encoded data removed]",
      "text/plain": [
       "<Figure size 1000x400 with 1 Axes>"
      ]
     },
     "metadata": {},
     "output_type": "display_data"
    }
   ],
   "source": [
    "# Data visualization\n",
    "# Plot df_small_noise dataset timeline\n",
    "fig, ax = plt.subplots(figsize=(10,4))\n",
    "\n",
    "# Use pandas to plot data frame.\n",
    "df_small_noise.plot(legend=False, ax=ax);"
   ]
  },
  {
   "cell_type": "markdown",
   "metadata": {},
   "source": [
    "### Plot Timeseries data with anomalies"
   ]
  },
  {
   "cell_type": "code",
   "execution_count": 130,
   "metadata": {},
   "outputs": [
    {
     "data": {
      "image/png": "[encoded data removed]",
      "text/plain": [
       "<Figure size 1000x400 with 1 Axes>"
      ]
     },
     "metadata": {},
     "output_type": "display_data"
    }
   ],
   "source": [
    "# Plot df_small_noise dataset timeline\n",
    "fig, ax = plt.subplots(figsize=(10,4))\n",
    "\n",
    "# Use pandas to plot data frame.\n",
    "df_daily_jumpsup.plot(legend=False, ax=ax);"
   ]
  },
  {
   "cell_type": "code",
   "execution_count": 131,
   "metadata": {},
   "outputs": [
    {
     "data": {
      "text/plain": [
       "True"
      ]
     },
     "execution_count": 131,
     "metadata": {},
     "output_type": "execute_result"
    }
   ],
   "source": [
    "# Compare the shape of the datasets\n",
    "df_small_noise.shape == df_daily_jumpsup.shape"
   ]
  },
  {
   "cell_type": "markdown",
   "metadata": {},
   "source": [
    "### Overlay the plots\n",
    "\n",
    "After reading the data in the shape of the data seems consistant. The two time-series datasets that are plotted on the same graph and you notice that the data is nearly synchronized in the peaks and troughs, but there is a sudden jump in one of the datasets around a specific time."
   ]
  },
  {
   "cell_type": "code",
   "execution_count": 132,
   "metadata": {},
   "outputs": [
    {
     "data": {
      "image/png": "[encoded data removed]",
      "text/plain": [
       "<Figure size 1000x400 with 1 Axes>"
      ]
     },
     "metadata": {},
     "output_type": "display_data"
    }
   ],
   "source": [
    "# Compare pandas data fraame and plot [15]\n",
    "df3 = df_small_noise.compare(df_daily_jumpsup)\n",
    "\n",
    "# Plot df_small_noise dataset timeline\n",
    "fig, ax = plt.subplots(figsize=(10,4))\n",
    "\n",
    "# Use pandas to plot data frame.\n",
    "df3.plot(legend=False, ax=ax);"
   ]
  },
  {
   "cell_type": "markdown",
   "metadata": {},
   "source": [
    "### Seaborn pairplot\n",
    "\n",
    "Both dataframes are merged, and 3 extra columns are using the timestamp data:\n",
    "- date\n",
    "- hour\n",
    "- minute"
   ]
  },
  {
   "cell_type": "code",
   "execution_count": 133,
   "metadata": {},
   "outputs": [
    {
     "data": {
      "text/html": [
       "<div>\n",
       "<style scoped>\n",
       "    .dataframe tbody tr th:only-of-type {\n",
       "        vertical-align: middle;\n",
       "    }\n",
       "\n",
       "    .dataframe tbody tr th {\n",
       "        vertical-align: top;\n",
       "    }\n",
       "\n",
       "    .dataframe thead th {\n",
       "        text-align: right;\n",
       "    }\n",
       "</style>\n",
       "<table border=\"1\" class=\"dataframe\">\n",
       "  <thead>\n",
       "    <tr style=\"text-align: right;\">\n",
       "      <th></th>\n",
       "      <th>value_x</th>\n",
       "      <th>value_y</th>\n",
       "      <th>datetime</th>\n",
       "      <th>date</th>\n",
       "      <th>hour</th>\n",
       "      <th>min</th>\n",
       "    </tr>\n",
       "    <tr>\n",
       "      <th>timestamp</th>\n",
       "      <th></th>\n",
       "      <th></th>\n",
       "      <th></th>\n",
       "      <th></th>\n",
       "      <th></th>\n",
       "      <th></th>\n",
       "    </tr>\n",
       "  </thead>\n",
       "  <tbody>\n",
       "    <tr>\n",
       "      <th>2014-04-01 00:00:00</th>\n",
       "      <td>18.324919</td>\n",
       "      <td>19.761252</td>\n",
       "      <td>2014-04-01 00:00:00</td>\n",
       "      <td>2014-04-01</td>\n",
       "      <td>0</td>\n",
       "      <td>0</td>\n",
       "    </tr>\n",
       "    <tr>\n",
       "      <th>2014-04-01 00:05:00</th>\n",
       "      <td>21.970327</td>\n",
       "      <td>20.500833</td>\n",
       "      <td>2014-04-01 00:05:00</td>\n",
       "      <td>2014-04-01</td>\n",
       "      <td>0</td>\n",
       "      <td>5</td>\n",
       "    </tr>\n",
       "    <tr>\n",
       "      <th>2014-04-01 00:10:00</th>\n",
       "      <td>18.624806</td>\n",
       "      <td>19.961641</td>\n",
       "      <td>2014-04-01 00:10:00</td>\n",
       "      <td>2014-04-01</td>\n",
       "      <td>0</td>\n",
       "      <td>10</td>\n",
       "    </tr>\n",
       "    <tr>\n",
       "      <th>2014-04-01 00:15:00</th>\n",
       "      <td>21.953684</td>\n",
       "      <td>21.490266</td>\n",
       "      <td>2014-04-01 00:15:00</td>\n",
       "      <td>2014-04-01</td>\n",
       "      <td>0</td>\n",
       "      <td>15</td>\n",
       "    </tr>\n",
       "    <tr>\n",
       "      <th>2014-04-01 00:20:00</th>\n",
       "      <td>21.909120</td>\n",
       "      <td>20.187739</td>\n",
       "      <td>2014-04-01 00:20:00</td>\n",
       "      <td>2014-04-01</td>\n",
       "      <td>0</td>\n",
       "      <td>20</td>\n",
       "    </tr>\n",
       "  </tbody>\n",
       "</table>\n",
       "</div>"
      ],
      "text/plain": [
       "                       value_x    value_y            datetime        date  \\\n",
       "timestamp                                                                   \n",
       "2014-04-01 00:00:00  18.324919  19.761252 2014-04-01 00:00:00  2014-04-01   \n",
       "2014-04-01 00:05:00  21.970327  20.500833 2014-04-01 00:05:00  2014-04-01   \n",
       "2014-04-01 00:10:00  18.624806  19.961641 2014-04-01 00:10:00  2014-04-01   \n",
       "2014-04-01 00:15:00  21.953684  21.490266 2014-04-01 00:15:00  2014-04-01   \n",
       "2014-04-01 00:20:00  21.909120  20.187739 2014-04-01 00:20:00  2014-04-01   \n",
       "\n",
       "                     hour  min  \n",
       "timestamp                       \n",
       "2014-04-01 00:00:00     0    0  \n",
       "2014-04-01 00:05:00     0    5  \n",
       "2014-04-01 00:10:00     0   10  \n",
       "2014-04-01 00:15:00     0   15  \n",
       "2014-04-01 00:20:00     0   20  "
      ]
     },
     "execution_count": 133,
     "metadata": {},
     "output_type": "execute_result"
    }
   ],
   "source": [
    "# Merge the two data frames\n",
    "df3 = pd.merge(df_small_noise, df_daily_jumpsup, left_index=True, right_index=True)\n",
    "\n",
    "# Create new column with the date, hour and minute\n",
    "df3[\"datetime\"] = df3.index\n",
    "df3[\"date\"] = df3[\"datetime\"].dt.date \n",
    "df3[\"hour\"] = df3[\"datetime\"].dt.hour\n",
    "df3[\"min\"] = df3[\"datetime\"].dt.minute\n",
    "\n",
    "df3.head()"
   ]
  },
  {
   "cell_type": "markdown",
   "metadata": {},
   "source": [
    "Seaborn pairplot is a type of visualization that plots pairwise relationships in a dataset.  \n",
    "\n",
    "The **date** patterns produced the most significant result"
   ]
  },
  {
   "cell_type": "code",
   "execution_count": 134,
   "metadata": {},
   "outputs": [
    {
     "data": {
      "text/plain": [
       "<seaborn.axisgrid.PairGrid at 0x19755df4a30>"
      ]
     },
     "execution_count": 134,
     "metadata": {},
     "output_type": "execute_result"
    },
    {
     "data": {
      "image/png": "[encoded data removed]",
      "text/plain": [
       "<Figure size 630.75x500 with 6 Axes>"
      ]
     },
     "metadata": {},
     "output_type": "display_data"
    }
   ],
   "source": [
    "# https://seaborn.pydata.org/generated/seaborn.pairplot.html\n",
    "# plot [25]\n",
    "sns.pairplot(df3,\n",
    "             vars= ['value_x','value_y'],\n",
    "             hue = \"date\")\n",
    "\n",
    "# sns.pairplot(df3,\n",
    "#              vars= ['value_x','value_y'],\n",
    "#              hue = \"hour\")\n",
    "\n",
    "# sns.pairplot(df3,\n",
    "#              vars= ['value_x','value_y'],\n",
    "#              hue = \"min\")"
   ]
  },
  {
   "cell_type": "markdown",
   "metadata": {},
   "source": [
    "## 2.4 Prepare training data\n",
    "\n",
    "Normalizing or standardizing the training data is a common preprocessing step in machine learning that can help improve the performance of many algorithms. Normalization is typically performed by subtracting the mean of the training data from each value and then dividing the result by the standard deviation of the training data. \n",
    "\n",
    "### When To Normalize Data?\n",
    "\n",
    "Normalization of data is a type of feature scaling and is only required when the data distribution is unknown or the data doesn't have Gaussian Distribution\n",
    "\n",
    "## When To Standardize Data?\n",
    "\n",
    "Standardized data is usually preferred when the data is being used for multivariate analysis i.e. when we want all the variables of comparable units. It is usually applied when the data has a bell curve i.e. it has gaussian distribution \n",
    "\n",
    "## Normalized Data Vs Standardized Data\n",
    "\n",
    "- Normalization is used when the data doesn't have Gaussian distribution whereas Standardization is used on data having Gaussian distribution.\n",
    "- Normalization scales in a range circa [0,1] or [-1,1]. Standardization is not bounded by range.\n",
    "- Normalization is highly affected by outliers. Standardization is slightly affected by outliers.\n",
    "- Normalization is considered when the algorithms do not make assumptions about the data distribution. Standardization is used when algorithms make assumptions about the data distribution. [16] [17]\n",
    "\n",
    "![NormalizedVsStandardized](https://raw.githubusercontent.com/DPR-droid/2022_09_Machine_Learning_and_Statistics/main/data/Normalization_Standardization.png?raw=true)\n",
    "\n",
    "### Normalized Data [Numenta Anomaly Benchmark(NAB) github](https://github.com/numenta/NAB) timeseries dataset"
   ]
  },
  {
   "cell_type": "code",
   "execution_count": 135,
   "metadata": {},
   "outputs": [
    {
     "data": {
      "text/plain": [
       "value    42.438353\n",
       "dtype: float64"
      ]
     },
     "execution_count": 135,
     "metadata": {},
     "output_type": "execute_result"
    }
   ],
   "source": [
    "# df_small_noise mean\n",
    "train_mean = df_small_noise.mean()\n",
    "train_mean"
   ]
  },
  {
   "cell_type": "code",
   "execution_count": 136,
   "metadata": {},
   "outputs": [
    {
     "data": {
      "text/plain": [
       "value    28.077122\n",
       "dtype: float64"
      ]
     },
     "execution_count": 136,
     "metadata": {},
     "output_type": "execute_result"
    }
   ],
   "source": [
    "# df_small_noise standard deviation\n",
    "train_std = df_small_noise.std()\n",
    "train_std"
   ]
  },
  {
   "cell_type": "code",
   "execution_count": 137,
   "metadata": {},
   "outputs": [],
   "source": [
    "# Normalize df_train_vals\n",
    "df_train_vals = (df_small_noise - train_mean) / train_std\n"
   ]
  },
  {
   "cell_type": "markdown",
   "metadata": {},
   "source": [
    "To illustrate the intended output two new columns are added to the df_small_noise"
   ]
  },
  {
   "cell_type": "code",
   "execution_count": 138,
   "metadata": {},
   "outputs": [
    {
     "data": {
      "text/html": [
       "<div>\n",
       "<style scoped>\n",
       "    .dataframe tbody tr th:only-of-type {\n",
       "        vertical-align: middle;\n",
       "    }\n",
       "\n",
       "    .dataframe tbody tr th {\n",
       "        vertical-align: top;\n",
       "    }\n",
       "\n",
       "    .dataframe thead th {\n",
       "        text-align: right;\n",
       "    }\n",
       "</style>\n",
       "<table border=\"1\" class=\"dataframe\">\n",
       "  <thead>\n",
       "    <tr style=\"text-align: right;\">\n",
       "      <th></th>\n",
       "      <th>value</th>\n",
       "      <th>less_mean</th>\n",
       "      <th>div_std</th>\n",
       "    </tr>\n",
       "    <tr>\n",
       "      <th>timestamp</th>\n",
       "      <th></th>\n",
       "      <th></th>\n",
       "      <th></th>\n",
       "    </tr>\n",
       "  </thead>\n",
       "  <tbody>\n",
       "    <tr>\n",
       "      <th>2014-04-01 00:00:00</th>\n",
       "      <td>18.324919</td>\n",
       "      <td>-24.113435</td>\n",
       "      <td>-0.858829</td>\n",
       "    </tr>\n",
       "    <tr>\n",
       "      <th>2014-04-01 00:05:00</th>\n",
       "      <td>21.970327</td>\n",
       "      <td>-20.468026</td>\n",
       "      <td>-0.728993</td>\n",
       "    </tr>\n",
       "    <tr>\n",
       "      <th>2014-04-01 00:10:00</th>\n",
       "      <td>18.624806</td>\n",
       "      <td>-23.813547</td>\n",
       "      <td>-0.848148</td>\n",
       "    </tr>\n",
       "    <tr>\n",
       "      <th>2014-04-01 00:15:00</th>\n",
       "      <td>21.953684</td>\n",
       "      <td>-20.484669</td>\n",
       "      <td>-0.729586</td>\n",
       "    </tr>\n",
       "    <tr>\n",
       "      <th>2014-04-01 00:20:00</th>\n",
       "      <td>21.909120</td>\n",
       "      <td>-20.529234</td>\n",
       "      <td>-0.731173</td>\n",
       "    </tr>\n",
       "  </tbody>\n",
       "</table>\n",
       "</div>"
      ],
      "text/plain": [
       "                         value  less_mean   div_std\n",
       "timestamp                                          \n",
       "2014-04-01 00:00:00  18.324919 -24.113435 -0.858829\n",
       "2014-04-01 00:05:00  21.970327 -20.468026 -0.728993\n",
       "2014-04-01 00:10:00  18.624806 -23.813547 -0.848148\n",
       "2014-04-01 00:15:00  21.953684 -20.484669 -0.729586\n",
       "2014-04-01 00:20:00  21.909120 -20.529234 -0.731173"
      ]
     },
     "execution_count": 138,
     "metadata": {},
     "output_type": "execute_result"
    }
   ],
   "source": [
    "df_small_noise['less_mean'] = df_small_noise['value'] - df_small_noise['value'].mean()\n",
    "df_small_noise['div_std'] = df_small_noise['less_mean'] / df_small_noise['value'].std()\n",
    "\n",
    "# Data Quality and Preprocessing\n",
    "# https://www.w3resource.com/pandas/dataframe/dataframe-head.php \n",
    "# Print the first 5 rows\n",
    "df_small_noise.head()"
   ]
  },
  {
   "cell_type": "markdown",
   "metadata": {},
   "source": [
    "### Timeseries data without anomalies normalized\n",
    "\n",
    "We will repeat the step above showing how the data is normalized into training data\n",
    "\n",
    "The new normalized data will keep the timestamp and the 'div_std' is the value \n",
    "\n",
    "![Normalization_Timeseries_data_without_anomalies](https://raw.githubusercontent.com/DPR-droid/2022_09_Machine_Learning_and_Statistics/main/data/Normalization_Timeseries_data_without_anomalies.png?raw=true)\n"
   ]
  },
  {
   "cell_type": "code",
   "execution_count": 139,
   "metadata": {},
   "outputs": [
    {
     "data": {
      "text/html": [
       "<div>\n",
       "<style scoped>\n",
       "    .dataframe tbody tr th:only-of-type {\n",
       "        vertical-align: middle;\n",
       "    }\n",
       "\n",
       "    .dataframe tbody tr th {\n",
       "        vertical-align: top;\n",
       "    }\n",
       "\n",
       "    .dataframe thead th {\n",
       "        text-align: right;\n",
       "    }\n",
       "</style>\n",
       "<table border=\"1\" class=\"dataframe\">\n",
       "  <thead>\n",
       "    <tr style=\"text-align: right;\">\n",
       "      <th></th>\n",
       "      <th>value</th>\n",
       "    </tr>\n",
       "    <tr>\n",
       "      <th>timestamp</th>\n",
       "      <th></th>\n",
       "    </tr>\n",
       "  </thead>\n",
       "  <tbody>\n",
       "    <tr>\n",
       "      <th>2014-04-01 00:00:00</th>\n",
       "      <td>-0.858829</td>\n",
       "    </tr>\n",
       "    <tr>\n",
       "      <th>2014-04-01 00:05:00</th>\n",
       "      <td>-0.728993</td>\n",
       "    </tr>\n",
       "    <tr>\n",
       "      <th>2014-04-01 00:10:00</th>\n",
       "      <td>-0.848148</td>\n",
       "    </tr>\n",
       "    <tr>\n",
       "      <th>2014-04-01 00:15:00</th>\n",
       "      <td>-0.729586</td>\n",
       "    </tr>\n",
       "    <tr>\n",
       "      <th>2014-04-01 00:20:00</th>\n",
       "      <td>-0.731173</td>\n",
       "    </tr>\n",
       "  </tbody>\n",
       "</table>\n",
       "</div>"
      ],
      "text/plain": [
       "                        value\n",
       "timestamp                    \n",
       "2014-04-01 00:00:00 -0.858829\n",
       "2014-04-01 00:05:00 -0.728993\n",
       "2014-04-01 00:10:00 -0.848148\n",
       "2014-04-01 00:15:00 -0.729586\n",
       "2014-04-01 00:20:00 -0.731173"
      ]
     },
     "execution_count": 139,
     "metadata": {},
     "output_type": "execute_result"
    }
   ],
   "source": [
    "# Data Quality and Preprocessing\n",
    "# https://www.w3resource.com/pandas/dataframe/dataframe-head.php \n",
    "# Print the first 5 rows\n",
    "df_train_vals.head()\n"
   ]
  },
  {
   "cell_type": "code",
   "execution_count": 140,
   "metadata": {},
   "outputs": [
    {
     "data": {
      "text/html": [
       "<div>\n",
       "<style scoped>\n",
       "    .dataframe tbody tr th:only-of-type {\n",
       "        vertical-align: middle;\n",
       "    }\n",
       "\n",
       "    .dataframe tbody tr th {\n",
       "        vertical-align: top;\n",
       "    }\n",
       "\n",
       "    .dataframe thead th {\n",
       "        text-align: right;\n",
       "    }\n",
       "</style>\n",
       "<table border=\"1\" class=\"dataframe\">\n",
       "  <thead>\n",
       "    <tr style=\"text-align: right;\">\n",
       "      <th></th>\n",
       "      <th>value</th>\n",
       "    </tr>\n",
       "  </thead>\n",
       "  <tbody>\n",
       "    <tr>\n",
       "      <th>count</th>\n",
       "      <td>4032</td>\n",
       "    </tr>\n",
       "    <tr>\n",
       "      <th>mean</th>\n",
       "      <td>-2.61654e-15</td>\n",
       "    </tr>\n",
       "    <tr>\n",
       "      <th>std</th>\n",
       "      <td>1</td>\n",
       "    </tr>\n",
       "    <tr>\n",
       "      <th>min</th>\n",
       "      <td>-0.870367</td>\n",
       "    </tr>\n",
       "    <tr>\n",
       "      <th>25%</th>\n",
       "      <td>-0.804818</td>\n",
       "    </tr>\n",
       "    <tr>\n",
       "      <th>50%</th>\n",
       "      <td>-0.74188</td>\n",
       "    </tr>\n",
       "    <tr>\n",
       "      <th>75%</th>\n",
       "      <td>1.17576</td>\n",
       "    </tr>\n",
       "    <tr>\n",
       "      <th>max</th>\n",
       "      <td>1.62188</td>\n",
       "    </tr>\n",
       "  </tbody>\n",
       "</table>\n",
       "</div>"
      ],
      "text/plain": [
       "              value\n",
       "count          4032\n",
       "mean   -2.61654e-15\n",
       "std               1\n",
       "min       -0.870367\n",
       "25%       -0.804818\n",
       "50%        -0.74188\n",
       "75%         1.17576\n",
       "max         1.62188"
      ]
     },
     "execution_count": 140,
     "metadata": {},
     "output_type": "execute_result"
    }
   ],
   "source": [
    "# Data Quality and Preprocessing\n",
    "# Descriptive statistics include those that summarize the central tendency, dispersion and shape of a dataset’s distribution [14]\n",
    "# Check count, min, max, mean and std\n",
    "# https://stackoverflow.com/questions/40347689/dataframe-describe-suppress-scientific-notation\n",
    "df_train_vals.describe().apply(lambda s: s.apply(lambda x: format(x, 'g')))"
   ]
  },
  {
   "cell_type": "markdown",
   "metadata": {},
   "source": [
    "### Plot normalized Timeseries data without anomalies"
   ]
  },
  {
   "cell_type": "code",
   "execution_count": 141,
   "metadata": {},
   "outputs": [
    {
     "data": {
      "image/png": "[encoded data removed]",
      "text/plain": [
       "<Figure size 1000x400 with 1 Axes>"
      ]
     },
     "metadata": {},
     "output_type": "display_data"
    }
   ],
   "source": [
    "# Plot df_small_noise dataset timeline\n",
    "fig, ax = plt.subplots(figsize=(10,4))\n",
    "\n",
    "# Use pandas to plot data frame.\n",
    "df_train_vals.plot(legend=False, ax=ax);"
   ]
  },
  {
   "cell_type": "markdown",
   "metadata": {},
   "source": [
    "Normalization scaled the data in a range circa [-0.87,1.62]. \n",
    "\n",
    "Normalization the dataset helped to reduce the scale of the training data. This can be particularly important when working with data that has a large dynamic range, as it can help to ensure that the model is not overly influenced by extreme values in the training data."
   ]
  },
  {
   "cell_type": "markdown",
   "metadata": {},
   "source": [
    "## 2.5 Create sequences\n",
    "\n",
    "We now have to create a sequence by dividing the training data into chunks of a specific size and using these chunks **(window size)** as input to a machine learning model.\n",
    "\n",
    "For example, suppose you have a time-series dataset with the following values:\n",
    "\n",
    "            [1, 2, 3, 4, 5, 6, 7, 8, 9, 10]\n",
    "\n",
    "If you want to create sequences of three contiguous data values from this dataset, you could divide the data into the following chunks:\n",
    "\n",
    "            [1, 2, 3]   \n",
    "            [2, 3, 4]    \n",
    "            [3, 4, 5]   \n",
    "            [4, 5, 6]   \n",
    "            [5, 6, 7]   \n",
    "            [6, 7, 8]   \n",
    "            [7, 8, 9]   \n",
    "            [8, 9, 10]  \n",
    "\n",
    "The following is an example of how to create a sequence by dividing the training data into chunks of a specific size"
   ]
  },
  {
   "cell_type": "code",
   "execution_count": 142,
   "metadata": {},
   "outputs": [
    {
     "data": {
      "text/plain": [
       "12"
      ]
     },
     "execution_count": 142,
     "metadata": {},
     "output_type": "execute_result"
    }
   ],
   "source": [
    "# Window list training data values\n",
    "my_list = [1, 1, 2, 4, 5, 6, 7, 1, 2, 3, 4, 5]\n",
    "# Example chunks **(window size)**\n",
    "win_size = 3\n",
    "# Length of L training data values\n",
    "len(my_list)"
   ]
  },
  {
   "cell_type": "code",
   "execution_count": 143,
   "metadata": {},
   "outputs": [
    {
     "data": {
      "text/plain": [
       "10"
      ]
     },
     "execution_count": 143,
     "metadata": {},
     "output_type": "execute_result"
    }
   ],
   "source": [
    "# Number of windows from L.\n",
    "# how many chunks **(window size)** will be produced\n",
    "len(my_list) - win_size + 1"
   ]
  },
  {
   "cell_type": "code",
   "execution_count": 144,
   "metadata": {},
   "outputs": [
    {
     "data": {
      "text/plain": [
       "[[1, 1, 2],\n",
       " [1, 2, 4],\n",
       " [2, 4, 5],\n",
       " [4, 5, 6],\n",
       " [5, 6, 7],\n",
       " [6, 7, 1],\n",
       " [7, 1, 2],\n",
       " [1, 2, 3],\n",
       " [2, 3, 4],\n",
       " [3, 4, 5]]"
      ]
     },
     "execution_count": 144,
     "metadata": {},
     "output_type": "execute_result"
    }
   ],
   "source": [
    "# For accumulating the windows.\n",
    "wins = []\n",
    "\n",
    "# Generate the windows\n",
    "for i in range(len(my_list) - win_size + 1):\n",
    "    wins.append(my_list[i:i + win_size])\n",
    "\n",
    "wins"
   ]
  },
  {
   "cell_type": "code",
   "execution_count": 145,
   "metadata": {},
   "outputs": [
    {
     "data": {
      "text/plain": [
       "array([[1, 1, 2],\n",
       "       [1, 2, 4],\n",
       "       [2, 4, 5],\n",
       "       [4, 5, 6],\n",
       "       [5, 6, 7],\n",
       "       [6, 7, 1],\n",
       "       [7, 1, 2],\n",
       "       [1, 2, 3],\n",
       "       [2, 3, 4],\n",
       "       [3, 4, 5]])"
      ]
     },
     "execution_count": 145,
     "metadata": {},
     "output_type": "execute_result"
    }
   ],
   "source": [
    "# Create a 2D numpy array from wins.\n",
    "np.stack(wins)"
   ]
  },
  {
   "cell_type": "markdown",
   "metadata": {},
   "source": [
    "## Why choose 288 as the Windows size?\n",
    "\n",
    "![Time-Steps-288](https://raw.githubusercontent.com/DPR-droid/2022_09_Machine_Learning_and_Statistics/main/data/Time-Steps-288.png?raw=true)\n",
    "\n",
    "As can be seen from the df_train_vals.head() values are collected every 5 minutes over a 14 day period. **288 represents a single day**\n",
    "\n",
    "-  24 * 60 / 5 = **288 timesteps per day** [1]\n",
    "-  288 * 14 = **4032 data points** in total [1]"
   ]
  },
  {
   "cell_type": "code",
   "execution_count": 146,
   "metadata": {},
   "outputs": [],
   "source": [
    "# Creating the windows size\n",
    "window_size = 288"
   ]
  },
  {
   "cell_type": "markdown",
   "metadata": {},
   "source": [
    "### Create sequences on df_train_vals\n",
    "\n",
    "This section a function is used to create sequences on df_train_vals."
   ]
  },
  {
   "cell_type": "code",
   "execution_count": 147,
   "metadata": {},
   "outputs": [],
   "source": [
    "# Generated training sequences for use in the model. [4]\n",
    "def windows(vals, N=window_size):\n",
    "  # Create an empty List L\n",
    "  L = []\n",
    "  # Loop Through the list\n",
    "  for i in range(len(vals) - N + 1):\n",
    "    # Append to the L\n",
    "    L.append(vals[i:i+N])\n",
    "  # Return numpy stack\n",
    "  return np.stack(L)\n"
   ]
  },
  {
   "cell_type": "code",
   "execution_count": 148,
   "metadata": {},
   "outputs": [],
   "source": [
    "# Call function create sequences on df_train_vals and set to x_train\n",
    "x_train = windows(df_train_vals)"
   ]
  },
  {
   "cell_type": "code",
   "execution_count": 149,
   "metadata": {},
   "outputs": [
    {
     "data": {
      "text/plain": [
       "(array([-0.85882857]), array([-0.72899302]), array([-0.84814772]))"
      ]
     },
     "execution_count": 149,
     "metadata": {},
     "output_type": "execute_result"
    }
   ],
   "source": [
    "# Data Quality and Preprocessing\n",
    "# To verify create sequences\n",
    "# Print out the first three values in thr training set\n",
    "x_train[0][0], x_train[1][0], x_train[2][0]"
   ]
  },
  {
   "cell_type": "code",
   "execution_count": 150,
   "metadata": {},
   "outputs": [
    {
     "data": {
      "text/plain": [
       "(-0.8588285706437563, -0.728993019611064, -0.8481477220334223)"
      ]
     },
     "execution_count": 150,
     "metadata": {},
     "output_type": "execute_result"
    }
   ],
   "source": [
    "# Data Quality and Preprocessing\n",
    "# Print the first three values in df_train_vals\n",
    "df_train_vals.iloc[0]['value'], df_train_vals.iloc[1]['value'], df_train_vals.iloc[2]['value']"
   ]
  },
  {
   "cell_type": "code",
   "execution_count": 151,
   "metadata": {},
   "outputs": [
    {
     "data": {
      "text/plain": [
       "(3745, 288, 1)"
      ]
     },
     "execution_count": 151,
     "metadata": {},
     "output_type": "execute_result"
    }
   ],
   "source": [
    "# Data Quality and Preprocessing\n",
    "# Check the dimensions\n",
    "x_train.shape"
   ]
  },
  {
   "cell_type": "markdown",
   "metadata": {},
   "source": [
    "## Build a model\n",
    "\n",
    "We will build a convolutional reconstruction autoencoder model. The model will take input of shape `(batch_size, sequence_length, num_features)` and return output of the same shape. In this case, `sequence_length` is 288 and `num_features` is 1."
   ]
  },
  {
   "cell_type": "code",
   "execution_count": 152,
   "metadata": {},
   "outputs": [
    {
     "data": {
      "text/plain": [
       "(3745, 288, 1)"
      ]
     },
     "execution_count": 152,
     "metadata": {},
     "output_type": "execute_result"
    }
   ],
   "source": [
    "# Input of shape `(batch_size, sequence_length, num_features)'\n",
    "# (3745, 288, 1)\n",
    "x_train.shape"
   ]
  },
  {
   "cell_type": "markdown",
   "metadata": {},
   "source": [
    "## 2.6 Create the Model\n",
    "\n",
    "### keras.Sequential\n",
    "\n",
    "Keras Sequential API is a simple way to create a model layer by layer for many machine learning problems. The Sequential API allows you to create a model by adding layers to it in a sequential manner, starting with the input layer and ending with the output layer. [22]\n",
    "\n",
    "\n",
    "### Basics of Keras Layers\n",
    "\n",
    "Keras Layers are the functional building blocks of Keras Models. Each layer is created using numerous layer_() functions. These layers are fed with input information, they process this information, do some computation and hence produce the output.\n",
    "\n",
    "Further, this output of one layer is fed to another layer as its input. [19]\n",
    "\n",
    "![input-layer](https://raw.githubusercontent.com/DPR-droid/2022_09_Machine_Learning_and_Statistics/main/data/input-layer.png?raw=true)\n",
    "\n",
    "### keras.layers.Input\n",
    "\n",
    "Input layer specifies the sequence length (288) and features (1) of the input data that the model will receive. Keras input layer itself is not a layer, but rather a tensor that represents the input data. The input layer is the starting point of the model, and it is followed by one or more hidden layers, which perform computations on the input data and produce an output.\n",
    "\n",
    "As we are using 1D convolutions and recurrent layers typically use a tensor with shape (batch_size, sequence_length, features) as input. This tensor represents a batch of data, where each element in the batch is a sequence of length sequence_length with features dimensions. [20] [21] \n",
    "\n",
    "We can specify the dimensional information using shape, a tuple of integers. For example, (4,2) represent matrix with four rows and two columns. [23]"
   ]
  },
  {
   "cell_type": "code",
   "execution_count": 153,
   "metadata": {},
   "outputs": [
    {
     "data": {
      "text/plain": [
       "array([[0., 0.],\n",
       "       [0., 0.],\n",
       "       [0., 0.],\n",
       "       [0., 0.]])"
      ]
     },
     "execution_count": 153,
     "metadata": {},
     "output_type": "execute_result"
    }
   ],
   "source": [
    "# (4,2) represent matrix [23]\n",
    "shape = (4, 2)\n",
    "input = np.zeros(shape) \n",
    "input"
   ]
  },
  {
   "cell_type": "markdown",
   "metadata": {},
   "source": [
    "### keras.layers.Conv1D\n",
    "\n",
    "Keras sequential model and add a one-dimensional convolutional layer. \n",
    "\n",
    "The example below uses numpy recreating chunks **(window size)** and have the **'conv1d_filter'** slide over each chunk"
   ]
  },
  {
   "cell_type": "code",
   "execution_count": 154,
   "metadata": {},
   "outputs": [
    {
     "name": "stdout",
     "output_type": "stream",
     "text": [
      "[1 1 2] * [1 2 3] = [1 2 6]\n",
      "[1 2 4] * [1 2 3] = [ 1  4 12]\n",
      "[2 4 5] * [1 2 3] = [ 2  8 15]\n",
      "[4 5 6] * [1 2 3] = [ 4 10 18]\n",
      "[5 6 7] * [1 2 3] = [ 5 12 21]\n",
      "[6 7 1] * [1 2 3] = [ 6 14  3]\n",
      "[7 1 2] * [1 2 3] = [7 2 6]\n",
      "[1 2 3] * [1 2 3] = [1 4 9]\n",
      "[2 3 4] * [1 2 3] = [ 2  6 12]\n",
      "[3 4 5] * [1 2 3] = [ 3  8 15]\n",
      "Conv1d output [9, 17, 25, 32, 38, 23, 15, 14, 20, 26]\n"
     ]
    }
   ],
   "source": [
    "# 1D Convolution in Numpy\n",
    "\n",
    "conv1d_filter = np.array([1,2,3])\n",
    "data = np.array([1, 1, 2, 4, 5, 6, 7, 1, 2, 3, 4, 5])\n",
    "result = []\n",
    "\n",
    "for i in range(10):\n",
    "    print(data[i:i+3], \"*\", conv1d_filter, \"=\", data[i:i+3] * conv1d_filter)\n",
    "    result.append(np.sum(data[i:i+3] * conv1d_filter))\n",
    "    \n",
    "print(\"Conv1d output\", result)\n"
   ]
  },
  {
   "cell_type": "markdown",
   "metadata": {},
   "source": [
    "The input data is **12 items**. The 1D convolution slides a **size 3 window** across the data without padding. Thus, the **result is an array of 10 values**. In Keras/Tensorflow terminology I believe the input shape is (1, 12, 1) i.e. one sample of 12 items, each item having one channel (feature). The Convolution1D shape is (3, 1) i.e. 1 filter of size 3. [28]\n",
    "\n",
    "![keras.layers.Conv1D](https://raw.githubusercontent.com/DPR-droid/2022_09_Machine_Learning_and_Statistics/main/data/keras.layers.Conv1D?raw=true)"
   ]
  },
  {
   "cell_type": "code",
   "execution_count": 155,
   "metadata": {},
   "outputs": [
    {
     "name": "stdout",
     "output_type": "stream",
     "text": [
      "Conv1d output [9, 17, 25, 32, 38, 23, 15, 14, 20, 26]\n"
     ]
    }
   ],
   "source": [
    "# Printing Conv1d output value\n",
    "print(\"Conv1d output\", result)"
   ]
  },
  {
   "cell_type": "code",
   "execution_count": 175,
   "metadata": {},
   "outputs": [
    {
     "name": "stdout",
     "output_type": "stream",
     "text": [
      "Initial random guess conv weights [-0.9018159   0.79120326  0.77585363]\n"
     ]
    }
   ],
   "source": [
    "\n",
    "toyX = np.array([1, 1, 2, 4, 5, 6, 7, 1, 2, 3, 4, 5]).reshape(1,12,1)\n",
    "toyY = np.array([9, 17, 25, 32, 38, 23, 15, 14, 20, 26]).reshape(1,10,1)\n",
    "\n",
    "toy = keras.Sequential([\n",
    " keras.layers.Conv1D(filters=1, kernel_size=3, strides=1, padding='valid', use_bias=False, input_shape=(12,1), name='c1d', activation=\"relu\")\n",
    "])\n",
    "toy.compile(optimizer=keras.optimizers.Adam(learning_rate=0.001), loss='mae')\n",
    "\n",
    "#toy.summary()\n",
    "print(\"Initial random guess conv weights\", toy.layers[0].get_weights()[0].reshape(3,))\n"
   ]
  },
  {
   "cell_type": "code",
   "execution_count": 177,
   "metadata": {},
   "outputs": [
    {
     "name": "stdout",
     "output_type": "stream",
     "text": [
      "  0 [-0.7008185   0.9922007   0.97685105] \t {'loss': [16.67381477355957]}\n",
      " 20 [-0.68081874  1.0122012   0.9968508 ] \t {'loss': [16.481813430786133]}\n",
      " 40 [-0.660819   1.0322021  1.0168515] \t {'loss': [16.28980827331543]}\n",
      " 60 [-0.64081925  1.052203    1.0368525 ] \t {'loss': [16.09780502319336]}\n",
      " 80 [-0.6208195  1.072204   1.0568534] \t {'loss': [15.905797958374023]}\n",
      "100 [-0.60081977  1.0922049   1.0768543 ] \t {'loss': [15.71379280090332]}\n",
      "120 [-0.58082    1.1122059  1.0968553] \t {'loss': [15.5217866897583]}\n",
      "140 [-0.5608203  1.1322068  1.1168562] \t {'loss': [15.329780578613281]}\n",
      "160 [-0.54082054  1.1522077   1.1368572 ] \t {'loss': [15.137773513793945]}\n",
      "180 [-0.5208208  1.1722087  1.1568581] \t {'loss': [14.945768356323242]}\n",
      "200 [-0.500578   1.1922351  1.1769061] \t {'loss': [14.750091552734375]}\n",
      "220 [-0.47675422  1.212645    1.1976577 ] \t {'loss': [14.522096633911133]}\n",
      "240 [-0.4520797  1.2331557  1.218593 ] \t {'loss': [14.289706230163574]}\n",
      "260 [-0.4276141  1.2536526  1.2395009] \t {'loss': [14.058077812194824]}\n",
      "280 [-0.40344608  1.2741243   1.2603613 ] \t {'loss': [13.827672004699707]}\n",
      "300 [-0.379555   1.294571   1.2811757] \t {'loss': [13.598426818847656]}\n",
      "320 [-0.35591206  1.3149953   1.3019476 ] \t {'loss': [13.370223999023438]}\n",
      "340 [-0.33249173  1.3353986   1.3226805 ] \t {'loss': [13.142964363098145]}\n",
      "360 [-0.30927196  1.3557824   1.3433772 ] \t {'loss': [12.916559219360352]}\n",
      "380 [-0.28623384  1.3761483   1.3640407 ] \t {'loss': [12.690933227539062]}\n",
      "400 [-0.26336098  1.3964977   1.3846734 ] \t {'loss': [12.466014862060547]}\n",
      "420 [-0.24063909  1.4168315   1.4052773 ] \t {'loss': [12.241750717163086]}\n",
      "440 [-0.21805562  1.4371507   1.4258546 ] \t {'loss': [12.018086433410645]}\n",
      "460 [-0.19559959  1.4574565   1.4464074 ] \t {'loss': [11.794974327087402]}\n",
      "480 [-0.17326117  1.4777495   1.4669366 ] \t {'loss': [11.57237720489502]}\n",
      "500 [-0.15103158  1.4980307   1.4874439 ] \t {'loss': [11.350255966186523]}\n",
      "520 [-0.12890312  1.5183008   1.5079309 ] \t {'loss': [11.128580093383789]}\n",
      "540 [-0.1068688  1.5385604  1.5283984] \t {'loss': [10.907318115234375]}\n",
      "560 [-0.08492223  1.55881     1.5488479 ] \t {'loss': [10.686443328857422]}\n",
      "580 [-0.06305768  1.5790503   1.5692803 ] \t {'loss': [10.46593189239502]}\n",
      "600 [-0.04127004  1.5992817   1.5896964 ] \t {'loss': [10.245762825012207]}\n",
      "620 [-0.01955454  1.6195048   1.6100973 ] \t {'loss': [10.025912284851074]}\n",
      "640 [0.00209314 1.6397198  1.6304837 ] \t {'loss': [9.806365966796875]}\n",
      "660 [0.02367694 1.6599275  1.6508565 ] \t {'loss': [9.587102890014648]}\n",
      "680 [0.04520049 1.6801279  1.6712161 ] \t {'loss': [9.368110656738281]}\n",
      "700 [0.06666711 1.7003214  1.6915634 ] \t {'loss': [9.149373054504395]}\n",
      "720 [0.08807989 1.7205085  1.7118988 ] \t {'loss': [8.930877685546875]}\n",
      "740 [0.10944168 1.7406894  1.7322232 ] \t {'loss': [8.712610244750977]}\n",
      "760 [0.13075508 1.7608644  1.7525367 ] \t {'loss': [8.494562149047852]}\n",
      "780 [0.15202257 1.7810338  1.77284   ] \t {'loss': [8.276721000671387]}\n",
      "800 [0.1732464 1.8011976 1.7931335] \t {'loss': [8.059076309204102]}\n",
      "820 [0.19442871 1.8213563  1.8134177 ] \t {'loss': [7.841619968414307]}\n",
      "840 [0.21557143 1.84151    1.833693  ] \t {'loss': [7.624342441558838]}\n",
      "860 [0.23667645 1.861659   1.8539598 ] \t {'loss': [7.407236576080322]}\n",
      "880 [0.25774547 1.8818036  1.8742183 ] \t {'loss': [7.190293312072754]}\n",
      "900 [0.2787801 1.9019439 1.894469 ] \t {'loss': [6.973505973815918]}\n",
      "920 [0.29978186 1.9220798  1.9147122 ] \t {'loss': [6.756869316101074]}\n",
      "940 [0.32075214 1.9422117  1.9349481 ] \t {'loss': [6.540375709533691]}\n",
      "960 [0.34169227 1.96234    1.9551771 ] \t {'loss': [6.324018478393555]}\n",
      "980 [0.36260357 1.9824643  1.9753995 ] \t {'loss': [6.10779333114624]}\n",
      "1000 [0.3834872 2.002585  1.9956152] \t {'loss': [5.891695499420166]}\n",
      "1020 [0.4043443 2.0227027 2.015825 ] \t {'loss': [5.675717830657959]}\n",
      "1040 [0.4251759 2.0428162 2.0360289] \t {'loss': [5.459857940673828]}\n",
      "1060 [0.44598302 2.0629272  2.0562267 ] \t {'loss': [5.2441086769104]}\n",
      "1080 [0.46676666 2.0830355  2.076419  ] \t {'loss': [5.028467655181885]}\n",
      "1100 [0.48752758 2.1031396  2.0966063 ] \t {'loss': [4.81293249130249]}\n",
      "1120 [0.50826675 2.1232421  2.1167881 ] \t {'loss': [4.597494125366211]}\n",
      "1140 [0.5289849 2.1433408 2.1369653] \t {'loss': [4.382155895233154]}\n",
      "1160 [0.54968286 2.1634376  2.1571376 ] \t {'loss': [4.166906356811523]}\n",
      "1180 [0.5703614 2.1835315 2.1773052] \t {'loss': [3.9517486095428467]}\n",
      "1200 [0.59102106 2.2036228  2.1974683 ] \t {'loss': [3.736677646636963]}\n",
      "1220 [0.61166275 2.223712   2.217627  ] \t {'loss': [3.521688938140869]}\n",
      "1240 [0.63228685 2.2437987  2.2377818 ] \t {'loss': [3.3067805767059326]}\n",
      "1260 [0.6528941 2.263883  2.2579327] \t {'loss': [3.091949701309204]}\n",
      "1280 [0.6734851 2.2839658 2.278079 ] \t {'loss': [2.877194881439209]}\n",
      "1300 [0.69406027 2.3040454  2.2982216 ] \t {'loss': [2.6625168323516846]}\n",
      "1320 [0.7146202 2.3241248 2.3183608] \t {'loss': [2.447899580001831]}\n",
      "1340 [0.7333294 2.3422844 2.3382514] \t {'loss': [2.269679307937622]}\n",
      "1360 [0.74723595 2.3554385  2.3575056 ] \t {'loss': [2.1425259113311768]}\n",
      "1380 [0.7603934 2.3678093 2.3766675] \t {'loss': [2.0192952156066895]}\n",
      "1400 [0.7735415 2.3801682 2.3958359] \t {'loss': [1.8961387872695923]}\n",
      "1420 [0.7867705 2.3926098 2.4150217] \t {'loss': [1.7725868225097656]}\n",
      "1440 [0.8000905 2.4051435 2.4342263] \t {'loss': [1.6485916376113892]}\n",
      "1460 [0.81350213 2.4177725  2.4534492 ] \t {'loss': [1.5241453647613525]}\n",
      "1480 [0.8270046 2.430496  2.47269  ] \t {'loss': [1.399251937866211]}\n",
      "1500 [0.84059715 2.443311   2.4919481 ] \t {'loss': [1.273922324180603]}\n",
      "1520 [0.85427904 2.4562187  2.5112236 ] \t {'loss': [1.148154854774475]}\n",
      "1540 [0.8680493 2.4692183 2.5305152] \t {'loss': [1.0219573974609375]}\n",
      "1560 [0.8819072 2.4823086 2.5498233] \t {'loss': [0.8953342437744141]}\n",
      "1580 [0.8958519 2.4954891 2.569147 ] \t {'loss': [0.7682880163192749]}\n",
      "1600 [0.90988255 2.5087593  2.588486  ] \t {'loss': [0.6408263444900513]}\n",
      "1620 [0.92399836 2.5221183  2.6078396 ] \t {'loss': [0.5129526257514954]}\n",
      "1640 [0.9303303 2.5259638 2.6178582] \t {'loss': [0.49777498841285706]}\n",
      "1660 [0.92989266 2.5213664  2.6196172 ] \t {'loss': [0.4935094714164734]}\n",
      "1680 [0.9285581 2.515615  2.620307 ] \t {'loss': [0.48801669478416443]}\n",
      "1700 [0.92835975 2.5110824  2.622269  ] \t {'loss': [0.4835713505744934]}\n",
      "1720 [0.92873204 2.5071423  2.6248865 ] \t {'loss': [0.4799056053161621]}\n",
      "1740 [0.9293072 2.5033813 2.6277525] \t {'loss': [0.476290225982666]}\n",
      "1760 [0.9297827 2.4994597 2.6305337] \t {'loss': [0.4726734161376953]}\n",
      "1780 [0.93036735 2.4956112  2.6334605 ] \t {'loss': [0.46895846724510193]}\n",
      "1800 [0.930893  2.4916468 2.6363475] \t {'loss': [0.4652661383152008]}\n",
      "1820 [0.93148416 2.4877067  2.6393323 ] \t {'loss': [0.4614676535129547]}\n",
      "1840 [0.9320073 2.4836407 2.642267 ] \t {'loss': [0.4576686918735504]}\n",
      "1860 [0.932583  2.479583  2.6452854] \t {'loss': [0.45384055376052856]}\n",
      "1880 [0.93318933 2.475509   2.6483638 ] \t {'loss': [0.4499441087245941]}\n",
      "1900 [0.9337338 2.4713144 2.6513996] \t {'loss': [0.4460024833679199]}\n",
      "1920 [0.93433875 2.4671357  2.6545284 ] \t {'loss': [0.44204387068748474]}\n",
      "1940 [0.9349775 2.4629433 2.6577208] \t {'loss': [0.4380776286125183]}\n",
      "1960 [0.9355258 2.4585986 2.6608398] \t {'loss': [0.4339919984340668]}\n",
      "1980 [0.9361166 2.4542484 2.6640327] \t {'loss': [0.4298660159111023]}\n"
     ]
    }
   ],
   "source": [
    "for i in range(2000):\n",
    "  h = toy.fit(toyX, toyY, verbose=0)\n",
    "  if i%20 == 0:\n",
    "    print(\"{:3d} {} \\t {}\".format(i, toy.layers[0].get_weights()[0][:,0,0], h.history))"
   ]
  },
  {
   "cell_type": "markdown",
   "metadata": {},
   "source": [
    "### keras.layers.Dropout\n",
    "\n",
    "Dropout layers are important in training CNNs because they prevent overfitting on the training data. If they aren’t present, the first batch of training samples influences the learning in a disproportionately high manner. This, in turn, would prevent the learning of features that appear only in later samples or batches\n",
    "\n",
    "![withdropout.jpg](https://raw.githubusercontent.com/DPR-droid/2022_09_Machine_Learning_and_Statistics/main/data/withdropout.jpg?raw=true)\n",
    "\n",
    "![withoutdropout.jpg](https://raw.githubusercontent.com/DPR-droid/2022_09_Machine_Learning_and_Statistics/main/data/withoutdropout.jpg?raw=true)\n",
    "\n",
    "\n",
    "Say we show ten pictures of a circle, in succession, to a CNN during training. The CNN won’t learn that straight lines exist; as a consequence, it’ll be pretty confused if we later show it a picture of a square. We can prevent these cases by adding Dropout layers to the network’s architecture, in order to prevent overfitting. [29]\n",
    "\n",
    "\n",
    "### keras.layers.Conv1DTranspose\n",
    "\n",
    "The need for transposed convolutions generally arises from the desire to use a transformation going in the opposite direction of a normal convolution, i.e., from something that has the shape of the output of some convolution to something that has the shape of its input while maintaining a connectivity pattern that is compatible with said convolution"
   ]
  },
  {
   "cell_type": "code",
   "execution_count": 43,
   "metadata": {},
   "outputs": [],
   "source": [
    "# Create the layers\n",
    "layers = [\n",
    "\n",
    "    # Input layer specifies the sequence length (288) and features (1)\n",
    "    keras.layers.Input(shape=(x_train.shape[1], x_train.shape[2])),\n",
    "\n",
    "    # https://keras.io/api/layers/convolution_layers/convolution1d/\n",
    "    # https://shivapriya-katta.medium.com/time-series-forecasting-using-conv1d-lstm-multiple-timesteps-into-future-acc684dcaaa\n",
    "    keras.layers.Conv1D( filters=32, kernel_size=7, padding=\"same\", strides=2, activation=\"relu\"),\n",
    "\n",
    "    # https://keras.io/api/layers/regularization_layers/dropout/\n",
    "    # https://www.oreilly.com/library/view/machine-learning-for/9781786469878/252b7560-e262-49c4-9c8f-5b78d2eec420.xhtml\n",
    "    keras.layers.Dropout(rate=0.2),\n",
    "\n",
    "    # https://keras.io/api/layers/convolution_layers/convolution1d/\n",
    "    keras.layers.Conv1D(filters=16, kernel_size=7, padding=\"same\", strides=2, activation=\"relu\"),\n",
    "\n",
    "    # https://keras.io/api/layers/convolution_layers/convolution1d_transpose/ \n",
    "    # https://www.geeksforgeeks.org/python-tensorflow-tf-keras-layers-conv1dtranspose-function/\n",
    "    keras.layers.Conv1DTranspose(filters=16, kernel_size=7, padding=\"same\", strides=2, activation=\"relu\"),\n",
    "\n",
    "    # https://keras.io/api/layers/regularization_layers/dropout/\n",
    "    keras.layers.Dropout(rate=0.2),\n",
    "\n",
    "    # https://keras.io/api/layers/convolution_layers/convolution1d_transpose/\n",
    "    keras.layers.Conv1DTranspose(filters=32, kernel_size=7, padding=\"same\", strides=2, activation=\"relu\"),\n",
    "\n",
    "    # https://keras.io/api/layers/convolution_layers/convolution1d_transpose/\n",
    "    keras.layers.Conv1DTranspose(filters=1, kernel_size=7, padding=\"same\"),\n",
    "\n",
    "]"
   ]
  },
  {
   "cell_type": "code",
   "execution_count": null,
   "metadata": {},
   "outputs": [],
   "source": []
  },
  {
   "cell_type": "code",
   "execution_count": 44,
   "metadata": {},
   "outputs": [],
   "source": [
    "# https://www.tensorflow.org/tutorials/images/cnn\n",
    "# \n",
    "model = keras.Sequential(layers)"
   ]
  },
  {
   "cell_type": "code",
   "execution_count": 45,
   "metadata": {},
   "outputs": [],
   "source": [
    "# Explain keras.optimizers.Adam\n",
    "\n",
    "optimizer=keras.optimizers.Adam(learning_rate=0.001)"
   ]
  },
  {
   "cell_type": "code",
   "execution_count": 46,
   "metadata": {},
   "outputs": [],
   "source": [
    "model.compile(optimizer=optimizer, loss=\"mse\")"
   ]
  },
  {
   "cell_type": "code",
   "execution_count": 47,
   "metadata": {},
   "outputs": [
    {
     "name": "stdout",
     "output_type": "stream",
     "text": [
      "Model: \"sequential\"\n",
      "_________________________________________________________________\n",
      " Layer (type)                Output Shape              Param #   \n",
      "=================================================================\n",
      " conv1d (Conv1D)             (None, 144, 32)           256       \n",
      "                                                                 \n",
      " dropout (Dropout)           (None, 144, 32)           0         \n",
      "                                                                 \n",
      " conv1d_1 (Conv1D)           (None, 72, 16)            3600      \n",
      "                                                                 \n",
      " conv1d_transpose (Conv1DTra  (None, 144, 16)          1808      \n",
      " nspose)                                                         \n",
      "                                                                 \n",
      " dropout_1 (Dropout)         (None, 144, 16)           0         \n",
      "                                                                 \n",
      " conv1d_transpose_1 (Conv1DT  (None, 288, 32)          3616      \n",
      " ranspose)                                                       \n",
      "                                                                 \n",
      " conv1d_transpose_2 (Conv1DT  (None, 288, 1)           225       \n",
      " ranspose)                                                       \n",
      "                                                                 \n",
      "=================================================================\n",
      "Total params: 9,505\n",
      "Trainable params: 9,505\n",
      "Non-trainable params: 0\n",
      "_________________________________________________________________\n"
     ]
    }
   ],
   "source": [
    "# This is summary of the model created\n",
    "model.summary()"
   ]
  },
  {
   "cell_type": "markdown",
   "metadata": {},
   "source": [
    "## 2.7 Train the model\n",
    "Please note that we are using `x_train` as both the input and the output since this is a reconstruction model."
   ]
  },
  {
   "cell_type": "code",
   "execution_count": 48,
   "metadata": {},
   "outputs": [
    {
     "name": "stdout",
     "output_type": "stream",
     "text": [
      "Epoch 1/200\n",
      "27/27 [==============================] - 3s 92ms/step - loss: 0.4715 - val_loss: 0.0786\n",
      "Epoch 2/200\n",
      "27/27 [==============================] - 2s 86ms/step - loss: 0.0755 - val_loss: 0.0433\n",
      "Epoch 3/200\n",
      "27/27 [==============================] - 2s 82ms/step - loss: 0.0589 - val_loss: 0.0356\n",
      "Epoch 4/200\n",
      "27/27 [==============================] - 2s 82ms/step - loss: 0.0490 - val_loss: 0.0283\n",
      "Epoch 5/200\n",
      "27/27 [==============================] - 2s 81ms/step - loss: 0.0422 - val_loss: 0.0260\n",
      "Epoch 6/200\n",
      "27/27 [==============================] - 2s 82ms/step - loss: 0.0379 - val_loss: 0.0244\n",
      "Epoch 7/200\n",
      "27/27 [==============================] - 2s 66ms/step - loss: 0.0346 - val_loss: 0.0224\n",
      "Epoch 8/200\n",
      "27/27 [==============================] - 2s 92ms/step - loss: 0.0320 - val_loss: 0.0228\n",
      "Epoch 9/200\n",
      "27/27 [==============================] - 2s 87ms/step - loss: 0.0297 - val_loss: 0.0206\n",
      "Epoch 10/200\n",
      "27/27 [==============================] - 2s 77ms/step - loss: 0.0279 - val_loss: 0.0205\n",
      "Epoch 11/200\n",
      "27/27 [==============================] - 2s 87ms/step - loss: 0.0262 - val_loss: 0.0193\n",
      "Epoch 12/200\n",
      "27/27 [==============================] - 2s 86ms/step - loss: 0.0249 - val_loss: 0.0190\n",
      "Epoch 13/200\n",
      "27/27 [==============================] - 2s 81ms/step - loss: 0.0237 - val_loss: 0.0186\n",
      "Epoch 14/200\n",
      "27/27 [==============================] - 2s 85ms/step - loss: 0.0227 - val_loss: 0.0217\n",
      "Epoch 15/200\n",
      "27/27 [==============================] - 3s 109ms/step - loss: 0.0218 - val_loss: 0.0199\n",
      "Epoch 16/200\n",
      "27/27 [==============================] - 2s 85ms/step - loss: 0.0210 - val_loss: 0.0207\n",
      "Epoch 17/200\n",
      "27/27 [==============================] - 2s 83ms/step - loss: 0.0203 - val_loss: 0.0219\n",
      "Epoch 18/200\n",
      "27/27 [==============================] - 3s 96ms/step - loss: 0.0195 - val_loss: 0.0225\n"
     ]
    }
   ],
   "source": [
    "# Add NEW DR\n",
    "# training data and is the input and output model\n",
    "\n",
    "history = model.fit(\n",
    "    x_train,\n",
    "    x_train,\n",
    "    epochs=200,\n",
    "    batch_size=128,\n",
    "    validation_split=0.1,\n",
    "    callbacks=[\n",
    "        keras.callbacks.EarlyStopping(monitor=\"val_loss\", patience=5, mode=\"min\")\n",
    "    ],\n",
    ")\n"
   ]
  },
  {
   "cell_type": "code",
   "execution_count": null,
   "metadata": {},
   "outputs": [],
   "source": [
    "history.history[\"loss\"]"
   ]
  },
  {
   "cell_type": "code",
   "execution_count": null,
   "metadata": {},
   "outputs": [],
   "source": [
    "history.history[\"val_loss\"]"
   ]
  },
  {
   "cell_type": "markdown",
   "metadata": {},
   "source": [
    "Let's plot training and validation loss to see how the training went."
   ]
  },
  {
   "cell_type": "code",
   "execution_count": null,
   "metadata": {},
   "outputs": [],
   "source": [
    "# \n",
    "fig, ax = plt.subplots(figsize=(10, 6))\n",
    "# \n",
    "ax.plot(history.history[\"loss\"], label=\"Training Loss\")\n",
    "# \n",
    "ax.plot(history.history[\"val_loss\"], label=\"Validation Loss\")\n",
    "# \n",
    "ax.legend();"
   ]
  },
  {
   "cell_type": "markdown",
   "metadata": {},
   "source": [
    "## Detecting anomalies\n",
    "We will detect anomalies by determining how well our model can reconstruct\n",
    "the input data.\n",
    "1.   Find MAE loss on training samples.\n",
    "2.   Find max MAE loss value. This is the worst our model has performed trying\n",
    "to reconstruct a sample. We will make this the `threshold` for anomaly\n",
    "detection.\n",
    "3.   If the reconstruction loss for a sample is greater than this `threshold`\n",
    "value then we can infer that the model is seeing a pattern that it isn't\n",
    "familiar with. We will label this sample as an `anomaly`."
   ]
  },
  {
   "cell_type": "code",
   "execution_count": null,
   "metadata": {},
   "outputs": [],
   "source": [
    "# Get train MAE loss.\n",
    "x_train_pred = model.predict(x_train)"
   ]
  },
  {
   "cell_type": "code",
   "execution_count": null,
   "metadata": {},
   "outputs": [],
   "source": [
    "# Calculate loss...\n",
    "train_mae_loss = np.mean(np.abs(x_train_pred - x_train), axis=1)"
   ]
  },
  {
   "cell_type": "code",
   "execution_count": null,
   "metadata": {},
   "outputs": [],
   "source": [
    "# \n",
    "fig, ax = plt.subplots(figsize=(10, 6))\n",
    "# \n",
    "ax.hist(train_mae_loss, bins=50)\n",
    "# \n",
    "ax.set_xlabel(\"Train MAE loss\")\n",
    "#\n",
    "ax.set_ylabel(\"No of samples\");"
   ]
  },
  {
   "cell_type": "code",
   "execution_count": null,
   "metadata": {},
   "outputs": [],
   "source": [
    "# Get reconstruction loss threshold.\n",
    "threshold = np.max(train_mae_loss)\n",
    "\n",
    "# \n",
    "threshold"
   ]
  },
  {
   "cell_type": "markdown",
   "metadata": {},
   "source": [
    "### Compare recontruction\n",
    "Just for fun, let's see how our model has recontructed the first sample.\n",
    "This is the 288 timesteps from day 1 of our training dataset."
   ]
  },
  {
   "cell_type": "code",
   "execution_count": null,
   "metadata": {},
   "outputs": [],
   "source": [
    "# \n",
    "fig, ax = plt.subplots(figsize=(10, 6))\n",
    "\n",
    "# \n",
    "ax.plot(x_train[0])\n",
    "\n",
    "# \n",
    "ax.plot(x_train_pred[0]);"
   ]
  },
  {
   "cell_type": "code",
   "execution_count": null,
   "metadata": {},
   "outputs": [],
   "source": [
    "# \n",
    "df_test_value = (df_daily_jumpsup - train_mean) / train_std"
   ]
  },
  {
   "cell_type": "markdown",
   "metadata": {},
   "source": [
    "### Prepare test data\n",
    "\n"
   ]
  },
  {
   "cell_type": "code",
   "execution_count": null,
   "metadata": {},
   "outputs": [],
   "source": [
    "# \n",
    "fig, ax = plt.subplots(figsize=(10, 6))\n",
    "\n",
    "# \n",
    "df_test_value.plot(legend=False, ax=ax);"
   ]
  },
  {
   "cell_type": "code",
   "execution_count": null,
   "metadata": {},
   "outputs": [],
   "source": [
    "# Create sequences from test values.\n",
    "x_test = windows(df_test_value.values)\n",
    "\n",
    "x_test.shape"
   ]
  },
  {
   "cell_type": "code",
   "execution_count": null,
   "metadata": {},
   "outputs": [],
   "source": [
    "# \n",
    "x_test_pred = model.predict(x_test)"
   ]
  },
  {
   "cell_type": "code",
   "execution_count": null,
   "metadata": {},
   "outputs": [],
   "source": [
    "# \n",
    "test_mae_loss = np.mean(np.abs(x_test_pred - x_test), axis=1)\n",
    "\n",
    "test_mae_loss"
   ]
  },
  {
   "cell_type": "code",
   "execution_count": null,
   "metadata": {},
   "outputs": [],
   "source": [
    "# \n",
    "test_mae_loss = test_mae_loss.reshape((-1))\n",
    "\n",
    "test_mae_loss"
   ]
  },
  {
   "cell_type": "code",
   "execution_count": null,
   "metadata": {},
   "outputs": [],
   "source": [
    "# \n",
    "fig, ax = plt.subplots(figsize=(10, 6))\n",
    "\n",
    "#\n",
    "ax.hist(test_mae_loss, bins=50)\n",
    "\n",
    "# \n",
    "ax.set_xlabel(\"test MAE loss\")\n",
    "\n",
    "# \n",
    "ax.set_ylabel(\"No of samples\");"
   ]
  },
  {
   "cell_type": "markdown",
   "metadata": {},
   "source": [
    "## Plot anomalies\n",
    "We now know the samples of the data which are anomalies. With this, we will\n",
    "find the corresponding `timestamps` from the original test data. We will be\n",
    "using the following method to do that:\n",
    "Let's say time_steps = 3 and we have 10 training values. Our `x_train` will\n",
    "look like this:\n",
    "- 0, 1, 2\n",
    "- 1, 2, 3\n",
    "- 2, 3, 4\n",
    "- 3, 4, 5\n",
    "- 4, 5, 6\n",
    "- 5, 6, 7\n",
    "- 6, 7, 8\n",
    "- 7, 8, 9\n",
    "All except the initial and the final time_steps-1 data values, will appear in\n",
    "`time_steps` number of samples. So, if we know that the samples\n",
    "[(3, 4, 5), (4, 5, 6), (5, 6, 7)] are anomalies, we can say that the data point\n",
    "5 is an anomaly."
   ]
  },
  {
   "cell_type": "code",
   "execution_count": null,
   "metadata": {},
   "outputs": [],
   "source": [
    "# Detect all the samples which are anomalies.\n",
    "anomalies = test_mae_loss > threshold\n",
    "\n",
    "# NUmber of anomalies.\n",
    "np.sum(anomalies)"
   ]
  },
  {
   "cell_type": "code",
   "execution_count": null,
   "metadata": {},
   "outputs": [],
   "source": [
    "# data i is an anomaly if samples [(i - timesteps + 1) to (i)] are anomalies\n",
    "inds = []\n",
    "\n",
    "for i in range(window_size - 1, len(df_test_value) - window_size + 1):\n",
    "    if np.all(anomalies[i - window_size + 1 : i]):\n",
    "        inds.append(i)"
   ]
  },
  {
   "cell_type": "code",
   "execution_count": null,
   "metadata": {},
   "outputs": [],
   "source": [
    "# \n",
    "df_subset = df_daily_jumpsup.iloc[inds]"
   ]
  },
  {
   "cell_type": "code",
   "execution_count": null,
   "metadata": {},
   "outputs": [],
   "source": [
    "#\n",
    "fig, ax = plt.subplots(figsize=(10, 6))\n",
    "\n",
    "# \n",
    "df_daily_jumpsup.plot(legend=False, ax=ax)\n",
    "\n",
    "# \n",
    "df_subset.plot(legend=False, ax=ax, color=\"r\");"
   ]
  },
  {
   "cell_type": "markdown",
   "metadata": {},
   "source": [
    "<hr style=\"border-top: 1px solid rgb(0, 91, 94);\" />\n",
    "\n",
    "<h3>References</h3>\n",
    " \n",
    "[1] https://keras.io/examples/timeseries/timeseries_anomaly_detection/\n",
    "\n",
    "[2] https://towardsai.net/p/l/what-is-tensorflow-and-how-does-it-work\n",
    "\n",
    "[3] https://www.simplilearn.com/tutorials/deep-learning-tutorial/what-is-keras\n",
    "\n",
    "[4] https://github.com/ianmcloughlin/2223-S1-machine-learn-stats\n",
    "\n",
    "[5] https://www.geeksforgeeks.org/single-neuron-neural-network-python/\n",
    "\n",
    "[6] https://machinelearningmastery.com/autoencoder-for-classification/\n",
    "\n",
    "[7] https://analyticsindiamag.com/how-to-implement-convolutional-autoencoder-in-pytorch-with-cuda/\n",
    "\n",
    "[8] https://www.ncbi.nlm.nih.gov/pmc/articles/PMC9040363/\n",
    "\n",
    "[9] https://github.com/keras-team/keras/blob/master/README.md\n",
    "\n",
    "[10] https://www.numenta.com/resources/htm/numenta-anomoly-benchmark/\n",
    "\n",
    "[11] https://github.com/numenta/NAB\n",
    "\n",
    "[12] https://towardsdatascience.com/why-you-should-be-using-pandas-dataframes-for-keras-trainings-on-image-classification-problems-db220134cbc6\n",
    "\n",
    "[13] https://pandas.pydata.org/docs/reference/api/pandas.read_csv.html\n",
    "\n",
    "[14] https://pandas.pydata.org/docs/reference/api/pandas.DataFrame.describe.html\n",
    "\n",
    "[15] https://www.educative.io/answers/how-to-compare-two-dataframes-in-pandas\n",
    "\n",
    "[16] https://becominghuman.ai/what-does-feature-scaling-mean-when-to-normalize-data-and-when-to-standardize-data-c3de654405ed\n",
    "\n",
    "[17] https://www.naukri.com/learning/articles/normalization-and-standardization/\n",
    "\n",
    "[18] https://stackoverflow.com/questions/40347689/dataframe-describe-suppress-scientific-notation\n",
    "\n",
    "[19] https://techvidvan.com/tutorials/keras-layers/\n",
    "\n",
    "[20] https://keras.io/api/layers/core_layers/input/\n",
    "\n",
    "[21] https://ressources.labomedia.org/keras_input_explanation\n",
    "\n",
    "[22] https://www.activestate.com/resources/quick-reads/what-is-a-keras-model/\n",
    "\n",
    "[23] https://www.tutorialspoint.com/keras/keras_layers.htm\n",
    "\n",
    "[24] https://keras.io/api/layers/regularization_layers/dropout/\n",
    "\n",
    "[25] https://towardsdatascience.com/seaborn-pairplot-enhance-your-data-understanding-with-a-single-plot-bf2f44524b22\n",
    "\n",
    "[26] https://heartbeat.comet.ml/data-preprocessing-and-visualization-implications-for-your-machine-learning-model-8dfbaaa51423\n",
    "\n",
    "[27] https://jcsites.juniata.edu/faculty/rhodes/ml/datapreprocessing.htm\n",
    "\n",
    "[28] http://www.jussihuotari.com/2017/12/20/spell-out-convolution-1d-in-cnns/\n",
    "\n",
    "[29] https://www.baeldung.com/cs/ml-relu-dropout-layers\n",
    "\n",
    "[30] https://www.tensorflow.org/api_docs/python/tf/keras/layers/Conv1DTranspose\n",
    "\n",
    "<hr style=\"border-top: 1px solid rgb(0, 91, 94);\" />\n",
    "\n",
    "<h3>END</h3>"
   ]
  },
  {
   "cell_type": "markdown",
   "metadata": {},
   "source": [
    "https://keras.io/examples/timeseries/timeseries_anomaly_detection/\n",
    "\n",
    "https://www.kaggle.com/code/adithya44/anomaly-detection-with-time-series-forecasting\n",
    "\n",
    "https://www.google.com/search?client=firefox-b-d&q=time+series+anomaly+detection+kaggle\n",
    "\n",
    "https://www.google.com/search?client=firefox-b-d&q=Time+Series+anomaly+detection+using+Keras+explain&spell=1&sa=X&ved=2ahUKEwj3xLa67qT7AhX-RkEAHTSJDOoQBSgAegQIJBAB&biw=2560&bih=1287&dpr=1.5\n",
    "\n",
    "https://neptune.ai/blog/anomaly-detection-in-time-series\n",
    "\n",
    "https://www.google.com/search?client=firefox-b-d&q=examples+of+Time+Series+anomaly+detection+keras&spell=1&sa=X&ved=2ahUKEwjCgv3U7qT7AhWHWMAKHVNXA6MQBSgAegQIOhAB&biw=2560&bih=1287&dpr=1.5\n",
    "\n",
    "https://valueml.com/anomaly-detection-in-time-series-data-using-keras/\n",
    "\n",
    "https://towardsdatascience.com/time-series-of-price-anomaly-detection-with-lstm-11a12ba4f6d9\n",
    "\n",
    "https://huggingface.co/keras-io/timeseries-anomaly-detection?data=%7B%7D\n",
    "\n",
    "https://www.youtube.com/watch?v=H4J74KstHTE\n",
    "\n",
    "https://curiousily.com/posts/anomaly-detection-in-time-series-with-lstms-using-keras-in-python/\n"
   ]
  }
 ],
 "metadata": {
  "kernelspec": {
   "display_name": "Python 3.9.13 ('base')",
   "language": "python",
   "name": "python3"
  },
  "language_info": {
   "codemirror_mode": {
    "name": "ipython",
    "version": 3
   },
   "file_extension": ".py",
   "mimetype": "text/x-python",
   "name": "python",
   "nbconvert_exporter": "python",
   "pygments_lexer": "ipython3",
   "version": "3.9.13"
  },
  "orig_nbformat": 4,
  "vscode": {
   "interpreter": {
    "hash": "ad2bdc8ecc057115af97d19610ffacc2b4e99fae6737bb82f5d7fb13d2f2c186"
   }
  }
 },
 "nbformat": 4,
 "nbformat_minor": 2
}
